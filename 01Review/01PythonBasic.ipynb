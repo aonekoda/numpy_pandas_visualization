{
 "cells": [
  {
   "cell_type": "markdown",
   "metadata": {
    "colab_type": "text",
    "id": "raCVgtYPPiRl"
   },
   "source": [
    "# 파이썬 기본 문법 복습"
   ]
  },
  {
   "cell_type": "markdown",
   "metadata": {
    "colab_type": "text",
    "id": "I0VxNgsuPvYZ"
   },
   "source": [
    "### Q1 문자열 바꾸기\n",
    "다음과 같은 문자열이 있다.\n",
    "```\n",
    "a:b:c:d\n",
    "```\n",
    "문자열의 split와 join 함수를 사용하여 위 문자열을 다음과 같이 고치시오.\n",
    "```\n",
    "`a#b#c#d`\n",
    "```"
   ]
  },
  {
   "cell_type": "code",
   "execution_count": 0,
   "metadata": {
    "colab": {},
    "colab_type": "code",
    "id": "Nlm7szZzPK6Q"
   },
   "outputs": [],
   "source": []
  },
  {
   "cell_type": "markdown",
   "metadata": {
    "colab_type": "text",
    "id": "aRv_5CznQGjG"
   },
   "source": [
    "### Q2 딕셔너리 값 추출하기\n",
    "\n",
    "다음은 딕셔너리의 a에서 'C'라는 key에 해당하는 value를 출력하는 프로그램이다.\n",
    "```\n",
    ">>> a = {'A':90, 'B':80}\n",
    ">>> a['C']\n",
    "Traceback (most recent call last):\n",
    "  File \"<stdin>\", line 1, in <module>\n",
    "KeyError: 'C'\n",
    "```\n",
    "\n",
    "a 딕셔너리에는 'C'라는 key가 없으므로 위와 같은 오류가 발생한다. \n",
    "\n",
    "'C'에 해당하는 key 값이 없을 경우 오류 대신 70을 얻을 수 있도록 수정하시오.(힌트 get() 메소드)"
   ]
  },
  {
   "cell_type": "code",
   "execution_count": 0,
   "metadata": {
    "colab": {},
    "colab_type": "code",
    "id": "Yy9c272mQQE7"
   },
   "outputs": [],
   "source": []
  },
  {
   "cell_type": "markdown",
   "metadata": {
    "colab_type": "text",
    "id": "ZXwU6VL1ToC2"
   },
   "source": [
    "### Q3 리스트의 더하기와 extend 함수\n",
    "\n",
    "다음과 같은 리스트 a가 있다.\n",
    "```\n",
    ">>> a = [1, 2, 3]\n",
    ">>> a = a + [4,5]\n",
    ">>> a.extend([4, 5])\n",
    "```\n",
    "\n",
    "'+' 기호를 사용하여 더한 것과 extend한 것의 차이점이 있을까? 있다면 그 차이점을 설명하시오."
   ]
  },
  {
   "cell_type": "code",
   "execution_count": 0,
   "metadata": {
    "colab": {},
    "colab_type": "code",
    "id": "lt2NjzkvUIXh"
   },
   "outputs": [],
   "source": []
  },
  {
   "cell_type": "markdown",
   "metadata": {
    "colab_type": "text",
    "id": "CcFUiWawUIyN"
   },
   "source": [
    "### Q4 반복문\n",
    "\n",
    "1 ~ 10까지의 숫자에 대해 모두 더한 값을 출력하는 프로그램을 for 문을 사용하여 작성하시오.\n",
    "\n"
   ]
  },
  {
   "cell_type": "code",
   "execution_count": 0,
   "metadata": {
    "colab": {},
    "colab_type": "code",
    "id": "bMzR9P5gUctH"
   },
   "outputs": [],
   "source": []
  },
  {
   "cell_type": "markdown",
   "metadata": {
    "colab_type": "text",
    "id": "MruQJN5lUc2z"
   },
   "source": [
    "### Q5 반복문과 조건문\n",
    "\n",
    "1부터 30까지의 숫자 중 3의 배수만 출력하는 코드를 작성하시오."
   ]
  },
  {
   "cell_type": "code",
   "execution_count": 0,
   "metadata": {
    "colab": {},
    "colab_type": "code",
    "id": "7Ayuf4F0UowG"
   },
   "outputs": [],
   "source": []
  },
  {
   "cell_type": "markdown",
   "metadata": {
    "colab_type": "text",
    "id": "Skimr74MUsB6"
   },
   "source": [
    "### Q6 피보나치 함수\n",
    "\n",
    "첫 번째 항의 값이 0이고 두 번째 항의 값이 1일 때, 이후에 이어지는 항은 이전의 두 항을 더한 값으로 이루어지는 수열을 피보나치 수열이라고 한다.\n",
    "```\n",
    "0, 1, 1, 2, 3, 5, 8, 13, ...\n",
    "```\n",
    "입력을 정수 n으로 받았을 때, n 이하까지의 피보나치 수열을 출력하는 함수를 작성해 보자."
   ]
  },
  {
   "cell_type": "code",
   "execution_count": 0,
   "metadata": {
    "colab": {},
    "colab_type": "code",
    "id": "CkVZmMpyUyMu"
   },
   "outputs": [],
   "source": []
  },
  {
   "cell_type": "markdown",
   "metadata": {
    "colab_type": "text",
    "id": "hFm_LaDpU7lU"
   },
   "source": [
    "### Q7 반복문\n",
    "\n",
    " A 학급에 총 10명의 학생이 있다. 이 학생들의 중간고사 점수는 다음과 같다.\n",
    " ```\n",
    ">>> A = [70, 60, 55, 75, 95, 90, 80, 80, 85, 100]\n",
    "```\n",
    "for문을 이용하여 A 학급의 평균 점수를 구해보자.\n"
   ]
  },
  {
   "cell_type": "code",
   "execution_count": 0,
   "metadata": {
    "colab": {},
    "colab_type": "code",
    "id": "M3g6VV0vVJoR"
   },
   "outputs": [],
   "source": []
  },
  {
   "cell_type": "markdown",
   "metadata": {
    "colab_type": "text",
    "id": "QU6MBo0ZVJv8"
   },
   "source": [
    "### Q8 파일의 입출력 활용\n",
    "\n",
    "아래와 같이 이루어진 sample.txt 파일을 작성하라. (write 함수 사용)\n",
    "```\n",
    "70\n",
    "60\n",
    "55\n",
    "75\n",
    "95\n",
    "90\n",
    "80\n",
    "100\n",
    "```\n",
    "\n",
    "이제 sample.txt 파일의 숫자값을 모두 읽어 총합과 평균값을 구한 후 평균값을 \n",
    "result.txt라는 파일에 쓰는 프로그램을 작성해 보자.\n"
   ]
  },
  {
   "cell_type": "markdown",
   "metadata": {
    "colab_type": "text",
    "id": "uq7OXvV4Vtci"
   },
   "source": [
    "### Q9 리스트 총합 구하기\n",
    "\n",
    "다음은 A학급 학생의 점수를 나타내는 리스트이다. 다음 리스트에서 50점 이상 점수의 총합을 구하시오.\n",
    "```\n",
    "A = [20, 55, 67, 82, 45, 33, 90, 87, 100, 25]\n",
    "```"
   ]
  },
  {
   "cell_type": "code",
   "execution_count": 0,
   "metadata": {
    "colab": {},
    "colab_type": "code",
    "id": "s9-LyLuYV-41"
   },
   "outputs": [],
   "source": []
  },
  {
   "cell_type": "markdown",
   "metadata": {
    "colab_type": "text",
    "id": "KmIRZpXpV_EX"
   },
   "source": [
    "### Q10 list comprehension\n",
    "\n",
    "리스트 중에서 홀수에만 2를 곱하여 저장하는 다음 코드가 있다.\n",
    "```\n",
    "numbers = [1, 2, 3, 4, 5]\n",
    "result = []\n",
    "for n in numbers:\n",
    "    if n % 2 == 1:\n",
    "        result.append(n*2)\n",
    "```\n",
    "위 코드를 list comprehension를 사용하여 표현해 보자."
   ]
  },
  {
   "cell_type": "code",
   "execution_count": 0,
   "metadata": {
    "colab": {},
    "colab_type": "code",
    "id": "hfCjGRuZWkI1"
   },
   "outputs": [],
   "source": []
  }
 ],
 "metadata": {
  "colab": {
   "authorship_tag": "ABX9TyPVswQWDmQw2Jt5Xykb6BUv",
   "collapsed_sections": [],
   "name": "Exercise01.ipynb",
   "provenance": []
  },
  "kernelspec": {
   "display_name": "Python 3",
   "language": "python",
   "name": "python3"
  },
  "language_info": {
   "codemirror_mode": {
    "name": "ipython",
    "version": 3
   },
   "file_extension": ".py",
   "mimetype": "text/x-python",
   "name": "python",
   "nbconvert_exporter": "python",
   "pygments_lexer": "ipython3",
   "version": "3.7.6"
  }
 },
 "nbformat": 4,
 "nbformat_minor": 1
}
