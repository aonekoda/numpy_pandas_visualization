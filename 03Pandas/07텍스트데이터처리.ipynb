{
 "cells": [
  {
   "cell_type": "markdown",
   "metadata": {},
   "source": [
    "# 텍스트 데이터 처리\n",
    "\n",
    "* 텍스트 연산은 대부분 문자열 객체의 내장 메서드를 통해 간단하게 처리 할 수 있다. \n",
    "* 복잡한 형태의 패턴 매칭이나 텍스트 조작은 정규 표현식을 필요로 한다.\n",
    "* pandas는 배열 데이터 전체에 쉽게 정규 표현식을 적용할 수 있는 기능을 제공한다. \n"
   ]
  },
  {
   "cell_type": "code",
   "execution_count": 1,
   "metadata": {},
   "outputs": [],
   "source": [
    "import pandas as pd\n",
    "import numpy as np\n",
    "import re"
   ]
  },
  {
   "cell_type": "code",
   "execution_count": 2,
   "metadata": {},
   "outputs": [
    {
     "data": {
      "text/plain": [
       "'1.0.1'"
      ]
     },
     "execution_count": 2,
     "metadata": {},
     "output_type": "execute_result"
    }
   ],
   "source": [
    "pd.__version__"
   ]
  },
  {
   "cell_type": "markdown",
   "metadata": {},
   "source": [
    "## Series의 .str 속성 사용하기"
   ]
  },
  {
   "cell_type": "markdown",
   "metadata": {},
   "source": [
    "실습에 사용할 데이터 프레임을 생성한다."
   ]
  },
  {
   "cell_type": "code",
   "execution_count": 3,
   "metadata": {},
   "outputs": [
    {
     "data": {
      "text/html": [
       "<div>\n",
       "<style scoped>\n",
       "    .dataframe tbody tr th:only-of-type {\n",
       "        vertical-align: middle;\n",
       "    }\n",
       "\n",
       "    .dataframe tbody tr th {\n",
       "        vertical-align: top;\n",
       "    }\n",
       "\n",
       "    .dataframe thead th {\n",
       "        text-align: right;\n",
       "    }\n",
       "</style>\n",
       "<table border=\"1\" class=\"dataframe\">\n",
       "  <thead>\n",
       "    <tr style=\"text-align: right;\">\n",
       "      <th></th>\n",
       "      <th>email</th>\n",
       "    </tr>\n",
       "  </thead>\n",
       "  <tbody>\n",
       "    <tr>\n",
       "      <th>0</th>\n",
       "      <td>sunny@gmail.com</td>\n",
       "    </tr>\n",
       "    <tr>\n",
       "      <th>1</th>\n",
       "      <td>365@NAVER.COM</td>\n",
       "    </tr>\n",
       "    <tr>\n",
       "      <th>2</th>\n",
       "      <td>cinema@yahoo.co.kr</td>\n",
       "    </tr>\n",
       "  </tbody>\n",
       "</table>\n",
       "</div>"
      ],
      "text/plain": [
       "                email\n",
       "0     sunny@gmail.com\n",
       "1       365@NAVER.COM\n",
       "2  cinema@yahoo.co.kr"
      ]
     },
     "execution_count": 3,
     "metadata": {},
     "output_type": "execute_result"
    }
   ],
   "source": [
    "df = pd.DataFrame({'email':['sunny@gmail.com', \n",
    "                            '365@NAVER.COM', \n",
    "                            'cinema@yahoo.co.kr']})\n",
    "df"
   ]
  },
  {
   "cell_type": "markdown",
   "metadata": {},
   "source": [
    "### 앞, 뒤 공백 등을 제거\n",
    "\n",
    "* `str.strip()` : 앞 뒤 공백을 제거\n",
    "* `str.lstrip()` : 앞 공백을 제거\n",
    "* `str.lstrip()` : 뒤 공백을 제거"
   ]
  },
  {
   "cell_type": "code",
   "execution_count": 4,
   "metadata": {},
   "outputs": [],
   "source": [
    "df['email_strip']  = df['email'].str.strip()  # 앞 뒤 공백을 제거\n",
    "df['email_lstrip'] = df['email'].str.lstrip() # 앞 공백을 제거\n",
    "df['email_rstrip'] = df['email'].str.lstrip() # 뒤 공백을 제거"
   ]
  },
  {
   "cell_type": "code",
   "execution_count": 5,
   "metadata": {},
   "outputs": [
    {
     "data": {
      "text/html": [
       "<div>\n",
       "<style scoped>\n",
       "    .dataframe tbody tr th:only-of-type {\n",
       "        vertical-align: middle;\n",
       "    }\n",
       "\n",
       "    .dataframe tbody tr th {\n",
       "        vertical-align: top;\n",
       "    }\n",
       "\n",
       "    .dataframe thead th {\n",
       "        text-align: right;\n",
       "    }\n",
       "</style>\n",
       "<table border=\"1\" class=\"dataframe\">\n",
       "  <thead>\n",
       "    <tr style=\"text-align: right;\">\n",
       "      <th></th>\n",
       "      <th>email</th>\n",
       "      <th>email_strip</th>\n",
       "      <th>email_lstrip</th>\n",
       "      <th>email_rstrip</th>\n",
       "    </tr>\n",
       "  </thead>\n",
       "  <tbody>\n",
       "    <tr>\n",
       "      <th>0</th>\n",
       "      <td>sunny@gmail.com</td>\n",
       "      <td>sunny@gmail.com</td>\n",
       "      <td>sunny@gmail.com</td>\n",
       "      <td>sunny@gmail.com</td>\n",
       "    </tr>\n",
       "    <tr>\n",
       "      <th>1</th>\n",
       "      <td>365@NAVER.COM</td>\n",
       "      <td>365@NAVER.COM</td>\n",
       "      <td>365@NAVER.COM</td>\n",
       "      <td>365@NAVER.COM</td>\n",
       "    </tr>\n",
       "    <tr>\n",
       "      <th>2</th>\n",
       "      <td>cinema@yahoo.co.kr</td>\n",
       "      <td>cinema@yahoo.co.kr</td>\n",
       "      <td>cinema@yahoo.co.kr</td>\n",
       "      <td>cinema@yahoo.co.kr</td>\n",
       "    </tr>\n",
       "  </tbody>\n",
       "</table>\n",
       "</div>"
      ],
      "text/plain": [
       "                email         email_strip        email_lstrip  \\\n",
       "0     sunny@gmail.com     sunny@gmail.com     sunny@gmail.com   \n",
       "1       365@NAVER.COM       365@NAVER.COM       365@NAVER.COM   \n",
       "2  cinema@yahoo.co.kr  cinema@yahoo.co.kr  cinema@yahoo.co.kr   \n",
       "\n",
       "         email_rstrip  \n",
       "0     sunny@gmail.com  \n",
       "1       365@NAVER.COM  \n",
       "2  cinema@yahoo.co.kr  "
      ]
     },
     "execution_count": 5,
     "metadata": {},
     "output_type": "execute_result"
    }
   ],
   "source": [
    "df"
   ]
  },
  {
   "cell_type": "markdown",
   "metadata": {},
   "source": [
    "### Padding\n",
    " 패딩, 고정길이 데이터를 이용해야 하는경우 왼쪽 또는 오른쪽 또는 중앙에 놓고 패딩한다."
   ]
  },
  {
   "cell_type": "code",
   "execution_count": 6,
   "metadata": {},
   "outputs": [],
   "source": [
    "df = pd.DataFrame({'email':['sunny@gmail.com', \n",
    "                            '365@NAVER.COM', \n",
    "                            'cinema@yahoo.co.kr']})\n",
    "\n",
    "df['email_pad']    = df['email'].str.pad(width=20, side='left', fillchar='_') # 지정길이 패딩\n",
    "df['email_center'] = df['email'].str.center(width=20, fillchar='_') # 중앙놓고 지정길이 패딩\n",
    "df['email_ljust']  = df['email'].str.ljust(width=20, fillchar='_')  # 왼쪽놓고 지정길이 패딩\n",
    "df['email_rjust']  = df['email'].str.rjust(width=20, fillchar='_')  # 오른쪽놓고 지정길이 패딩\n",
    "df['email_zfill']  = df['email'].str.zfill(width=20)                # 지정길이 0패딩"
   ]
  },
  {
   "cell_type": "code",
   "execution_count": 7,
   "metadata": {},
   "outputs": [
    {
     "data": {
      "text/html": [
       "<div>\n",
       "<style scoped>\n",
       "    .dataframe tbody tr th:only-of-type {\n",
       "        vertical-align: middle;\n",
       "    }\n",
       "\n",
       "    .dataframe tbody tr th {\n",
       "        vertical-align: top;\n",
       "    }\n",
       "\n",
       "    .dataframe thead th {\n",
       "        text-align: right;\n",
       "    }\n",
       "</style>\n",
       "<table border=\"1\" class=\"dataframe\">\n",
       "  <thead>\n",
       "    <tr style=\"text-align: right;\">\n",
       "      <th></th>\n",
       "      <th>email</th>\n",
       "      <th>email_pad</th>\n",
       "      <th>email_center</th>\n",
       "      <th>email_ljust</th>\n",
       "      <th>email_rjust</th>\n",
       "      <th>email_zfill</th>\n",
       "    </tr>\n",
       "  </thead>\n",
       "  <tbody>\n",
       "    <tr>\n",
       "      <th>0</th>\n",
       "      <td>sunny@gmail.com</td>\n",
       "      <td>_____sunny@gmail.com</td>\n",
       "      <td>__sunny@gmail.com___</td>\n",
       "      <td>sunny@gmail.com_____</td>\n",
       "      <td>_____sunny@gmail.com</td>\n",
       "      <td>00000sunny@gmail.com</td>\n",
       "    </tr>\n",
       "    <tr>\n",
       "      <th>1</th>\n",
       "      <td>365@NAVER.COM</td>\n",
       "      <td>_______365@NAVER.COM</td>\n",
       "      <td>___365@NAVER.COM____</td>\n",
       "      <td>365@NAVER.COM_______</td>\n",
       "      <td>_______365@NAVER.COM</td>\n",
       "      <td>0000000365@NAVER.COM</td>\n",
       "    </tr>\n",
       "    <tr>\n",
       "      <th>2</th>\n",
       "      <td>cinema@yahoo.co.kr</td>\n",
       "      <td>__cinema@yahoo.co.kr</td>\n",
       "      <td>_cinema@yahoo.co.kr_</td>\n",
       "      <td>cinema@yahoo.co.kr__</td>\n",
       "      <td>__cinema@yahoo.co.kr</td>\n",
       "      <td>00cinema@yahoo.co.kr</td>\n",
       "    </tr>\n",
       "  </tbody>\n",
       "</table>\n",
       "</div>"
      ],
      "text/plain": [
       "                email             email_pad          email_center  \\\n",
       "0     sunny@gmail.com  _____sunny@gmail.com  __sunny@gmail.com___   \n",
       "1       365@NAVER.COM  _______365@NAVER.COM  ___365@NAVER.COM____   \n",
       "2  cinema@yahoo.co.kr  __cinema@yahoo.co.kr  _cinema@yahoo.co.kr_   \n",
       "\n",
       "            email_ljust           email_rjust           email_zfill  \n",
       "0  sunny@gmail.com_____  _____sunny@gmail.com  00000sunny@gmail.com  \n",
       "1  365@NAVER.COM_______  _______365@NAVER.COM  0000000365@NAVER.COM  \n",
       "2  cinema@yahoo.co.kr__  __cinema@yahoo.co.kr  00cinema@yahoo.co.kr  "
      ]
     },
     "execution_count": 7,
     "metadata": {},
     "output_type": "execute_result"
    }
   ],
   "source": [
    "df"
   ]
  },
  {
   "cell_type": "markdown",
   "metadata": {},
   "source": [
    "### Split\n",
    " 분할, 구분자를 이용하여 새로운 컬럼을 생성합니다.\n"
   ]
  },
  {
   "cell_type": "code",
   "execution_count": 8,
   "metadata": {},
   "outputs": [],
   "source": [
    "df = pd.DataFrame({'email':['sunny@gmail.com', \n",
    "                            '365@NAVER.COM', \n",
    "                            'cinema@yahoo.co.kr']})\n",
    "\n",
    "# split(): 구분자를 기준으로 n개로 나눈다, expand=True이면 여러 컬럼, False이면 1개 컬럼에 리스트\n",
    "df[['email_split_1','email_split_2']] = df['email'].str.split('@', n=1, expand=True)\n",
    "\n",
    "# rsplit(): split와 동일하며 우측부터 탐색하며 n개로 나눈다\n",
    "df['email_rsplit_1'] = df['email'].str.rsplit(pat='@')\n"
   ]
  },
  {
   "cell_type": "code",
   "execution_count": 9,
   "metadata": {},
   "outputs": [
    {
     "data": {
      "text/html": [
       "<div>\n",
       "<style scoped>\n",
       "    .dataframe tbody tr th:only-of-type {\n",
       "        vertical-align: middle;\n",
       "    }\n",
       "\n",
       "    .dataframe tbody tr th {\n",
       "        vertical-align: top;\n",
       "    }\n",
       "\n",
       "    .dataframe thead th {\n",
       "        text-align: right;\n",
       "    }\n",
       "</style>\n",
       "<table border=\"1\" class=\"dataframe\">\n",
       "  <thead>\n",
       "    <tr style=\"text-align: right;\">\n",
       "      <th></th>\n",
       "      <th>email</th>\n",
       "      <th>email_split_1</th>\n",
       "      <th>email_split_2</th>\n",
       "      <th>email_rsplit_1</th>\n",
       "    </tr>\n",
       "  </thead>\n",
       "  <tbody>\n",
       "    <tr>\n",
       "      <th>0</th>\n",
       "      <td>sunny@gmail.com</td>\n",
       "      <td>sunny</td>\n",
       "      <td>gmail.com</td>\n",
       "      <td>[sunny, gmail.com]</td>\n",
       "    </tr>\n",
       "    <tr>\n",
       "      <th>1</th>\n",
       "      <td>365@NAVER.COM</td>\n",
       "      <td>365</td>\n",
       "      <td>NAVER.COM</td>\n",
       "      <td>[365, NAVER.COM]</td>\n",
       "    </tr>\n",
       "    <tr>\n",
       "      <th>2</th>\n",
       "      <td>cinema@yahoo.co.kr</td>\n",
       "      <td>cinema</td>\n",
       "      <td>yahoo.co.kr</td>\n",
       "      <td>[cinema, yahoo.co.kr]</td>\n",
       "    </tr>\n",
       "  </tbody>\n",
       "</table>\n",
       "</div>"
      ],
      "text/plain": [
       "                email email_split_1 email_split_2         email_rsplit_1\n",
       "0     sunny@gmail.com         sunny     gmail.com     [sunny, gmail.com]\n",
       "1       365@NAVER.COM           365     NAVER.COM       [365, NAVER.COM]\n",
       "2  cinema@yahoo.co.kr        cinema   yahoo.co.kr  [cinema, yahoo.co.kr]"
      ]
     },
     "execution_count": 9,
     "metadata": {},
     "output_type": "execute_result"
    }
   ],
   "source": [
    "df"
   ]
  },
  {
   "cell_type": "markdown",
   "metadata": {},
   "source": [
    "### 대소문자 처리하기\n",
    "소문자, 대문자, 앞자리대문자, 소문자 대문자 뒤집기 한다."
   ]
  },
  {
   "cell_type": "code",
   "execution_count": 10,
   "metadata": {},
   "outputs": [],
   "source": [
    "df = pd.DataFrame({'email':['sunny@gmail.com', \n",
    "                            '365@NAVER.COM', \n",
    "                            'cinema@yahoo.co.kr']})\n",
    "\n",
    "df['email_lower']      = df['email'].str.lower()      # 모두 소문자로 변경\n",
    "df['email_upper']      = df['email'].str.upper()      # 모두 대문자로 변경\n",
    "df['email_capitalize'] = df['email'].str.capitalize() # 앞문자 대문자로 변경\n",
    "df['email_title']      = df['email'].str.title()      # 단위별 앞문자 대문자로 변경\n",
    "df['email_swapcase']   = df['email'].str.swapcase()   # 소문자는 대문자, 대문자는 소문자로 변경 \n"
   ]
  },
  {
   "cell_type": "code",
   "execution_count": 11,
   "metadata": {},
   "outputs": [
    {
     "data": {
      "text/html": [
       "<div>\n",
       "<style scoped>\n",
       "    .dataframe tbody tr th:only-of-type {\n",
       "        vertical-align: middle;\n",
       "    }\n",
       "\n",
       "    .dataframe tbody tr th {\n",
       "        vertical-align: top;\n",
       "    }\n",
       "\n",
       "    .dataframe thead th {\n",
       "        text-align: right;\n",
       "    }\n",
       "</style>\n",
       "<table border=\"1\" class=\"dataframe\">\n",
       "  <thead>\n",
       "    <tr style=\"text-align: right;\">\n",
       "      <th></th>\n",
       "      <th>email</th>\n",
       "      <th>email_lower</th>\n",
       "      <th>email_upper</th>\n",
       "      <th>email_capitalize</th>\n",
       "      <th>email_title</th>\n",
       "      <th>email_swapcase</th>\n",
       "    </tr>\n",
       "  </thead>\n",
       "  <tbody>\n",
       "    <tr>\n",
       "      <th>0</th>\n",
       "      <td>sunny@gmail.com</td>\n",
       "      <td>sunny@gmail.com</td>\n",
       "      <td>SUNNY@GMAIL.COM</td>\n",
       "      <td>Sunny@gmail.com</td>\n",
       "      <td>Sunny@Gmail.Com</td>\n",
       "      <td>SUNNY@GMAIL.COM</td>\n",
       "    </tr>\n",
       "    <tr>\n",
       "      <th>1</th>\n",
       "      <td>365@NAVER.COM</td>\n",
       "      <td>365@naver.com</td>\n",
       "      <td>365@NAVER.COM</td>\n",
       "      <td>365@naver.com</td>\n",
       "      <td>365@Naver.Com</td>\n",
       "      <td>365@naver.com</td>\n",
       "    </tr>\n",
       "    <tr>\n",
       "      <th>2</th>\n",
       "      <td>cinema@yahoo.co.kr</td>\n",
       "      <td>cinema@yahoo.co.kr</td>\n",
       "      <td>CINEMA@YAHOO.CO.KR</td>\n",
       "      <td>Cinema@yahoo.co.kr</td>\n",
       "      <td>Cinema@Yahoo.Co.Kr</td>\n",
       "      <td>CINEMA@YAHOO.CO.KR</td>\n",
       "    </tr>\n",
       "  </tbody>\n",
       "</table>\n",
       "</div>"
      ],
      "text/plain": [
       "                email         email_lower         email_upper  \\\n",
       "0     sunny@gmail.com     sunny@gmail.com     SUNNY@GMAIL.COM   \n",
       "1       365@NAVER.COM       365@naver.com       365@NAVER.COM   \n",
       "2  cinema@yahoo.co.kr  cinema@yahoo.co.kr  CINEMA@YAHOO.CO.KR   \n",
       "\n",
       "     email_capitalize         email_title      email_swapcase  \n",
       "0     Sunny@gmail.com     Sunny@Gmail.Com     SUNNY@GMAIL.COM  \n",
       "1       365@naver.com       365@Naver.Com       365@naver.com  \n",
       "2  Cinema@yahoo.co.kr  Cinema@Yahoo.Co.Kr  CINEMA@YAHOO.CO.KR  "
      ]
     },
     "execution_count": 11,
     "metadata": {},
     "output_type": "execute_result"
    }
   ],
   "source": [
    "df"
   ]
  },
  {
   "cell_type": "markdown",
   "metadata": {},
   "source": [
    "###  replace\n",
    "문자열을 다른 문자열로 대체한다."
   ]
  },
  {
   "cell_type": "code",
   "execution_count": 12,
   "metadata": {},
   "outputs": [],
   "source": [
    "df = pd.DataFrame({'email':['sunny@gmail.com', \n",
    "                            '365@NAVER.COM', \n",
    "                            'cinema@yahoo.co.kr']})\n",
    "\n",
    "# 입력 패턴 또는 글자를 대체, 예제에서는 .을 _로 변경\n",
    "df['email_replace']    = df['email'].str.replace(pat='.', repl='_', regex=False)"
   ]
  },
  {
   "cell_type": "code",
   "execution_count": 13,
   "metadata": {},
   "outputs": [
    {
     "data": {
      "text/html": [
       "<div>\n",
       "<style scoped>\n",
       "    .dataframe tbody tr th:only-of-type {\n",
       "        vertical-align: middle;\n",
       "    }\n",
       "\n",
       "    .dataframe tbody tr th {\n",
       "        vertical-align: top;\n",
       "    }\n",
       "\n",
       "    .dataframe thead th {\n",
       "        text-align: right;\n",
       "    }\n",
       "</style>\n",
       "<table border=\"1\" class=\"dataframe\">\n",
       "  <thead>\n",
       "    <tr style=\"text-align: right;\">\n",
       "      <th></th>\n",
       "      <th>email</th>\n",
       "      <th>email_replace</th>\n",
       "    </tr>\n",
       "  </thead>\n",
       "  <tbody>\n",
       "    <tr>\n",
       "      <th>0</th>\n",
       "      <td>sunny@gmail.com</td>\n",
       "      <td>sunny@gmail_com</td>\n",
       "    </tr>\n",
       "    <tr>\n",
       "      <th>1</th>\n",
       "      <td>365@NAVER.COM</td>\n",
       "      <td>365@NAVER_COM</td>\n",
       "    </tr>\n",
       "    <tr>\n",
       "      <th>2</th>\n",
       "      <td>cinema@yahoo.co.kr</td>\n",
       "      <td>cinema@yahoo_co_kr</td>\n",
       "    </tr>\n",
       "  </tbody>\n",
       "</table>\n",
       "</div>"
      ],
      "text/plain": [
       "                email       email_replace\n",
       "0     sunny@gmail.com     sunny@gmail_com\n",
       "1       365@NAVER.COM       365@NAVER_COM\n",
       "2  cinema@yahoo.co.kr  cinema@yahoo_co_kr"
      ]
     },
     "execution_count": 13,
     "metadata": {},
     "output_type": "execute_result"
    }
   ],
   "source": [
    "df"
   ]
  },
  {
   "cell_type": "markdown",
   "metadata": {},
   "source": [
    "### find, findall\n",
    "*  `find()` : 특정 문자열을 찾아서 문자열의 index를 리턴\n",
    "* `findall()` : 특정 문자열을 찾아서 찾은 문자열을 모두 리턴"
   ]
  },
  {
   "cell_type": "code",
   "execution_count": 14,
   "metadata": {},
   "outputs": [],
   "source": [
    "df = pd.DataFrame({'email':['sunny@gmail.com', \n",
    "                            '365@NAVER.COM', \n",
    "                            'cinema@yahoo.co.kr']})\n",
    "\n",
    "df['email_find']    = df['email'].str.find(sub='.')           # 왼쪽부터 sub값 검색후 위치반환\n",
    "df['email_findall'] = df['email'].str.findall(pat='[a-zA-Z]') # 찾은 모든 값 반환"
   ]
  },
  {
   "cell_type": "code",
   "execution_count": 15,
   "metadata": {},
   "outputs": [
    {
     "data": {
      "text/html": [
       "<div>\n",
       "<style scoped>\n",
       "    .dataframe tbody tr th:only-of-type {\n",
       "        vertical-align: middle;\n",
       "    }\n",
       "\n",
       "    .dataframe tbody tr th {\n",
       "        vertical-align: top;\n",
       "    }\n",
       "\n",
       "    .dataframe thead th {\n",
       "        text-align: right;\n",
       "    }\n",
       "</style>\n",
       "<table border=\"1\" class=\"dataframe\">\n",
       "  <thead>\n",
       "    <tr style=\"text-align: right;\">\n",
       "      <th></th>\n",
       "      <th>email</th>\n",
       "      <th>email_find</th>\n",
       "      <th>email_findall</th>\n",
       "    </tr>\n",
       "  </thead>\n",
       "  <tbody>\n",
       "    <tr>\n",
       "      <th>0</th>\n",
       "      <td>sunny@gmail.com</td>\n",
       "      <td>11</td>\n",
       "      <td>[s, u, n, n, y, g, m, a, i, l, c, o, m]</td>\n",
       "    </tr>\n",
       "    <tr>\n",
       "      <th>1</th>\n",
       "      <td>365@NAVER.COM</td>\n",
       "      <td>9</td>\n",
       "      <td>[N, A, V, E, R, C, O, M]</td>\n",
       "    </tr>\n",
       "    <tr>\n",
       "      <th>2</th>\n",
       "      <td>cinema@yahoo.co.kr</td>\n",
       "      <td>12</td>\n",
       "      <td>[c, i, n, e, m, a, y, a, h, o, o, c, o, k, r]</td>\n",
       "    </tr>\n",
       "  </tbody>\n",
       "</table>\n",
       "</div>"
      ],
      "text/plain": [
       "                email  email_find  \\\n",
       "0     sunny@gmail.com          11   \n",
       "1       365@NAVER.COM           9   \n",
       "2  cinema@yahoo.co.kr          12   \n",
       "\n",
       "                                   email_findall  \n",
       "0        [s, u, n, n, y, g, m, a, i, l, c, o, m]  \n",
       "1                       [N, A, V, E, R, C, O, M]  \n",
       "2  [c, i, n, e, m, a, y, a, h, o, o, c, o, k, r]  "
      ]
     },
     "execution_count": 15,
     "metadata": {},
     "output_type": "execute_result"
    }
   ],
   "source": [
    "df "
   ]
  },
  {
   "cell_type": "markdown",
   "metadata": {},
   "source": [
    "### get, slice \n",
    "문자열의 특정 위치의 값 또는 슬라이싱을 통해 자르거나 자른 내용을 치환합니다."
   ]
  },
  {
   "cell_type": "code",
   "execution_count": 16,
   "metadata": {},
   "outputs": [],
   "source": [
    "df = pd.DataFrame({'email':['sunny@gmail.com', \n",
    "                            '365@NAVER.COM', \n",
    "                            'cinema@yahoo.co.kr']})\n",
    "\n",
    "df['email_get'] = df['email'].str.get(i=0)    # 지정 위치값 반환\n",
    "df['email_slice'] = df['email'].str.slice(start=0, stop=5) # 인덱스 사이 값 반환\n"
   ]
  },
  {
   "cell_type": "code",
   "execution_count": 17,
   "metadata": {},
   "outputs": [
    {
     "data": {
      "text/html": [
       "<div>\n",
       "<style scoped>\n",
       "    .dataframe tbody tr th:only-of-type {\n",
       "        vertical-align: middle;\n",
       "    }\n",
       "\n",
       "    .dataframe tbody tr th {\n",
       "        vertical-align: top;\n",
       "    }\n",
       "\n",
       "    .dataframe thead th {\n",
       "        text-align: right;\n",
       "    }\n",
       "</style>\n",
       "<table border=\"1\" class=\"dataframe\">\n",
       "  <thead>\n",
       "    <tr style=\"text-align: right;\">\n",
       "      <th></th>\n",
       "      <th>email</th>\n",
       "      <th>email_get</th>\n",
       "      <th>email_slice</th>\n",
       "    </tr>\n",
       "  </thead>\n",
       "  <tbody>\n",
       "    <tr>\n",
       "      <th>0</th>\n",
       "      <td>sunny@gmail.com</td>\n",
       "      <td>s</td>\n",
       "      <td>sunny</td>\n",
       "    </tr>\n",
       "    <tr>\n",
       "      <th>1</th>\n",
       "      <td>365@NAVER.COM</td>\n",
       "      <td>3</td>\n",
       "      <td>365@N</td>\n",
       "    </tr>\n",
       "    <tr>\n",
       "      <th>2</th>\n",
       "      <td>cinema@yahoo.co.kr</td>\n",
       "      <td>c</td>\n",
       "      <td>cinem</td>\n",
       "    </tr>\n",
       "  </tbody>\n",
       "</table>\n",
       "</div>"
      ],
      "text/plain": [
       "                email email_get email_slice\n",
       "0     sunny@gmail.com         s       sunny\n",
       "1       365@NAVER.COM         3       365@N\n",
       "2  cinema@yahoo.co.kr         c       cinem"
      ]
     },
     "execution_count": 17,
     "metadata": {},
     "output_type": "execute_result"
    }
   ],
   "source": [
    "df"
   ]
  },
  {
   "cell_type": "markdown",
   "metadata": {},
   "source": [
    "### len, count\n",
    "* `len()` : 문자열의 길이를 리턴\n",
    "* `count()` : 패턴에 맞는 문자열의 개수를 리턴"
   ]
  },
  {
   "cell_type": "code",
   "execution_count": 18,
   "metadata": {},
   "outputs": [],
   "source": [
    "df = pd.DataFrame({'email':['sunny@gmail.com', \n",
    "                            '365@NAVER.COM', \n",
    "                            'cinema@yahoo.co.kr']})\n",
    "\n",
    "df['email_len']   = df['email'].str.len()              # 길이 반환\n",
    "df['email_count'] = df['email'].str.count(pat='[0-9]') # 문자열 중 패턴에 일치한 수 반환"
   ]
  },
  {
   "cell_type": "code",
   "execution_count": 19,
   "metadata": {},
   "outputs": [
    {
     "data": {
      "text/html": [
       "<div>\n",
       "<style scoped>\n",
       "    .dataframe tbody tr th:only-of-type {\n",
       "        vertical-align: middle;\n",
       "    }\n",
       "\n",
       "    .dataframe tbody tr th {\n",
       "        vertical-align: top;\n",
       "    }\n",
       "\n",
       "    .dataframe thead th {\n",
       "        text-align: right;\n",
       "    }\n",
       "</style>\n",
       "<table border=\"1\" class=\"dataframe\">\n",
       "  <thead>\n",
       "    <tr style=\"text-align: right;\">\n",
       "      <th></th>\n",
       "      <th>email</th>\n",
       "      <th>email_len</th>\n",
       "      <th>email_count</th>\n",
       "    </tr>\n",
       "  </thead>\n",
       "  <tbody>\n",
       "    <tr>\n",
       "      <th>0</th>\n",
       "      <td>sunny@gmail.com</td>\n",
       "      <td>15</td>\n",
       "      <td>0</td>\n",
       "    </tr>\n",
       "    <tr>\n",
       "      <th>1</th>\n",
       "      <td>365@NAVER.COM</td>\n",
       "      <td>13</td>\n",
       "      <td>3</td>\n",
       "    </tr>\n",
       "    <tr>\n",
       "      <th>2</th>\n",
       "      <td>cinema@yahoo.co.kr</td>\n",
       "      <td>18</td>\n",
       "      <td>0</td>\n",
       "    </tr>\n",
       "  </tbody>\n",
       "</table>\n",
       "</div>"
      ],
      "text/plain": [
       "                email  email_len  email_count\n",
       "0     sunny@gmail.com         15            0\n",
       "1       365@NAVER.COM         13            3\n",
       "2  cinema@yahoo.co.kr         18            0"
      ]
     },
     "execution_count": 19,
     "metadata": {},
     "output_type": "execute_result"
    }
   ],
   "source": [
    "df"
   ]
  },
  {
   "cell_type": "markdown",
   "metadata": {},
   "source": [
    "### 문자열의 타입 확인하기\n",
    "숫자, 알파벳, 소문자인지 대문자인지 등을 확인한다."
   ]
  },
  {
   "cell_type": "code",
   "execution_count": 20,
   "metadata": {},
   "outputs": [],
   "source": [
    "df = pd.DataFrame({'email':['sunny@gmail.com', \n",
    "                            '365@NAVER.COM', \n",
    "                            'cinema@yahoo.co.kr']})\n",
    "\n",
    "df['email_isalnum']   = df['email'].str.isalnum()   # 알파벳 또는 숫자로만 구성 여부\n",
    "df['email_isalpha']   = df['email'].str.isalpha()   # 알파벳으로만 구성 여부\n",
    "df['email_islower']   = df['email'].str.islower()   # 소문자로만 구성 여부\n",
    "df['email_isnumeric'] = df['email'].str.isnumeric() # 숫자문자로만 구성 여부\n",
    "df['email_isspace']   = df['email'].str.isspace()   # 공백(Whitespace)으로만 구성 여부\n",
    "df['email_istitle']   = df['email'].str.istitle()   # TitleCase형태로 구성 여부\n",
    "df['email_isupper']   = df['email'].str.isupper()   # 대문자로만 구성 여부"
   ]
  },
  {
   "cell_type": "code",
   "execution_count": 21,
   "metadata": {},
   "outputs": [
    {
     "data": {
      "text/html": [
       "<div>\n",
       "<style scoped>\n",
       "    .dataframe tbody tr th:only-of-type {\n",
       "        vertical-align: middle;\n",
       "    }\n",
       "\n",
       "    .dataframe tbody tr th {\n",
       "        vertical-align: top;\n",
       "    }\n",
       "\n",
       "    .dataframe thead th {\n",
       "        text-align: right;\n",
       "    }\n",
       "</style>\n",
       "<table border=\"1\" class=\"dataframe\">\n",
       "  <thead>\n",
       "    <tr style=\"text-align: right;\">\n",
       "      <th></th>\n",
       "      <th>email</th>\n",
       "      <th>email_isalnum</th>\n",
       "      <th>email_isalpha</th>\n",
       "      <th>email_islower</th>\n",
       "      <th>email_isnumeric</th>\n",
       "      <th>email_isspace</th>\n",
       "      <th>email_istitle</th>\n",
       "      <th>email_isupper</th>\n",
       "    </tr>\n",
       "  </thead>\n",
       "  <tbody>\n",
       "    <tr>\n",
       "      <th>0</th>\n",
       "      <td>sunny@gmail.com</td>\n",
       "      <td>False</td>\n",
       "      <td>False</td>\n",
       "      <td>True</td>\n",
       "      <td>False</td>\n",
       "      <td>False</td>\n",
       "      <td>False</td>\n",
       "      <td>False</td>\n",
       "    </tr>\n",
       "    <tr>\n",
       "      <th>1</th>\n",
       "      <td>365@NAVER.COM</td>\n",
       "      <td>False</td>\n",
       "      <td>False</td>\n",
       "      <td>False</td>\n",
       "      <td>False</td>\n",
       "      <td>False</td>\n",
       "      <td>False</td>\n",
       "      <td>True</td>\n",
       "    </tr>\n",
       "    <tr>\n",
       "      <th>2</th>\n",
       "      <td>cinema@yahoo.co.kr</td>\n",
       "      <td>False</td>\n",
       "      <td>False</td>\n",
       "      <td>True</td>\n",
       "      <td>False</td>\n",
       "      <td>False</td>\n",
       "      <td>False</td>\n",
       "      <td>False</td>\n",
       "    </tr>\n",
       "  </tbody>\n",
       "</table>\n",
       "</div>"
      ],
      "text/plain": [
       "                email  email_isalnum  email_isalpha  email_islower  \\\n",
       "0     sunny@gmail.com          False          False           True   \n",
       "1       365@NAVER.COM          False          False          False   \n",
       "2  cinema@yahoo.co.kr          False          False           True   \n",
       "\n",
       "   email_isnumeric  email_isspace  email_istitle  email_isupper  \n",
       "0            False          False          False          False  \n",
       "1            False          False          False           True  \n",
       "2            False          False          False          False  "
      ]
     },
     "execution_count": 21,
     "metadata": {},
     "output_type": "execute_result"
    }
   ],
   "source": [
    "df"
   ]
  },
  {
   "cell_type": "markdown",
   "metadata": {},
   "source": [
    "### 패턴 일치 확인하기\n",
    "\n",
    "문자열의 시작 값 또는 종료 값 또는 특정 패턴과 일치하는 경우를 찾아낸다.\n",
    "\n",
    "* `startswith()` : 특정 문자열로 시작 여부\n",
    "* `endswith()` : 특정 문자열로 종료 여부\n",
    "* `contains()` : 특정 문자열을 포함 여부\n",
    "* `match()` : 특정 패턴과 일치하는지 여부"
   ]
  },
  {
   "cell_type": "code",
   "execution_count": 29,
   "metadata": {},
   "outputs": [],
   "source": [
    "df = pd.DataFrame({'email':['sunny@gmail.com', \n",
    "                            '365@NAVER.COM', \n",
    "                            'cinema@yahoo.co.kr']})\n",
    "\n",
    "df['email_startswith'] = df['email'].str.startswith(pat='s')     # 시작값이 입력패턴과 일치 여부\n",
    "df['email_endswith']   = df['email'].str.endswith(pat='com')     # 종료값이 입력패턴과 일치 여부\n",
    "df['email_contains']   = df['email'].str.contains(pat='kr', regex=False) # 값 중 패턴포함 여부\n",
    "df['email_match']      = df['email'].str.match(pat='[a-zA-Z@.]') # 입력패턴과 일치 여부"
   ]
  },
  {
   "cell_type": "code",
   "execution_count": 30,
   "metadata": {},
   "outputs": [
    {
     "data": {
      "text/html": [
       "<div>\n",
       "<style scoped>\n",
       "    .dataframe tbody tr th:only-of-type {\n",
       "        vertical-align: middle;\n",
       "    }\n",
       "\n",
       "    .dataframe tbody tr th {\n",
       "        vertical-align: top;\n",
       "    }\n",
       "\n",
       "    .dataframe thead th {\n",
       "        text-align: right;\n",
       "    }\n",
       "</style>\n",
       "<table border=\"1\" class=\"dataframe\">\n",
       "  <thead>\n",
       "    <tr style=\"text-align: right;\">\n",
       "      <th></th>\n",
       "      <th>email</th>\n",
       "      <th>email_startswith</th>\n",
       "      <th>email_endswith</th>\n",
       "      <th>email_contains</th>\n",
       "      <th>email_match</th>\n",
       "    </tr>\n",
       "  </thead>\n",
       "  <tbody>\n",
       "    <tr>\n",
       "      <th>0</th>\n",
       "      <td>sunny@gmail.com</td>\n",
       "      <td>True</td>\n",
       "      <td>True</td>\n",
       "      <td>False</td>\n",
       "      <td>True</td>\n",
       "    </tr>\n",
       "    <tr>\n",
       "      <th>1</th>\n",
       "      <td>365@NAVER.COM</td>\n",
       "      <td>False</td>\n",
       "      <td>False</td>\n",
       "      <td>False</td>\n",
       "      <td>False</td>\n",
       "    </tr>\n",
       "    <tr>\n",
       "      <th>2</th>\n",
       "      <td>cinema@yahoo.co.kr</td>\n",
       "      <td>False</td>\n",
       "      <td>False</td>\n",
       "      <td>True</td>\n",
       "      <td>True</td>\n",
       "    </tr>\n",
       "  </tbody>\n",
       "</table>\n",
       "</div>"
      ],
      "text/plain": [
       "                email  email_startswith  email_endswith  email_contains  \\\n",
       "0     sunny@gmail.com              True            True           False   \n",
       "1       365@NAVER.COM             False           False           False   \n",
       "2  cinema@yahoo.co.kr             False           False            True   \n",
       "\n",
       "   email_match  \n",
       "0         True  \n",
       "1        False  \n",
       "2         True  "
      ]
     },
     "execution_count": 30,
     "metadata": {},
     "output_type": "execute_result"
    }
   ],
   "source": [
    "df"
   ]
  },
  {
   "cell_type": "markdown",
   "metadata": {},
   "source": [
    "### 특정 문자열의 추출하기\n",
    "\n",
    "정규식을 사용하여 매치되는 문자열을 추출할 수 있다."
   ]
  },
  {
   "cell_type": "code",
   "execution_count": 24,
   "metadata": {},
   "outputs": [
    {
     "data": {
      "text/plain": [
       "Dave     dave@google.com\n",
       "Steve    steve@gmail.com\n",
       "Rob        rob@gmail.com\n",
       "Wes                  NaN\n",
       "dtype: object"
      ]
     },
     "execution_count": 24,
     "metadata": {},
     "output_type": "execute_result"
    }
   ],
   "source": [
    "data = {'Dave': 'dave@google.com', 'Steve': 'steve@gmail.com','Rob': 'rob@gmail.com', 'Wes': np.nan}\n",
    "data = pd.Series(data)\n",
    "data"
   ]
  },
  {
   "cell_type": "code",
   "execution_count": 25,
   "metadata": {},
   "outputs": [
    {
     "data": {
      "text/plain": [
       "Dave     False\n",
       "Steve     True\n",
       "Rob       True\n",
       "Wes        NaN\n",
       "dtype: object"
      ]
     },
     "execution_count": 25,
     "metadata": {},
     "output_type": "execute_result"
    }
   ],
   "source": [
    "# 특정 문자열을 포함하는지 여부를 판단한다.\n",
    "data.str.contains('gmail')"
   ]
  },
  {
   "cell_type": "code",
   "execution_count": 26,
   "metadata": {},
   "outputs": [],
   "source": [
    "# 특정 패턴을 정규식으로 표현할 수 있다.\n",
    "pattern = '([A-Z0-9._%+-]+)@([A-Z0-9.-]+)\\\\.([A-Z]{2,4})'"
   ]
  },
  {
   "cell_type": "code",
   "execution_count": 27,
   "metadata": {},
   "outputs": [
    {
     "data": {
      "text/html": [
       "<div>\n",
       "<style scoped>\n",
       "    .dataframe tbody tr th:only-of-type {\n",
       "        vertical-align: middle;\n",
       "    }\n",
       "\n",
       "    .dataframe tbody tr th {\n",
       "        vertical-align: top;\n",
       "    }\n",
       "\n",
       "    .dataframe thead th {\n",
       "        text-align: right;\n",
       "    }\n",
       "</style>\n",
       "<table border=\"1\" class=\"dataframe\">\n",
       "  <thead>\n",
       "    <tr style=\"text-align: right;\">\n",
       "      <th></th>\n",
       "      <th>0</th>\n",
       "      <th>1</th>\n",
       "      <th>2</th>\n",
       "    </tr>\n",
       "  </thead>\n",
       "  <tbody>\n",
       "    <tr>\n",
       "      <th>Dave</th>\n",
       "      <td>dave</td>\n",
       "      <td>google</td>\n",
       "      <td>com</td>\n",
       "    </tr>\n",
       "    <tr>\n",
       "      <th>Steve</th>\n",
       "      <td>steve</td>\n",
       "      <td>gmail</td>\n",
       "      <td>com</td>\n",
       "    </tr>\n",
       "    <tr>\n",
       "      <th>Rob</th>\n",
       "      <td>rob</td>\n",
       "      <td>gmail</td>\n",
       "      <td>com</td>\n",
       "    </tr>\n",
       "    <tr>\n",
       "      <th>Wes</th>\n",
       "      <td>NaN</td>\n",
       "      <td>NaN</td>\n",
       "      <td>NaN</td>\n",
       "    </tr>\n",
       "  </tbody>\n",
       "</table>\n",
       "</div>"
      ],
      "text/plain": [
       "           0       1    2\n",
       "Dave    dave  google  com\n",
       "Steve  steve   gmail  com\n",
       "Rob      rob   gmail  com\n",
       "Wes      NaN     NaN  NaN"
      ]
     },
     "execution_count": 27,
     "metadata": {},
     "output_type": "execute_result"
    }
   ],
   "source": [
    "# 특정 패턴을 만족하는 문자열을 추출한다.\n",
    "data.str.extract(pattern, flags=re.IGNORECASE)"
   ]
  },
  {
   "cell_type": "code",
   "execution_count": 28,
   "metadata": {},
   "outputs": [
    {
     "data": {
      "text/plain": [
       "Dave      dave\n",
       "Steve    steve\n",
       "Rob        rob\n",
       "Wes        NaN\n",
       "Name: 0, dtype: object"
      ]
     },
     "execution_count": 28,
     "metadata": {},
     "output_type": "execute_result"
    }
   ],
   "source": [
    "# 특정 패턴의 특정 요소를 index로 access\n",
    "data.str.extract(pattern, flags=re.IGNORECASE).get(0)"
   ]
  },
  {
   "cell_type": "markdown",
   "metadata": {},
   "source": [
    "# 실습하기\n",
    "\n",
    "titanic 파일을 읽어 들이고 다음의 실습 문제를 해결하시오."
   ]
  },
  {
   "cell_type": "code",
   "execution_count": 31,
   "metadata": {},
   "outputs": [
    {
     "data": {
      "text/html": [
       "<div>\n",
       "<style scoped>\n",
       "    .dataframe tbody tr th:only-of-type {\n",
       "        vertical-align: middle;\n",
       "    }\n",
       "\n",
       "    .dataframe tbody tr th {\n",
       "        vertical-align: top;\n",
       "    }\n",
       "\n",
       "    .dataframe thead th {\n",
       "        text-align: right;\n",
       "    }\n",
       "</style>\n",
       "<table border=\"1\" class=\"dataframe\">\n",
       "  <thead>\n",
       "    <tr style=\"text-align: right;\">\n",
       "      <th></th>\n",
       "      <th>PassengerId</th>\n",
       "      <th>Survived</th>\n",
       "      <th>Pclass</th>\n",
       "      <th>Name</th>\n",
       "      <th>Sex</th>\n",
       "      <th>Age</th>\n",
       "      <th>SibSp</th>\n",
       "      <th>Parch</th>\n",
       "      <th>Ticket</th>\n",
       "      <th>Fare</th>\n",
       "      <th>Cabin</th>\n",
       "      <th>Embarked</th>\n",
       "    </tr>\n",
       "  </thead>\n",
       "  <tbody>\n",
       "    <tr>\n",
       "      <th>0</th>\n",
       "      <td>1</td>\n",
       "      <td>0</td>\n",
       "      <td>3</td>\n",
       "      <td>Braund, Mr. Owen Harris</td>\n",
       "      <td>male</td>\n",
       "      <td>22.0</td>\n",
       "      <td>1</td>\n",
       "      <td>0</td>\n",
       "      <td>A/5 21171</td>\n",
       "      <td>7.2500</td>\n",
       "      <td>NaN</td>\n",
       "      <td>S</td>\n",
       "    </tr>\n",
       "    <tr>\n",
       "      <th>1</th>\n",
       "      <td>2</td>\n",
       "      <td>1</td>\n",
       "      <td>1</td>\n",
       "      <td>Cumings, Mrs. John Bradley (Florence Briggs Th...</td>\n",
       "      <td>female</td>\n",
       "      <td>38.0</td>\n",
       "      <td>1</td>\n",
       "      <td>0</td>\n",
       "      <td>PC 17599</td>\n",
       "      <td>71.2833</td>\n",
       "      <td>C85</td>\n",
       "      <td>C</td>\n",
       "    </tr>\n",
       "    <tr>\n",
       "      <th>2</th>\n",
       "      <td>3</td>\n",
       "      <td>1</td>\n",
       "      <td>3</td>\n",
       "      <td>Heikkinen, Miss. Laina</td>\n",
       "      <td>female</td>\n",
       "      <td>26.0</td>\n",
       "      <td>0</td>\n",
       "      <td>0</td>\n",
       "      <td>STON/O2. 3101282</td>\n",
       "      <td>7.9250</td>\n",
       "      <td>NaN</td>\n",
       "      <td>S</td>\n",
       "    </tr>\n",
       "    <tr>\n",
       "      <th>3</th>\n",
       "      <td>4</td>\n",
       "      <td>1</td>\n",
       "      <td>1</td>\n",
       "      <td>Futrelle, Mrs. Jacques Heath (Lily May Peel)</td>\n",
       "      <td>female</td>\n",
       "      <td>35.0</td>\n",
       "      <td>1</td>\n",
       "      <td>0</td>\n",
       "      <td>113803</td>\n",
       "      <td>53.1000</td>\n",
       "      <td>C123</td>\n",
       "      <td>S</td>\n",
       "    </tr>\n",
       "    <tr>\n",
       "      <th>4</th>\n",
       "      <td>5</td>\n",
       "      <td>0</td>\n",
       "      <td>3</td>\n",
       "      <td>Allen, Mr. William Henry</td>\n",
       "      <td>male</td>\n",
       "      <td>35.0</td>\n",
       "      <td>0</td>\n",
       "      <td>0</td>\n",
       "      <td>373450</td>\n",
       "      <td>8.0500</td>\n",
       "      <td>NaN</td>\n",
       "      <td>S</td>\n",
       "    </tr>\n",
       "  </tbody>\n",
       "</table>\n",
       "</div>"
      ],
      "text/plain": [
       "   PassengerId  Survived  Pclass  \\\n",
       "0            1         0       3   \n",
       "1            2         1       1   \n",
       "2            3         1       3   \n",
       "3            4         1       1   \n",
       "4            5         0       3   \n",
       "\n",
       "                                                Name     Sex   Age  SibSp  \\\n",
       "0                            Braund, Mr. Owen Harris    male  22.0      1   \n",
       "1  Cumings, Mrs. John Bradley (Florence Briggs Th...  female  38.0      1   \n",
       "2                             Heikkinen, Miss. Laina  female  26.0      0   \n",
       "3       Futrelle, Mrs. Jacques Heath (Lily May Peel)  female  35.0      1   \n",
       "4                           Allen, Mr. William Henry    male  35.0      0   \n",
       "\n",
       "   Parch            Ticket     Fare Cabin Embarked  \n",
       "0      0         A/5 21171   7.2500   NaN        S  \n",
       "1      0          PC 17599  71.2833   C85        C  \n",
       "2      0  STON/O2. 3101282   7.9250   NaN        S  \n",
       "3      0            113803  53.1000  C123        S  \n",
       "4      0            373450   8.0500   NaN        S  "
      ]
     },
     "execution_count": 31,
     "metadata": {},
     "output_type": "execute_result"
    }
   ],
   "source": [
    "titanic = pd.read_csv('../data/titanic.csv')\n",
    "titanic.head()"
   ]
  },
  {
   "cell_type": "markdown",
   "metadata": {},
   "source": [
    "**문제1**  \n",
    "Name 컬럼을 소문자로 변경하여 출력하시오."
   ]
  },
  {
   "cell_type": "code",
   "execution_count": null,
   "metadata": {},
   "outputs": [],
   "source": []
  },
  {
   "cell_type": "markdown",
   "metadata": {},
   "source": [
    "**문제2**  \n",
    "Embarked 컬럼을 다음과 같이 변경하여 출력하시오. \n",
    "* C = Cherbourg\n",
    "* Q = Queenstown\n",
    "* S = Southampton\n"
   ]
  },
  {
   "cell_type": "code",
   "execution_count": null,
   "metadata": {},
   "outputs": [],
   "source": []
  },
  {
   "cell_type": "markdown",
   "metadata": {},
   "source": [
    "**문제3**  \n",
    "Name 컬럼에서 이름(first name)부분만 출력하시오."
   ]
  },
  {
   "cell_type": "code",
   "execution_count": null,
   "metadata": {},
   "outputs": [],
   "source": []
  },
  {
   "cell_type": "markdown",
   "metadata": {},
   "source": [
    "**문제 4**  \n",
    "데이터에서 제공되는 승객들의 이름에는 Title이 존재한다. 예를 들면, Heikkinen, Miss. Laina라는 이름에는 Miss라는 Title이 있다. Name에서 title 부분만 추출하시오."
   ]
  },
  {
   "cell_type": "code",
   "execution_count": null,
   "metadata": {},
   "outputs": [],
   "source": []
  }
 ],
 "metadata": {
  "kernelspec": {
   "display_name": "Python 3",
   "language": "python",
   "name": "python3"
  },
  "language_info": {
   "codemirror_mode": {
    "name": "ipython",
    "version": 3
   },
   "file_extension": ".py",
   "mimetype": "text/x-python",
   "name": "python",
   "nbconvert_exporter": "python",
   "pygments_lexer": "ipython3",
   "version": "3.7.6"
  }
 },
 "nbformat": 4,
 "nbformat_minor": 4
}
