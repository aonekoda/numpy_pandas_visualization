{
 "cells": [
  {
   "cell_type": "markdown",
   "metadata": {},
   "source": [
    "# 데이터 연결하기 실습\n",
    "* concat 메소드로 데이터 연결하기\n",
    "* merge 메소드 사용하기\n"
   ]
  },
  {
   "cell_type": "code",
   "execution_count": 1,
   "metadata": {},
   "outputs": [],
   "source": [
    "import pandas as pd"
   ]
  },
  {
   "cell_type": "markdown",
   "metadata": {
    "colab_type": "text",
    "id": "0dvxQP-tMOB5"
   },
   "source": [
    "### 문제 1\n",
    "다음과 같은 데이터프레임을 생성하시오.\n",
    "```\n",
    "df1 = pd.DataFrame({\n",
    "    'ID': [1001, 1002, 1003, 1004, 1005, 1006, 1007],\n",
    "    'Name': ['Jane', 'James', 'Michel', 'Sam', 'Suji', 'Kurt', 'Julie']\n",
    "})\n",
    "df2 = pd.DataFrame({\n",
    "    'ID': [1001, 1001, 1005, 1006, 1008, 1001],\n",
    "    'Deposit': [10000, 20000, 15000, 5000, 100000, 30000]\n",
    "})\n",
    "```"
   ]
  },
  {
   "cell_type": "code",
   "execution_count": null,
   "metadata": {},
   "outputs": [],
   "source": []
  },
  {
   "cell_type": "markdown",
   "metadata": {
    "colab_type": "text",
    "id": "9h5DHPZGOLeA"
   },
   "source": [
    "### 문제2\n",
    "merge 명령으로 위의 두 데이터프레임 df1, df2 를 수평으로 합쳐 출력하시오. ID 컬럼과 NO 컬럼을 기준으로 inner join을 수행하시오.\n"
   ]
  },
  {
   "cell_type": "code",
   "execution_count": null,
   "metadata": {},
   "outputs": [],
   "source": []
  },
  {
   "cell_type": "markdown",
   "metadata": {
    "colab_type": "text",
    "id": "8To1lYfpQxcb"
   },
   "source": [
    "### 문제 3\n",
    "merge를 사용하여 df1, df2 를 join 하는데 full outer join으로 수행하시오."
   ]
  },
  {
   "cell_type": "code",
   "execution_count": null,
   "metadata": {},
   "outputs": [],
   "source": []
  },
  {
   "cell_type": "markdown",
   "metadata": {
    "colab_type": "text",
    "id": "hjNtKcb4SRlC"
   },
   "source": [
    "### 문제 4\n",
    "merge 대신에 join 명령어를 사용하여 full outer join을 수행하시오."
   ]
  },
  {
   "cell_type": "code",
   "execution_count": null,
   "metadata": {},
   "outputs": [],
   "source": []
  }
 ],
 "metadata": {
  "kernelspec": {
   "display_name": "Python 3",
   "language": "python",
   "name": "python3"
  },
  "language_info": {
   "codemirror_mode": {
    "name": "ipython",
    "version": 3
   },
   "file_extension": ".py",
   "mimetype": "text/x-python",
   "name": "python",
   "nbconvert_exporter": "python",
   "pygments_lexer": "ipython3",
   "version": "3.7.6"
  }
 },
 "nbformat": 4,
 "nbformat_minor": 4
}
