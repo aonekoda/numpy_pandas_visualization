{
 "cells": [
  {
   "cell_type": "markdown",
   "metadata": {
    "colab_type": "text",
    "id": "4TdzCUnXU5Fe"
   },
   "source": [
    "# Groupby연산 실습하기"
   ]
  },
  {
   "cell_type": "code",
   "execution_count": 1,
   "metadata": {
    "colab": {},
    "colab_type": "code",
    "executionInfo": {
     "elapsed": 973,
     "status": "ok",
     "timestamp": 1593080529143,
     "user": {
      "displayName": "이선화",
      "photoUrl": "https://lh3.googleusercontent.com/a-/AOh14GiGEcSuxiespWUAaMC6eXljdm2fXmv29ZXuZ14n=s64",
      "userId": "08084686575025891086"
     },
     "user_tz": -540
    },
    "id": "GWOn0aRnUrLz"
   },
   "outputs": [],
   "source": [
    "import pandas as pd"
   ]
  },
  {
   "cell_type": "markdown",
   "metadata": {
    "colab_type": "text",
    "id": "ePkGMjhxHGVV"
   },
   "source": [
    "# 실습하기"
   ]
  },
  {
   "cell_type": "markdown",
   "metadata": {
    "colab_type": "text",
    "id": "eYdVPRIMHIso"
   },
   "source": [
    "1. 다음과 같은 데이터프레임을 생성한다.\n",
    "\n",
    "```\n",
    "import pandas as pd\n",
    "import numpy as np \n",
    "df = pd.DataFrame(dict(Gender=['M', 'F', 'M', 'F',\n",
    "                               'F', 'M', 'M', np.nan],\n",
    "                       State=['NY','IL', 'NY', 'CA',\n",
    "                              'IL', 'CA', 'CA', 'IL'],\n",
    "                       col_1=[10,20,30,np.nan,40,50,60,70],\n",
    "                       col_2=[1,6,2,4,6,9,np.nan,3]))\n",
    "```"
   ]
  },
  {
   "cell_type": "code",
   "execution_count": null,
   "metadata": {
    "colab": {},
    "colab_type": "code",
    "id": "X-djeb2jUS_T"
   },
   "outputs": [],
   "source": []
  },
  {
   "cell_type": "markdown",
   "metadata": {
    "colab_type": "text",
    "id": "zP32ZjWNKOTh"
   },
   "source": [
    "2. 데이터프레임에서 'Gender'별 평균을 구하시오."
   ]
  },
  {
   "cell_type": "code",
   "execution_count": null,
   "metadata": {
    "colab": {},
    "colab_type": "code",
    "id": "PzOA4p6cUTma"
   },
   "outputs": [],
   "source": []
  },
  {
   "cell_type": "markdown",
   "metadata": {
    "colab_type": "text",
    "id": "YEmrGKJuLT7x"
   },
   "source": [
    "3. 데이터프레임에서 'Gender'별, 'State'별 평균을 구하시오."
   ]
  },
  {
   "cell_type": "code",
   "execution_count": null,
   "metadata": {
    "colab": {},
    "colab_type": "code",
    "id": "G1dO7VLTUUKm"
   },
   "outputs": [],
   "source": []
  },
  {
   "cell_type": "markdown",
   "metadata": {
    "colab_type": "text",
    "id": "fnUGQ7O1MC4I"
   },
   "source": [
    "4. 데이터프레임에서 'Gender'별, 'State'별 각 column의 최소, 최대 값을 구하시오."
   ]
  },
  {
   "cell_type": "code",
   "execution_count": null,
   "metadata": {
    "colab": {},
    "colab_type": "code",
    "id": "gc0lHyyyUU7y"
   },
   "outputs": [],
   "source": []
  }
 ],
 "metadata": {
  "colab": {
   "authorship_tag": "ABX9TyPvZ+A58W8ShIbXuqQWdFml",
   "collapsed_sections": [],
   "name": "03groupby_dataframe합치기.ipynb",
   "provenance": []
  },
  "kernelspec": {
   "display_name": "Python 3",
   "language": "python",
   "name": "python3"
  },
  "language_info": {
   "codemirror_mode": {
    "name": "ipython",
    "version": 3
   },
   "file_extension": ".py",
   "mimetype": "text/x-python",
   "name": "python",
   "nbconvert_exporter": "python",
   "pygments_lexer": "ipython3",
   "version": "3.7.6"
  }
 },
 "nbformat": 4,
 "nbformat_minor": 1
}
