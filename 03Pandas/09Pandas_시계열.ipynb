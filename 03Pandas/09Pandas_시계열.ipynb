{
 "cells": [
  {
   "cell_type": "markdown",
   "metadata": {
    "colab_type": "text",
    "id": "0WxvfBZxjT-g"
   },
   "source": [
    "# Pandas로 시계열 데이터 다루기\n",
    "\n",
    "시계열 자료는 인덱스가 날짜 혹은 시간인 데이터를 말한다. Pandas에서 시계열 자료를 생성하려면 인덱스를 DatetimeIndex 자료형으로 만들어야 한다. DatetimeIndex는 특정한 순간에 기록된 타임스탬프(timestamp) 형식의 시계열 자료를 다루기 위한 인덱스이다. 타임스탬프 인덱스의 라벨값이 반드시 일정한 간격일 필요는 없다.\n",
    "\n",
    "DatetimeIndex 인덱스는 다음과 같은 보조 함수를 사용하여 생성한다.\n",
    "\n",
    "* pd.to_datetime 함수 \n",
    "    > pd.to_datetime 함수를 쓰면 날짜/시간을 나타내는 문자열을 자동으로 datetime 자료형으로 바꾼 후 DatetimeIndex 자료형 인덱스를 생성한다.\n",
    "\n",
    "* pd.date_range 함수 \n",
    "    > pd.date_range 함수를 쓰면 모든 날짜/시간을 일일히 입력할 필요없이 시작일과 종료일 또는 시작일과 기간을 입력하면 범위 내의 인덱스를 생성해 준다.\n"
   ]
  },
  {
   "cell_type": "code",
   "execution_count": 1,
   "metadata": {
    "colab": {},
    "colab_type": "code",
    "id": "QhGs8ttIjT-h"
   },
   "outputs": [],
   "source": [
    "import pandas as pd\n",
    "import numpy as np\n",
    "import matplotlib.pyplot as plt # 시각화\n",
    "\n",
    "%matplotlib inline"
   ]
  },
  {
   "cell_type": "markdown",
   "metadata": {
    "colab_type": "text",
    "id": "aluNb88QjT-k"
   },
   "source": [
    "pd.to_datetime 함수를 사용하여 DatetimeIndex를 생성한다."
   ]
  },
  {
   "cell_type": "code",
   "execution_count": 2,
   "metadata": {
    "colab": {
     "base_uri": "https://localhost:8080/",
     "height": 54
    },
    "colab_type": "code",
    "executionInfo": {
     "elapsed": 1187,
     "status": "ok",
     "timestamp": 1592972595050,
     "user": {
      "displayName": "이선화",
      "photoUrl": "https://lh3.googleusercontent.com/a-/AOh14GiGEcSuxiespWUAaMC6eXljdm2fXmv29ZXuZ14n=s64",
      "userId": "08084686575025891086"
     },
     "user_tz": -540
    },
    "id": "xfNkfp0njT-k",
    "outputId": "1fecfe59-9192-40b2-8a9b-5d3f42b377dd"
   },
   "outputs": [
    {
     "data": {
      "text/plain": [
       "DatetimeIndex(['2018-01-01', '2018-01-04', '2018-01-05', '2018-01-06'], dtype='datetime64[ns]', freq=None)"
      ]
     },
     "execution_count": 2,
     "metadata": {},
     "output_type": "execute_result"
    }
   ],
   "source": [
    "date_str = [\"2018, 1, 1\", \"2018, 1, 4\", \"2018, 1, 5\", \"2018, 1, 6\"]\n",
    "idx = pd.to_datetime(date_str)\n",
    "idx"
   ]
  },
  {
   "cell_type": "markdown",
   "metadata": {
    "colab_type": "text",
    "id": "PhFPZ5lfjT-n"
   },
   "source": [
    "이렇게 만들어진 인덱스를 사용하여 시리즈나 데이터프레임을 생성하면 된다."
   ]
  },
  {
   "cell_type": "code",
   "execution_count": 3,
   "metadata": {
    "colab": {
     "base_uri": "https://localhost:8080/",
     "height": 104
    },
    "colab_type": "code",
    "executionInfo": {
     "elapsed": 1268,
     "status": "ok",
     "timestamp": 1592972677894,
     "user": {
      "displayName": "이선화",
      "photoUrl": "https://lh3.googleusercontent.com/a-/AOh14GiGEcSuxiespWUAaMC6eXljdm2fXmv29ZXuZ14n=s64",
      "userId": "08084686575025891086"
     },
     "user_tz": -540
    },
    "id": "h2eFk4OqjT-o",
    "outputId": "68686226-07d0-40fb-f306-4b4587ec6bef"
   },
   "outputs": [
    {
     "data": {
      "text/plain": [
       "2018-01-01    1.764052\n",
       "2018-01-04    0.400157\n",
       "2018-01-05    0.978738\n",
       "2018-01-06    2.240893\n",
       "dtype: float64"
      ]
     },
     "execution_count": 3,
     "metadata": {},
     "output_type": "execute_result"
    }
   ],
   "source": [
    "np.random.seed(0)\n",
    "s = pd.Series(np.random.randn(4), index=idx)\n",
    "s"
   ]
  },
  {
   "cell_type": "markdown",
   "metadata": {
    "colab_type": "text",
    "id": "fbukay0sjT-q"
   },
   "source": [
    "pd.date_range 함수를 쓰면 시작일과 종료일 또는 시작일과 기간을 입력하면 범위 내의 인덱스를 생성해 준다."
   ]
  },
  {
   "cell_type": "code",
   "execution_count": 4,
   "metadata": {
    "colab": {
     "base_uri": "https://localhost:8080/",
     "height": 174
    },
    "colab_type": "code",
    "executionInfo": {
     "elapsed": 623,
     "status": "ok",
     "timestamp": 1592972743244,
     "user": {
      "displayName": "이선화",
      "photoUrl": "https://lh3.googleusercontent.com/a-/AOh14GiGEcSuxiespWUAaMC6eXljdm2fXmv29ZXuZ14n=s64",
      "userId": "08084686575025891086"
     },
     "user_tz": -540
    },
    "id": "tvsK87CsjT-q",
    "outputId": "22a7996d-1c3e-4c94-8bcc-7035780c2423"
   },
   "outputs": [
    {
     "data": {
      "text/plain": [
       "DatetimeIndex(['2020-06-01', '2020-06-02', '2020-06-03', '2020-06-04',\n",
       "               '2020-06-05', '2020-06-06', '2020-06-07', '2020-06-08',\n",
       "               '2020-06-09', '2020-06-10', '2020-06-11', '2020-06-12',\n",
       "               '2020-06-13', '2020-06-14', '2020-06-15', '2020-06-16',\n",
       "               '2020-06-17', '2020-06-18', '2020-06-19', '2020-06-20',\n",
       "               '2020-06-21', '2020-06-22', '2020-06-23', '2020-06-24',\n",
       "               '2020-06-25', '2020-06-26', '2020-06-27', '2020-06-28',\n",
       "               '2020-06-29', '2020-06-30'],\n",
       "              dtype='datetime64[ns]', freq='D')"
      ]
     },
     "execution_count": 4,
     "metadata": {},
     "output_type": "execute_result"
    }
   ],
   "source": [
    "pd.date_range(\"2020-6-1\", \"2020-6-30\")"
   ]
  },
  {
   "cell_type": "code",
   "execution_count": 5,
   "metadata": {
    "colab": {
     "base_uri": "https://localhost:8080/",
     "height": 297
    },
    "colab_type": "code",
    "executionInfo": {
     "elapsed": 686,
     "status": "ok",
     "timestamp": 1592972816490,
     "user": {
      "displayName": "이선화",
      "photoUrl": "https://lh3.googleusercontent.com/a-/AOh14GiGEcSuxiespWUAaMC6eXljdm2fXmv29ZXuZ14n=s64",
      "userId": "08084686575025891086"
     },
     "user_tz": -540
    },
    "id": "wPrv19YujT-s",
    "outputId": "4fb60d35-6300-49ba-f974-0e7f7fa08208"
   },
   "outputs": [
    {
     "data": {
      "text/plain": [
       "DatetimeIndex(['2018-04-01', '2018-04-02', '2018-04-03', '2018-04-04',\n",
       "               '2018-04-05', '2018-04-06', '2018-04-07', '2018-04-08',\n",
       "               '2018-04-09', '2018-04-10', '2018-04-11', '2018-04-12',\n",
       "               '2018-04-13', '2018-04-14', '2018-04-15', '2018-04-16',\n",
       "               '2018-04-17', '2018-04-18', '2018-04-19', '2018-04-20',\n",
       "               '2018-04-21', '2018-04-22', '2018-04-23', '2018-04-24',\n",
       "               '2018-04-25', '2018-04-26', '2018-04-27', '2018-04-28',\n",
       "               '2018-04-29', '2018-04-30', '2018-05-01', '2018-05-02',\n",
       "               '2018-05-03', '2018-05-04', '2018-05-05', '2018-05-06',\n",
       "               '2018-05-07', '2018-05-08', '2018-05-09', '2018-05-10',\n",
       "               '2018-05-11', '2018-05-12', '2018-05-13', '2018-05-14',\n",
       "               '2018-05-15', '2018-05-16', '2018-05-17', '2018-05-18',\n",
       "               '2018-05-19', '2018-05-20', '2018-05-21', '2018-05-22',\n",
       "               '2018-05-23', '2018-05-24', '2018-05-25', '2018-05-26',\n",
       "               '2018-05-27', '2018-05-28', '2018-05-29', '2018-05-30'],\n",
       "              dtype='datetime64[ns]', freq='D')"
      ]
     },
     "execution_count": 5,
     "metadata": {},
     "output_type": "execute_result"
    }
   ],
   "source": [
    "pd.date_range(start=\"2018-4-1\", periods=60)"
   ]
  },
  {
   "cell_type": "markdown",
   "metadata": {
    "colab_type": "text",
    "id": "st-BOdzejT-v"
   },
   "source": [
    "많이 사용되는 `freq 인수값`은 다음과 같다.\n",
    "\n",
    "* s: 초\n",
    "* T: 분\n",
    "* H: 시간\n",
    "* D: 일(day)\n",
    "* B: 주말이 아닌 평일\n",
    "* W: 주(일요일)\n",
    "* W-MON: 주(월요일)\n",
    "* M: 각 달(month)의 마지막 날\n",
    "* MS: 각 달의 첫날\n",
    "* BM: 주말이 아닌 평일 중에서 각 달의 마지막 날\n",
    "* BMS: 주말이 아닌 평일 중에서 각 달의 첫날\n",
    "* WOM-2THU: 각 달의 두번째 목요일\n",
    "* Q-JAN: 각 분기의 첫달의 마지막 날\n",
    "* Q-DEC: 각 분기의 마지막 달의 마지막 날"
   ]
  },
  {
   "cell_type": "code",
   "execution_count": 6,
   "metadata": {
    "colab": {
     "base_uri": "https://localhost:8080/",
     "height": 227
    },
    "colab_type": "code",
    "executionInfo": {
     "elapsed": 646,
     "status": "ok",
     "timestamp": 1592973047785,
     "user": {
      "displayName": "이선화",
      "photoUrl": "https://lh3.googleusercontent.com/a-/AOh14GiGEcSuxiespWUAaMC6eXljdm2fXmv29ZXuZ14n=s64",
      "userId": "08084686575025891086"
     },
     "user_tz": -540
    },
    "id": "2OX87VXKjT-v",
    "outputId": "b0a3e608-6c8f-4136-e0f3-c0724f7f9afb"
   },
   "outputs": [
    {
     "data": {
      "text/plain": [
       "DatetimeIndex(['2019-10-01 00:00:00', '2019-10-01 01:00:00',\n",
       "               '2019-10-01 02:00:00', '2019-10-01 03:00:00',\n",
       "               '2019-10-01 04:00:00', '2019-10-01 05:00:00',\n",
       "               '2019-10-01 06:00:00', '2019-10-01 07:00:00',\n",
       "               '2019-10-01 08:00:00', '2019-10-01 09:00:00',\n",
       "               ...\n",
       "               '2019-10-30 15:00:00', '2019-10-30 16:00:00',\n",
       "               '2019-10-30 17:00:00', '2019-10-30 18:00:00',\n",
       "               '2019-10-30 19:00:00', '2019-10-30 20:00:00',\n",
       "               '2019-10-30 21:00:00', '2019-10-30 22:00:00',\n",
       "               '2019-10-30 23:00:00', '2019-10-31 00:00:00'],\n",
       "              dtype='datetime64[ns]', length=721, freq='H')"
      ]
     },
     "execution_count": 6,
     "metadata": {},
     "output_type": "execute_result"
    }
   ],
   "source": [
    "pd.date_range(\"2019-10-1\", \"2019-10-31\", freq=\"H\")"
   ]
  },
  {
   "cell_type": "code",
   "execution_count": 7,
   "metadata": {
    "colab": {
     "base_uri": "https://localhost:8080/",
     "height": 87
    },
    "colab_type": "code",
    "executionInfo": {
     "elapsed": 689,
     "status": "ok",
     "timestamp": 1592973075273,
     "user": {
      "displayName": "이선화",
      "photoUrl": "https://lh3.googleusercontent.com/a-/AOh14GiGEcSuxiespWUAaMC6eXljdm2fXmv29ZXuZ14n=s64",
      "userId": "08084686575025891086"
     },
     "user_tz": -540
    },
    "id": "kLDmwI6YjT-x",
    "outputId": "fbda8ecc-4b00-45b8-eadf-a896b603adbb"
   },
   "outputs": [
    {
     "data": {
      "text/plain": [
       "DatetimeIndex(['2019-01-31', '2019-02-28', '2019-03-31', '2019-04-30',\n",
       "               '2019-05-31', '2019-06-30', '2019-07-31', '2019-08-31',\n",
       "               '2019-09-30', '2019-10-31', '2019-11-30', '2019-12-31'],\n",
       "              dtype='datetime64[ns]', freq='M')"
      ]
     },
     "execution_count": 7,
     "metadata": {},
     "output_type": "execute_result"
    }
   ],
   "source": [
    "pd.date_range(\"2019-1-1\", \"2019-12-31\", freq=\"M\")"
   ]
  },
  {
   "cell_type": "markdown",
   "metadata": {
    "colab_type": "text",
    "id": "_YNtpANDjT-z"
   },
   "source": [
    "# Shift 연산\n",
    "시계열 데이터의 인덱스는 시간이나 날짜를 나타내기 때문에 날짜 이동 등의 다양한 연산이 가능하다."
   ]
  },
  {
   "cell_type": "code",
   "execution_count": 8,
   "metadata": {
    "colab": {
     "base_uri": "https://localhost:8080/",
     "height": 104
    },
    "colab_type": "code",
    "executionInfo": {
     "elapsed": 691,
     "status": "ok",
     "timestamp": 1592973110281,
     "user": {
      "displayName": "이선화",
      "photoUrl": "https://lh3.googleusercontent.com/a-/AOh14GiGEcSuxiespWUAaMC6eXljdm2fXmv29ZXuZ14n=s64",
      "userId": "08084686575025891086"
     },
     "user_tz": -540
    },
    "id": "VUpEf_-4jT-0",
    "outputId": "ded9bf26-dc21-4e60-934d-f269ed108146"
   },
   "outputs": [
    {
     "data": {
      "text/plain": [
       "2019-10-31    1.764052\n",
       "2019-11-30    0.400157\n",
       "2019-12-31    0.978738\n",
       "2020-01-31    2.240893\n",
       "Freq: M, dtype: float64"
      ]
     },
     "execution_count": 8,
     "metadata": {},
     "output_type": "execute_result"
    }
   ],
   "source": [
    "np.random.seed(0)\n",
    "ts = pd.Series(np.random.randn(4), index=pd.date_range(\n",
    "    \"2019-10-1\", periods=4, freq=\"M\"))\n",
    "ts"
   ]
  },
  {
   "cell_type": "code",
   "execution_count": 9,
   "metadata": {
    "colab": {
     "base_uri": "https://localhost:8080/",
     "height": 104
    },
    "colab_type": "code",
    "executionInfo": {
     "elapsed": 682,
     "status": "ok",
     "timestamp": 1592973147279,
     "user": {
      "displayName": "이선화",
      "photoUrl": "https://lh3.googleusercontent.com/a-/AOh14GiGEcSuxiespWUAaMC6eXljdm2fXmv29ZXuZ14n=s64",
      "userId": "08084686575025891086"
     },
     "user_tz": -540
    },
    "id": "TRLGND88jT-2",
    "outputId": "7ee6e061-b8f9-4224-d5e7-1bea2ed2b334"
   },
   "outputs": [
    {
     "data": {
      "text/plain": [
       "2019-10-31         NaN\n",
       "2019-11-30    1.764052\n",
       "2019-12-31    0.400157\n",
       "2020-01-31    0.978738\n",
       "Freq: M, dtype: float64"
      ]
     },
     "execution_count": 9,
     "metadata": {},
     "output_type": "execute_result"
    }
   ],
   "source": [
    "ts.shift(1)"
   ]
  },
  {
   "cell_type": "code",
   "execution_count": 10,
   "metadata": {
    "colab": {
     "base_uri": "https://localhost:8080/",
     "height": 104
    },
    "colab_type": "code",
    "executionInfo": {
     "elapsed": 749,
     "status": "ok",
     "timestamp": 1592973182276,
     "user": {
      "displayName": "이선화",
      "photoUrl": "https://lh3.googleusercontent.com/a-/AOh14GiGEcSuxiespWUAaMC6eXljdm2fXmv29ZXuZ14n=s64",
      "userId": "08084686575025891086"
     },
     "user_tz": -540
    },
    "id": "i4LM-TCPjT-4",
    "outputId": "5104363a-9388-4d35-913b-eaa0f18f16df"
   },
   "outputs": [
    {
     "data": {
      "text/plain": [
       "2019-11-03    1.764052\n",
       "2019-12-01    0.400157\n",
       "2020-01-05    0.978738\n",
       "2020-02-02    2.240893\n",
       "Freq: WOM-1SUN, dtype: float64"
      ]
     },
     "execution_count": 10,
     "metadata": {},
     "output_type": "execute_result"
    }
   ],
   "source": [
    "ts.shift(1, freq=\"W\")"
   ]
  },
  {
   "cell_type": "markdown",
   "metadata": {
    "colab_type": "text",
    "id": "leJC2QpmjT-6"
   },
   "source": [
    "# resample 연산\n",
    "resample 연산을 쓰면 시간 간격을 재조정하는 리샘플링(resampling)이 가능하다.   \n",
    "오른쪽 한계값(가장 늦은 값)은 포함하지 않는다."
   ]
  },
  {
   "cell_type": "code",
   "execution_count": 11,
   "metadata": {
    "colab": {
     "base_uri": "https://localhost:8080/",
     "height": 209
    },
    "colab_type": "code",
    "executionInfo": {
     "elapsed": 626,
     "status": "ok",
     "timestamp": 1592973278722,
     "user": {
      "displayName": "이선화",
      "photoUrl": "https://lh3.googleusercontent.com/a-/AOh14GiGEcSuxiespWUAaMC6eXljdm2fXmv29ZXuZ14n=s64",
      "userId": "08084686575025891086"
     },
     "user_tz": -540
    },
    "id": "QnN-wLiDjT-6",
    "outputId": "fbf6355b-49f1-46de-d3e4-280e832b32b6"
   },
   "outputs": [
    {
     "data": {
      "text/plain": [
       "2019-01-01    1.867558\n",
       "2019-01-02   -0.977278\n",
       "2019-01-03    0.950088\n",
       "2019-01-04   -0.151357\n",
       "2019-01-05   -0.103219\n",
       "2019-01-06    0.410599\n",
       "2019-01-07    0.144044\n",
       "2019-01-08    1.454274\n",
       "2019-01-09    0.761038\n",
       "2019-01-10    0.121675\n",
       "Freq: D, dtype: float64"
      ]
     },
     "execution_count": 11,
     "metadata": {},
     "output_type": "execute_result"
    }
   ],
   "source": [
    "ts = pd.Series(np.random.randn(100), index=pd.date_range(\n",
    "    \"2019-1-1\", periods=100, freq=\"D\"))\n",
    "ts.head(10)"
   ]
  },
  {
   "cell_type": "code",
   "execution_count": 12,
   "metadata": {
    "colab": {
     "base_uri": "https://localhost:8080/",
     "height": 104
    },
    "colab_type": "code",
    "executionInfo": {
     "elapsed": 653,
     "status": "ok",
     "timestamp": 1592973355074,
     "user": {
      "displayName": "이선화",
      "photoUrl": "https://lh3.googleusercontent.com/a-/AOh14GiGEcSuxiespWUAaMC6eXljdm2fXmv29ZXuZ14n=s64",
      "userId": "08084686575025891086"
     },
     "user_tz": -540
    },
    "id": "bDflzjwDjT-8",
    "outputId": "ddffe586-9884-4aec-fa5a-64c7e18ecfc9"
   },
   "outputs": [
    {
     "data": {
      "text/plain": [
       "2019-01-31    0.168338\n",
       "2019-02-28   -0.280265\n",
       "2019-03-31   -0.005235\n",
       "2019-04-30    0.362251\n",
       "Freq: M, dtype: float64"
      ]
     },
     "execution_count": 12,
     "metadata": {},
     "output_type": "execute_result"
    }
   ],
   "source": [
    "ts.resample('M').mean()"
   ]
  },
  {
   "cell_type": "code",
   "execution_count": 13,
   "metadata": {
    "colab": {
     "base_uri": "https://localhost:8080/",
     "height": 104
    },
    "colab_type": "code",
    "executionInfo": {
     "elapsed": 654,
     "status": "ok",
     "timestamp": 1592973394102,
     "user": {
      "displayName": "이선화",
      "photoUrl": "https://lh3.googleusercontent.com/a-/AOh14GiGEcSuxiespWUAaMC6eXljdm2fXmv29ZXuZ14n=s64",
      "userId": "08084686575025891086"
     },
     "user_tz": -540
    },
    "id": "_A16jB7ajT--",
    "outputId": "6363aa3e-540b-4c23-e28b-9c26c2fbf99e"
   },
   "outputs": [
    {
     "data": {
      "text/plain": [
       "2019-01-31    1.867558\n",
       "2019-02-28    0.156349\n",
       "2019-03-31   -1.726283\n",
       "2019-04-30    0.356366\n",
       "Freq: M, dtype: float64"
      ]
     },
     "execution_count": 13,
     "metadata": {},
     "output_type": "execute_result"
    }
   ],
   "source": [
    "ts.resample('M').first()"
   ]
  },
  {
   "cell_type": "code",
   "execution_count": 14,
   "metadata": {},
   "outputs": [
    {
     "data": {
      "text/plain": [
       "2019-01-01 00:00:00    1.867558\n",
       "2019-01-01 12:00:00         NaN\n",
       "2019-01-02 00:00:00   -0.977278\n",
       "2019-01-02 12:00:00         NaN\n",
       "2019-01-03 00:00:00    0.950088\n",
       "                         ...   \n",
       "2019-04-08 00:00:00   -1.347759\n",
       "2019-04-08 12:00:00         NaN\n",
       "2019-04-09 00:00:00   -1.270485\n",
       "2019-04-09 12:00:00         NaN\n",
       "2019-04-10 00:00:00    0.969397\n",
       "Freq: 12H, Length: 199, dtype: float64"
      ]
     },
     "execution_count": 14,
     "metadata": {},
     "output_type": "execute_result"
    }
   ],
   "source": [
    "ts.resample('12H').mean()"
   ]
  },
  {
   "cell_type": "markdown",
   "metadata": {
    "colab_type": "text",
    "id": "zl--IzjqjT_A"
   },
   "source": [
    "### ohlc 메서드\n",
    "ohlc 메서드는 구간의 시고저종(open, high, low, close)값을 구한다."
   ]
  },
  {
   "cell_type": "code",
   "execution_count": 15,
   "metadata": {
    "colab": {
     "base_uri": "https://localhost:8080/",
     "height": 419
    },
    "colab_type": "code",
    "executionInfo": {
     "elapsed": 655,
     "status": "ok",
     "timestamp": 1592973493542,
     "user": {
      "displayName": "이선화",
      "photoUrl": "https://lh3.googleusercontent.com/a-/AOh14GiGEcSuxiespWUAaMC6eXljdm2fXmv29ZXuZ14n=s64",
      "userId": "08084686575025891086"
     },
     "user_tz": -540
    },
    "id": "ZCaGbGWljT_A",
    "outputId": "0c23eed7-65f7-420f-b854-6b0a3348893a"
   },
   "outputs": [
    {
     "data": {
      "text/html": [
       "<div>\n",
       "<style scoped>\n",
       "    .dataframe tbody tr th:only-of-type {\n",
       "        vertical-align: middle;\n",
       "    }\n",
       "\n",
       "    .dataframe tbody tr th {\n",
       "        vertical-align: top;\n",
       "    }\n",
       "\n",
       "    .dataframe thead th {\n",
       "        text-align: right;\n",
       "    }\n",
       "</style>\n",
       "<table border=\"1\" class=\"dataframe\">\n",
       "  <thead>\n",
       "    <tr style=\"text-align: right;\">\n",
       "      <th></th>\n",
       "      <th>open</th>\n",
       "      <th>high</th>\n",
       "      <th>low</th>\n",
       "      <th>close</th>\n",
       "    </tr>\n",
       "  </thead>\n",
       "  <tbody>\n",
       "    <tr>\n",
       "      <th>2019-01-01 00:00:00</th>\n",
       "      <td>1.867558</td>\n",
       "      <td>1.867558</td>\n",
       "      <td>1.867558</td>\n",
       "      <td>1.867558</td>\n",
       "    </tr>\n",
       "    <tr>\n",
       "      <th>2019-01-01 00:05:00</th>\n",
       "      <td>NaN</td>\n",
       "      <td>NaN</td>\n",
       "      <td>NaN</td>\n",
       "      <td>NaN</td>\n",
       "    </tr>\n",
       "    <tr>\n",
       "      <th>2019-01-01 00:10:00</th>\n",
       "      <td>NaN</td>\n",
       "      <td>NaN</td>\n",
       "      <td>NaN</td>\n",
       "      <td>NaN</td>\n",
       "    </tr>\n",
       "    <tr>\n",
       "      <th>2019-01-01 00:15:00</th>\n",
       "      <td>NaN</td>\n",
       "      <td>NaN</td>\n",
       "      <td>NaN</td>\n",
       "      <td>NaN</td>\n",
       "    </tr>\n",
       "    <tr>\n",
       "      <th>2019-01-01 00:20:00</th>\n",
       "      <td>NaN</td>\n",
       "      <td>NaN</td>\n",
       "      <td>NaN</td>\n",
       "      <td>NaN</td>\n",
       "    </tr>\n",
       "    <tr>\n",
       "      <th>...</th>\n",
       "      <td>...</td>\n",
       "      <td>...</td>\n",
       "      <td>...</td>\n",
       "      <td>...</td>\n",
       "    </tr>\n",
       "    <tr>\n",
       "      <th>2019-04-09 23:40:00</th>\n",
       "      <td>NaN</td>\n",
       "      <td>NaN</td>\n",
       "      <td>NaN</td>\n",
       "      <td>NaN</td>\n",
       "    </tr>\n",
       "    <tr>\n",
       "      <th>2019-04-09 23:45:00</th>\n",
       "      <td>NaN</td>\n",
       "      <td>NaN</td>\n",
       "      <td>NaN</td>\n",
       "      <td>NaN</td>\n",
       "    </tr>\n",
       "    <tr>\n",
       "      <th>2019-04-09 23:50:00</th>\n",
       "      <td>NaN</td>\n",
       "      <td>NaN</td>\n",
       "      <td>NaN</td>\n",
       "      <td>NaN</td>\n",
       "    </tr>\n",
       "    <tr>\n",
       "      <th>2019-04-09 23:55:00</th>\n",
       "      <td>NaN</td>\n",
       "      <td>NaN</td>\n",
       "      <td>NaN</td>\n",
       "      <td>NaN</td>\n",
       "    </tr>\n",
       "    <tr>\n",
       "      <th>2019-04-10 00:00:00</th>\n",
       "      <td>0.969397</td>\n",
       "      <td>0.969397</td>\n",
       "      <td>0.969397</td>\n",
       "      <td>0.969397</td>\n",
       "    </tr>\n",
       "  </tbody>\n",
       "</table>\n",
       "<p>28513 rows × 4 columns</p>\n",
       "</div>"
      ],
      "text/plain": [
       "                         open      high       low     close\n",
       "2019-01-01 00:00:00  1.867558  1.867558  1.867558  1.867558\n",
       "2019-01-01 00:05:00       NaN       NaN       NaN       NaN\n",
       "2019-01-01 00:10:00       NaN       NaN       NaN       NaN\n",
       "2019-01-01 00:15:00       NaN       NaN       NaN       NaN\n",
       "2019-01-01 00:20:00       NaN       NaN       NaN       NaN\n",
       "...                       ...       ...       ...       ...\n",
       "2019-04-09 23:40:00       NaN       NaN       NaN       NaN\n",
       "2019-04-09 23:45:00       NaN       NaN       NaN       NaN\n",
       "2019-04-09 23:50:00       NaN       NaN       NaN       NaN\n",
       "2019-04-09 23:55:00       NaN       NaN       NaN       NaN\n",
       "2019-04-10 00:00:00  0.969397  0.969397  0.969397  0.969397\n",
       "\n",
       "[28513 rows x 4 columns]"
      ]
     },
     "execution_count": 15,
     "metadata": {},
     "output_type": "execute_result"
    }
   ],
   "source": [
    "ts.resample('5T').ohlc() # 5T는 5분.  시작, 최고, 최저, 끝"
   ]
  },
  {
   "cell_type": "markdown",
   "metadata": {
    "colab_type": "text",
    "id": "I4_rf_HYjT_C"
   },
   "source": [
    "## 시계열 데이터 분석\n",
    "\n",
    "월마트 주식 데이터를 읽어들여 시계열 데이터 분석 방법을 익혀보자."
   ]
  },
  {
   "cell_type": "code",
   "execution_count": 16,
   "metadata": {
    "colab": {
     "base_uri": "https://localhost:8080/",
     "height": 204
    },
    "colab_type": "code",
    "executionInfo": {
     "elapsed": 1087,
     "status": "ok",
     "timestamp": 1592973720151,
     "user": {
      "displayName": "이선화",
      "photoUrl": "https://lh3.googleusercontent.com/a-/AOh14GiGEcSuxiespWUAaMC6eXljdm2fXmv29ZXuZ14n=s64",
      "userId": "08084686575025891086"
     },
     "user_tz": -540
    },
    "id": "bUmdy5SSjT_C",
    "outputId": "9a42a834-cdf0-492d-9781-aa59e457aa9c"
   },
   "outputs": [
    {
     "data": {
      "text/html": [
       "<div>\n",
       "<style scoped>\n",
       "    .dataframe tbody tr th:only-of-type {\n",
       "        vertical-align: middle;\n",
       "    }\n",
       "\n",
       "    .dataframe tbody tr th {\n",
       "        vertical-align: top;\n",
       "    }\n",
       "\n",
       "    .dataframe thead th {\n",
       "        text-align: right;\n",
       "    }\n",
       "</style>\n",
       "<table border=\"1\" class=\"dataframe\">\n",
       "  <thead>\n",
       "    <tr style=\"text-align: right;\">\n",
       "      <th></th>\n",
       "      <th>Date</th>\n",
       "      <th>Open</th>\n",
       "      <th>High</th>\n",
       "      <th>Low</th>\n",
       "      <th>Close</th>\n",
       "      <th>Volume</th>\n",
       "      <th>Adj Close</th>\n",
       "    </tr>\n",
       "  </thead>\n",
       "  <tbody>\n",
       "    <tr>\n",
       "      <th>0</th>\n",
       "      <td>2012-01-03</td>\n",
       "      <td>59.970001</td>\n",
       "      <td>61.060001</td>\n",
       "      <td>59.869999</td>\n",
       "      <td>60.330002</td>\n",
       "      <td>12668800</td>\n",
       "      <td>52.619235</td>\n",
       "    </tr>\n",
       "    <tr>\n",
       "      <th>1</th>\n",
       "      <td>2012-01-04</td>\n",
       "      <td>60.209999</td>\n",
       "      <td>60.349998</td>\n",
       "      <td>59.470001</td>\n",
       "      <td>59.709999</td>\n",
       "      <td>9593300</td>\n",
       "      <td>52.078475</td>\n",
       "    </tr>\n",
       "    <tr>\n",
       "      <th>2</th>\n",
       "      <td>2012-01-05</td>\n",
       "      <td>59.349998</td>\n",
       "      <td>59.619999</td>\n",
       "      <td>58.369999</td>\n",
       "      <td>59.419998</td>\n",
       "      <td>12768200</td>\n",
       "      <td>51.825539</td>\n",
       "    </tr>\n",
       "    <tr>\n",
       "      <th>3</th>\n",
       "      <td>2012-01-06</td>\n",
       "      <td>59.419998</td>\n",
       "      <td>59.450001</td>\n",
       "      <td>58.869999</td>\n",
       "      <td>59.000000</td>\n",
       "      <td>8069400</td>\n",
       "      <td>51.459220</td>\n",
       "    </tr>\n",
       "    <tr>\n",
       "      <th>4</th>\n",
       "      <td>2012-01-09</td>\n",
       "      <td>59.029999</td>\n",
       "      <td>59.549999</td>\n",
       "      <td>58.919998</td>\n",
       "      <td>59.180000</td>\n",
       "      <td>6679300</td>\n",
       "      <td>51.616215</td>\n",
       "    </tr>\n",
       "  </tbody>\n",
       "</table>\n",
       "</div>"
      ],
      "text/plain": [
       "         Date       Open       High        Low      Close    Volume  Adj Close\n",
       "0  2012-01-03  59.970001  61.060001  59.869999  60.330002  12668800  52.619235\n",
       "1  2012-01-04  60.209999  60.349998  59.470001  59.709999   9593300  52.078475\n",
       "2  2012-01-05  59.349998  59.619999  58.369999  59.419998  12768200  51.825539\n",
       "3  2012-01-06  59.419998  59.450001  58.869999  59.000000   8069400  51.459220\n",
       "4  2012-01-09  59.029999  59.549999  58.919998  59.180000   6679300  51.616215"
      ]
     },
     "execution_count": 16,
     "metadata": {},
     "output_type": "execute_result"
    }
   ],
   "source": [
    "df = pd.read_csv('../data/walmart_stock.csv')\n",
    "df.head()"
   ]
  },
  {
   "cell_type": "code",
   "execution_count": 17,
   "metadata": {
    "colab": {
     "base_uri": "https://localhost:8080/",
     "height": 262
    },
    "colab_type": "code",
    "executionInfo": {
     "elapsed": 637,
     "status": "ok",
     "timestamp": 1592973750396,
     "user": {
      "displayName": "이선화",
      "photoUrl": "https://lh3.googleusercontent.com/a-/AOh14GiGEcSuxiespWUAaMC6eXljdm2fXmv29ZXuZ14n=s64",
      "userId": "08084686575025891086"
     },
     "user_tz": -540
    },
    "id": "Q5WAJSDWjT_E",
    "outputId": "d2fe09ae-6a72-405c-ec3c-d3a30bd2e9c3"
   },
   "outputs": [
    {
     "name": "stdout",
     "output_type": "stream",
     "text": [
      "<class 'pandas.core.frame.DataFrame'>\n",
      "RangeIndex: 1258 entries, 0 to 1257\n",
      "Data columns (total 7 columns):\n",
      " #   Column     Non-Null Count  Dtype  \n",
      "---  ------     --------------  -----  \n",
      " 0   Date       1258 non-null   object \n",
      " 1   Open       1258 non-null   float64\n",
      " 2   High       1258 non-null   float64\n",
      " 3   Low        1258 non-null   float64\n",
      " 4   Close      1258 non-null   float64\n",
      " 5   Volume     1258 non-null   int64  \n",
      " 6   Adj Close  1258 non-null   float64\n",
      "dtypes: float64(5), int64(1), object(1)\n",
      "memory usage: 68.9+ KB\n"
     ]
    }
   ],
   "source": [
    "df.info()"
   ]
  },
  {
   "cell_type": "code",
   "execution_count": 18,
   "metadata": {
    "colab": {
     "base_uri": "https://localhost:8080/",
     "height": 262
    },
    "colab_type": "code",
    "executionInfo": {
     "elapsed": 629,
     "status": "ok",
     "timestamp": 1592973776214,
     "user": {
      "displayName": "이선화",
      "photoUrl": "https://lh3.googleusercontent.com/a-/AOh14GiGEcSuxiespWUAaMC6eXljdm2fXmv29ZXuZ14n=s64",
      "userId": "08084686575025891086"
     },
     "user_tz": -540
    },
    "id": "Pwv50sqBjT_I",
    "outputId": "4425ba77-0a78-4de1-ed38-c68e24fe2238"
   },
   "outputs": [
    {
     "name": "stdout",
     "output_type": "stream",
     "text": [
      "<class 'pandas.core.frame.DataFrame'>\n",
      "RangeIndex: 1258 entries, 0 to 1257\n",
      "Data columns (total 7 columns):\n",
      " #   Column     Non-Null Count  Dtype         \n",
      "---  ------     --------------  -----         \n",
      " 0   Date       1258 non-null   datetime64[ns]\n",
      " 1   Open       1258 non-null   float64       \n",
      " 2   High       1258 non-null   float64       \n",
      " 3   Low        1258 non-null   float64       \n",
      " 4   Close      1258 non-null   float64       \n",
      " 5   Volume     1258 non-null   int64         \n",
      " 6   Adj Close  1258 non-null   float64       \n",
      "dtypes: datetime64[ns](1), float64(5), int64(1)\n",
      "memory usage: 68.9 KB\n"
     ]
    }
   ],
   "source": [
    "# Date 컬럼을 datatime으로 변환한다.\n",
    "df['Date'] = pd.to_datetime(df['Date'])\n",
    "df.info()"
   ]
  },
  {
   "cell_type": "markdown",
   "metadata": {
    "colab_type": "text",
    "id": "2w_xvdwEjT_K"
   },
   "source": [
    " date column을 index로 만들어 준다."
   ]
  },
  {
   "cell_type": "code",
   "execution_count": 19,
   "metadata": {
    "colab": {},
    "colab_type": "code",
    "id": "t6x1l0VNjT_K",
    "outputId": "e34e69b7-1fb2-4da9-e7f4-afac67b13f5b"
   },
   "outputs": [
    {
     "data": {
      "text/html": [
       "<div>\n",
       "<style scoped>\n",
       "    .dataframe tbody tr th:only-of-type {\n",
       "        vertical-align: middle;\n",
       "    }\n",
       "\n",
       "    .dataframe tbody tr th {\n",
       "        vertical-align: top;\n",
       "    }\n",
       "\n",
       "    .dataframe thead th {\n",
       "        text-align: right;\n",
       "    }\n",
       "</style>\n",
       "<table border=\"1\" class=\"dataframe\">\n",
       "  <thead>\n",
       "    <tr style=\"text-align: right;\">\n",
       "      <th></th>\n",
       "      <th>Open</th>\n",
       "      <th>High</th>\n",
       "      <th>Low</th>\n",
       "      <th>Close</th>\n",
       "      <th>Volume</th>\n",
       "      <th>Adj Close</th>\n",
       "    </tr>\n",
       "    <tr>\n",
       "      <th>Date</th>\n",
       "      <th></th>\n",
       "      <th></th>\n",
       "      <th></th>\n",
       "      <th></th>\n",
       "      <th></th>\n",
       "      <th></th>\n",
       "    </tr>\n",
       "  </thead>\n",
       "  <tbody>\n",
       "    <tr>\n",
       "      <th>2012-01-03</th>\n",
       "      <td>59.970001</td>\n",
       "      <td>61.060001</td>\n",
       "      <td>59.869999</td>\n",
       "      <td>60.330002</td>\n",
       "      <td>12668800</td>\n",
       "      <td>52.619235</td>\n",
       "    </tr>\n",
       "    <tr>\n",
       "      <th>2012-01-04</th>\n",
       "      <td>60.209999</td>\n",
       "      <td>60.349998</td>\n",
       "      <td>59.470001</td>\n",
       "      <td>59.709999</td>\n",
       "      <td>9593300</td>\n",
       "      <td>52.078475</td>\n",
       "    </tr>\n",
       "    <tr>\n",
       "      <th>2012-01-05</th>\n",
       "      <td>59.349998</td>\n",
       "      <td>59.619999</td>\n",
       "      <td>58.369999</td>\n",
       "      <td>59.419998</td>\n",
       "      <td>12768200</td>\n",
       "      <td>51.825539</td>\n",
       "    </tr>\n",
       "    <tr>\n",
       "      <th>2012-01-06</th>\n",
       "      <td>59.419998</td>\n",
       "      <td>59.450001</td>\n",
       "      <td>58.869999</td>\n",
       "      <td>59.000000</td>\n",
       "      <td>8069400</td>\n",
       "      <td>51.459220</td>\n",
       "    </tr>\n",
       "    <tr>\n",
       "      <th>2012-01-09</th>\n",
       "      <td>59.029999</td>\n",
       "      <td>59.549999</td>\n",
       "      <td>58.919998</td>\n",
       "      <td>59.180000</td>\n",
       "      <td>6679300</td>\n",
       "      <td>51.616215</td>\n",
       "    </tr>\n",
       "  </tbody>\n",
       "</table>\n",
       "</div>"
      ],
      "text/plain": [
       "                 Open       High        Low      Close    Volume  Adj Close\n",
       "Date                                                                       \n",
       "2012-01-03  59.970001  61.060001  59.869999  60.330002  12668800  52.619235\n",
       "2012-01-04  60.209999  60.349998  59.470001  59.709999   9593300  52.078475\n",
       "2012-01-05  59.349998  59.619999  58.369999  59.419998  12768200  51.825539\n",
       "2012-01-06  59.419998  59.450001  58.869999  59.000000   8069400  51.459220\n",
       "2012-01-09  59.029999  59.549999  58.919998  59.180000   6679300  51.616215"
      ]
     },
     "execution_count": 19,
     "metadata": {},
     "output_type": "execute_result"
    }
   ],
   "source": [
    "df.set_index('Date', inplace=True)\n",
    "df.head()"
   ]
  },
  {
   "cell_type": "markdown",
   "metadata": {
    "colab_type": "text",
    "id": "b23seYw_jT_M"
   },
   "source": [
    "위에서 했던 것을 조금 더 쉽게 처리하기 위해 다음과 같은 방법을 사용할 수 있다.  \n",
    "년월일 형식과 같은 경우 그냥 parse_dates라고 하면 data type을 변환한다."
   ]
  },
  {
   "cell_type": "code",
   "execution_count": 20,
   "metadata": {
    "colab": {
     "base_uri": "https://localhost:8080/",
     "height": 462
    },
    "colab_type": "code",
    "executionInfo": {
     "elapsed": 663,
     "status": "ok",
     "timestamp": 1592974045170,
     "user": {
      "displayName": "이선화",
      "photoUrl": "https://lh3.googleusercontent.com/a-/AOh14GiGEcSuxiespWUAaMC6eXljdm2fXmv29ZXuZ14n=s64",
      "userId": "08084686575025891086"
     },
     "user_tz": -540
    },
    "id": "OFWtP9ETjT_M",
    "outputId": "690e7215-bcdc-4690-b594-fdbff0d5176c"
   },
   "outputs": [
    {
     "name": "stdout",
     "output_type": "stream",
     "text": [
      "<class 'pandas.core.frame.DataFrame'>\n",
      "DatetimeIndex: 1258 entries, 2012-01-03 to 2016-12-30\n",
      "Data columns (total 6 columns):\n",
      " #   Column     Non-Null Count  Dtype  \n",
      "---  ------     --------------  -----  \n",
      " 0   Open       1258 non-null   float64\n",
      " 1   High       1258 non-null   float64\n",
      " 2   Low        1258 non-null   float64\n",
      " 3   Close      1258 non-null   float64\n",
      " 4   Volume     1258 non-null   int64  \n",
      " 5   Adj Close  1258 non-null   float64\n",
      "dtypes: float64(5), int64(1)\n",
      "memory usage: 68.8 KB\n"
     ]
    },
    {
     "data": {
      "text/html": [
       "<div>\n",
       "<style scoped>\n",
       "    .dataframe tbody tr th:only-of-type {\n",
       "        vertical-align: middle;\n",
       "    }\n",
       "\n",
       "    .dataframe tbody tr th {\n",
       "        vertical-align: top;\n",
       "    }\n",
       "\n",
       "    .dataframe thead th {\n",
       "        text-align: right;\n",
       "    }\n",
       "</style>\n",
       "<table border=\"1\" class=\"dataframe\">\n",
       "  <thead>\n",
       "    <tr style=\"text-align: right;\">\n",
       "      <th></th>\n",
       "      <th>Open</th>\n",
       "      <th>High</th>\n",
       "      <th>Low</th>\n",
       "      <th>Close</th>\n",
       "      <th>Volume</th>\n",
       "      <th>Adj Close</th>\n",
       "    </tr>\n",
       "    <tr>\n",
       "      <th>Date</th>\n",
       "      <th></th>\n",
       "      <th></th>\n",
       "      <th></th>\n",
       "      <th></th>\n",
       "      <th></th>\n",
       "      <th></th>\n",
       "    </tr>\n",
       "  </thead>\n",
       "  <tbody>\n",
       "    <tr>\n",
       "      <th>2012-01-03</th>\n",
       "      <td>59.970001</td>\n",
       "      <td>61.060001</td>\n",
       "      <td>59.869999</td>\n",
       "      <td>60.330002</td>\n",
       "      <td>12668800</td>\n",
       "      <td>52.619235</td>\n",
       "    </tr>\n",
       "    <tr>\n",
       "      <th>2012-01-04</th>\n",
       "      <td>60.209999</td>\n",
       "      <td>60.349998</td>\n",
       "      <td>59.470001</td>\n",
       "      <td>59.709999</td>\n",
       "      <td>9593300</td>\n",
       "      <td>52.078475</td>\n",
       "    </tr>\n",
       "    <tr>\n",
       "      <th>2012-01-05</th>\n",
       "      <td>59.349998</td>\n",
       "      <td>59.619999</td>\n",
       "      <td>58.369999</td>\n",
       "      <td>59.419998</td>\n",
       "      <td>12768200</td>\n",
       "      <td>51.825539</td>\n",
       "    </tr>\n",
       "    <tr>\n",
       "      <th>2012-01-06</th>\n",
       "      <td>59.419998</td>\n",
       "      <td>59.450001</td>\n",
       "      <td>58.869999</td>\n",
       "      <td>59.000000</td>\n",
       "      <td>8069400</td>\n",
       "      <td>51.459220</td>\n",
       "    </tr>\n",
       "    <tr>\n",
       "      <th>2012-01-09</th>\n",
       "      <td>59.029999</td>\n",
       "      <td>59.549999</td>\n",
       "      <td>58.919998</td>\n",
       "      <td>59.180000</td>\n",
       "      <td>6679300</td>\n",
       "      <td>51.616215</td>\n",
       "    </tr>\n",
       "  </tbody>\n",
       "</table>\n",
       "</div>"
      ],
      "text/plain": [
       "                 Open       High        Low      Close    Volume  Adj Close\n",
       "Date                                                                       \n",
       "2012-01-03  59.970001  61.060001  59.869999  60.330002  12668800  52.619235\n",
       "2012-01-04  60.209999  60.349998  59.470001  59.709999   9593300  52.078475\n",
       "2012-01-05  59.349998  59.619999  58.369999  59.419998  12768200  51.825539\n",
       "2012-01-06  59.419998  59.450001  58.869999  59.000000   8069400  51.459220\n",
       "2012-01-09  59.029999  59.549999  58.919998  59.180000   6679300  51.616215"
      ]
     },
     "execution_count": 20,
     "metadata": {},
     "output_type": "execute_result"
    }
   ],
   "source": [
    "df = pd.read_csv('../data/walmart_stock.csv', index_col='Date', parse_dates=True)\n",
    "df.info()\n",
    "df.head()"
   ]
  },
  {
   "cell_type": "code",
   "execution_count": 21,
   "metadata": {
    "colab": {
     "base_uri": "https://localhost:8080/",
     "height": 235
    },
    "colab_type": "code",
    "executionInfo": {
     "elapsed": 696,
     "status": "ok",
     "timestamp": 1592974073433,
     "user": {
      "displayName": "이선화",
      "photoUrl": "https://lh3.googleusercontent.com/a-/AOh14GiGEcSuxiespWUAaMC6eXljdm2fXmv29ZXuZ14n=s64",
      "userId": "08084686575025891086"
     },
     "user_tz": -540
    },
    "id": "e_cz7akdjT_O",
    "outputId": "c0cee052-e1fe-4784-c51e-f04e501c91a1"
   },
   "outputs": [
    {
     "data": {
      "text/html": [
       "<div>\n",
       "<style scoped>\n",
       "    .dataframe tbody tr th:only-of-type {\n",
       "        vertical-align: middle;\n",
       "    }\n",
       "\n",
       "    .dataframe tbody tr th {\n",
       "        vertical-align: top;\n",
       "    }\n",
       "\n",
       "    .dataframe thead th {\n",
       "        text-align: right;\n",
       "    }\n",
       "</style>\n",
       "<table border=\"1\" class=\"dataframe\">\n",
       "  <thead>\n",
       "    <tr style=\"text-align: right;\">\n",
       "      <th></th>\n",
       "      <th>Open</th>\n",
       "      <th>High</th>\n",
       "      <th>Low</th>\n",
       "      <th>Close</th>\n",
       "      <th>Volume</th>\n",
       "      <th>Adj Close</th>\n",
       "    </tr>\n",
       "    <tr>\n",
       "      <th>Date</th>\n",
       "      <th></th>\n",
       "      <th></th>\n",
       "      <th></th>\n",
       "      <th></th>\n",
       "      <th></th>\n",
       "      <th></th>\n",
       "    </tr>\n",
       "  </thead>\n",
       "  <tbody>\n",
       "    <tr>\n",
       "      <th>2012-12-31</th>\n",
       "      <td>67.158680</td>\n",
       "      <td>67.602120</td>\n",
       "      <td>66.786520</td>\n",
       "      <td>67.215120</td>\n",
       "      <td>9.239015e+06</td>\n",
       "      <td>59.389349</td>\n",
       "    </tr>\n",
       "    <tr>\n",
       "      <th>2013-12-31</th>\n",
       "      <td>75.264048</td>\n",
       "      <td>75.729405</td>\n",
       "      <td>74.843055</td>\n",
       "      <td>75.320516</td>\n",
       "      <td>6.951496e+06</td>\n",
       "      <td>68.147179</td>\n",
       "    </tr>\n",
       "    <tr>\n",
       "      <th>2014-12-31</th>\n",
       "      <td>77.274524</td>\n",
       "      <td>77.740040</td>\n",
       "      <td>76.864405</td>\n",
       "      <td>77.327381</td>\n",
       "      <td>6.515612e+06</td>\n",
       "      <td>71.709712</td>\n",
       "    </tr>\n",
       "    <tr>\n",
       "      <th>2015-12-31</th>\n",
       "      <td>72.569405</td>\n",
       "      <td>73.064167</td>\n",
       "      <td>72.034802</td>\n",
       "      <td>72.491111</td>\n",
       "      <td>9.040769e+06</td>\n",
       "      <td>68.831426</td>\n",
       "    </tr>\n",
       "    <tr>\n",
       "      <th>2016-12-31</th>\n",
       "      <td>69.481349</td>\n",
       "      <td>70.019643</td>\n",
       "      <td>69.023492</td>\n",
       "      <td>69.547063</td>\n",
       "      <td>9.371645e+06</td>\n",
       "      <td>68.054229</td>\n",
       "    </tr>\n",
       "  </tbody>\n",
       "</table>\n",
       "</div>"
      ],
      "text/plain": [
       "                 Open       High        Low      Close        Volume  \\\n",
       "Date                                                                   \n",
       "2012-12-31  67.158680  67.602120  66.786520  67.215120  9.239015e+06   \n",
       "2013-12-31  75.264048  75.729405  74.843055  75.320516  6.951496e+06   \n",
       "2014-12-31  77.274524  77.740040  76.864405  77.327381  6.515612e+06   \n",
       "2015-12-31  72.569405  73.064167  72.034802  72.491111  9.040769e+06   \n",
       "2016-12-31  69.481349  70.019643  69.023492  69.547063  9.371645e+06   \n",
       "\n",
       "            Adj Close  \n",
       "Date                   \n",
       "2012-12-31  59.389349  \n",
       "2013-12-31  68.147179  \n",
       "2014-12-31  71.709712  \n",
       "2015-12-31  68.831426  \n",
       "2016-12-31  68.054229  "
      ]
     },
     "execution_count": 21,
     "metadata": {},
     "output_type": "execute_result"
    }
   ],
   "source": [
    "# 매년간의 모든 데이터 값의 평균\n",
    "df.resample('A').mean()"
   ]
  },
  {
   "cell_type": "code",
   "execution_count": 22,
   "metadata": {
    "colab": {
     "base_uri": "https://localhost:8080/",
     "height": 700
    },
    "colab_type": "code",
    "executionInfo": {
     "elapsed": 875,
     "status": "ok",
     "timestamp": 1592974087193,
     "user": {
      "displayName": "이선화",
      "photoUrl": "https://lh3.googleusercontent.com/a-/AOh14GiGEcSuxiespWUAaMC6eXljdm2fXmv29ZXuZ14n=s64",
      "userId": "08084686575025891086"
     },
     "user_tz": -540
    },
    "id": "9ZOb970ZjT_Q",
    "outputId": "ad1c779d-cc97-412d-ba17-df9df0cad940"
   },
   "outputs": [
    {
     "data": {
      "text/html": [
       "<div>\n",
       "<style scoped>\n",
       "    .dataframe tbody tr th:only-of-type {\n",
       "        vertical-align: middle;\n",
       "    }\n",
       "\n",
       "    .dataframe tbody tr th {\n",
       "        vertical-align: top;\n",
       "    }\n",
       "\n",
       "    .dataframe thead th {\n",
       "        text-align: right;\n",
       "    }\n",
       "</style>\n",
       "<table border=\"1\" class=\"dataframe\">\n",
       "  <thead>\n",
       "    <tr style=\"text-align: right;\">\n",
       "      <th></th>\n",
       "      <th>Open</th>\n",
       "      <th>High</th>\n",
       "      <th>Low</th>\n",
       "      <th>Close</th>\n",
       "      <th>Volume</th>\n",
       "      <th>Adj Close</th>\n",
       "    </tr>\n",
       "    <tr>\n",
       "      <th>Date</th>\n",
       "      <th></th>\n",
       "      <th></th>\n",
       "      <th></th>\n",
       "      <th></th>\n",
       "      <th></th>\n",
       "      <th></th>\n",
       "    </tr>\n",
       "  </thead>\n",
       "  <tbody>\n",
       "    <tr>\n",
       "      <th>2012-03-31</th>\n",
       "      <td>60.462903</td>\n",
       "      <td>60.807258</td>\n",
       "      <td>60.160484</td>\n",
       "      <td>60.519516</td>\n",
       "      <td>8.850221e+06</td>\n",
       "      <td>52.881839</td>\n",
       "    </tr>\n",
       "    <tr>\n",
       "      <th>2012-06-30</th>\n",
       "      <td>62.888889</td>\n",
       "      <td>63.400159</td>\n",
       "      <td>62.592222</td>\n",
       "      <td>63.057143</td>\n",
       "      <td>1.155795e+07</td>\n",
       "      <td>55.594392</td>\n",
       "    </tr>\n",
       "    <tr>\n",
       "      <th>2012-09-30</th>\n",
       "      <td>73.081587</td>\n",
       "      <td>73.549682</td>\n",
       "      <td>72.717619</td>\n",
       "      <td>73.174921</td>\n",
       "      <td>7.871587e+06</td>\n",
       "      <td>64.891949</td>\n",
       "    </tr>\n",
       "    <tr>\n",
       "      <th>2012-12-31</th>\n",
       "      <td>72.174678</td>\n",
       "      <td>72.623226</td>\n",
       "      <td>71.647741</td>\n",
       "      <td>72.079839</td>\n",
       "      <td>8.660958e+06</td>\n",
       "      <td>64.161672</td>\n",
       "    </tr>\n",
       "    <tr>\n",
       "      <th>2013-03-31</th>\n",
       "      <td>70.898834</td>\n",
       "      <td>71.393000</td>\n",
       "      <td>70.552666</td>\n",
       "      <td>71.026000</td>\n",
       "      <td>8.482003e+06</td>\n",
       "      <td>63.581880</td>\n",
       "    </tr>\n",
       "    <tr>\n",
       "      <th>2013-06-30</th>\n",
       "      <td>76.873906</td>\n",
       "      <td>77.417813</td>\n",
       "      <td>76.413281</td>\n",
       "      <td>76.885781</td>\n",
       "      <td>7.656086e+06</td>\n",
       "      <td>69.393600</td>\n",
       "    </tr>\n",
       "    <tr>\n",
       "      <th>2013-09-30</th>\n",
       "      <td>75.637969</td>\n",
       "      <td>76.030469</td>\n",
       "      <td>75.213594</td>\n",
       "      <td>75.629063</td>\n",
       "      <td>5.796625e+06</td>\n",
       "      <td>68.676662</td>\n",
       "    </tr>\n",
       "    <tr>\n",
       "      <th>2013-12-31</th>\n",
       "      <td>77.372656</td>\n",
       "      <td>77.805313</td>\n",
       "      <td>76.924531</td>\n",
       "      <td>77.472813</td>\n",
       "      <td>5.966927e+06</td>\n",
       "      <td>70.651242</td>\n",
       "    </tr>\n",
       "    <tr>\n",
       "      <th>2014-03-31</th>\n",
       "      <td>75.339344</td>\n",
       "      <td>75.802787</td>\n",
       "      <td>74.863278</td>\n",
       "      <td>75.337213</td>\n",
       "      <td>7.050402e+06</td>\n",
       "      <td>69.106983</td>\n",
       "    </tr>\n",
       "    <tr>\n",
       "      <th>2014-06-30</th>\n",
       "      <td>77.036508</td>\n",
       "      <td>77.391111</td>\n",
       "      <td>76.689524</td>\n",
       "      <td>77.066508</td>\n",
       "      <td>6.048765e+06</td>\n",
       "      <td>71.284646</td>\n",
       "    </tr>\n",
       "    <tr>\n",
       "      <th>2014-09-30</th>\n",
       "      <td>75.674843</td>\n",
       "      <td>76.062501</td>\n",
       "      <td>75.375938</td>\n",
       "      <td>75.748593</td>\n",
       "      <td>5.550031e+06</td>\n",
       "      <td>70.520795</td>\n",
       "    </tr>\n",
       "    <tr>\n",
       "      <th>2014-12-31</th>\n",
       "      <td>80.952969</td>\n",
       "      <td>81.607500</td>\n",
       "      <td>80.432344</td>\n",
       "      <td>81.059844</td>\n",
       "      <td>7.431025e+06</td>\n",
       "      <td>75.797780</td>\n",
       "    </tr>\n",
       "    <tr>\n",
       "      <th>2015-03-31</th>\n",
       "      <td>85.096229</td>\n",
       "      <td>85.699017</td>\n",
       "      <td>84.491803</td>\n",
       "      <td>85.107213</td>\n",
       "      <td>7.209713e+06</td>\n",
       "      <td>79.994746</td>\n",
       "    </tr>\n",
       "    <tr>\n",
       "      <th>2015-06-30</th>\n",
       "      <td>76.678730</td>\n",
       "      <td>77.066191</td>\n",
       "      <td>76.191111</td>\n",
       "      <td>76.492540</td>\n",
       "      <td>7.481765e+06</td>\n",
       "      <td>72.501821</td>\n",
       "    </tr>\n",
       "    <tr>\n",
       "      <th>2015-09-30</th>\n",
       "      <td>68.884375</td>\n",
       "      <td>69.366094</td>\n",
       "      <td>68.328594</td>\n",
       "      <td>68.825313</td>\n",
       "      <td>8.883412e+06</td>\n",
       "      <td>65.666534</td>\n",
       "    </tr>\n",
       "    <tr>\n",
       "      <th>2015-12-31</th>\n",
       "      <td>60.269688</td>\n",
       "      <td>60.780156</td>\n",
       "      <td>59.776563</td>\n",
       "      <td>60.193281</td>\n",
       "      <td>1.247800e+07</td>\n",
       "      <td>57.743235</td>\n",
       "    </tr>\n",
       "    <tr>\n",
       "      <th>2016-03-31</th>\n",
       "      <td>65.564754</td>\n",
       "      <td>66.346065</td>\n",
       "      <td>65.015574</td>\n",
       "      <td>65.776557</td>\n",
       "      <td>1.198041e+07</td>\n",
       "      <td>63.580834</td>\n",
       "    </tr>\n",
       "    <tr>\n",
       "      <th>2016-06-30</th>\n",
       "      <td>69.350000</td>\n",
       "      <td>69.857656</td>\n",
       "      <td>68.918906</td>\n",
       "      <td>69.438437</td>\n",
       "      <td>8.751062e+06</td>\n",
       "      <td>67.762903</td>\n",
       "    </tr>\n",
       "    <tr>\n",
       "      <th>2016-09-30</th>\n",
       "      <td>72.808594</td>\n",
       "      <td>73.230938</td>\n",
       "      <td>72.371719</td>\n",
       "      <td>72.782812</td>\n",
       "      <td>8.236991e+06</td>\n",
       "      <td>71.530300</td>\n",
       "    </tr>\n",
       "    <tr>\n",
       "      <th>2016-12-31</th>\n",
       "      <td>70.026985</td>\n",
       "      <td>70.478889</td>\n",
       "      <td>69.609048</td>\n",
       "      <td>70.021111</td>\n",
       "      <td>8.628798e+06</td>\n",
       "      <td>69.150314</td>\n",
       "    </tr>\n",
       "  </tbody>\n",
       "</table>\n",
       "</div>"
      ],
      "text/plain": [
       "                 Open       High        Low      Close        Volume  \\\n",
       "Date                                                                   \n",
       "2012-03-31  60.462903  60.807258  60.160484  60.519516  8.850221e+06   \n",
       "2012-06-30  62.888889  63.400159  62.592222  63.057143  1.155795e+07   \n",
       "2012-09-30  73.081587  73.549682  72.717619  73.174921  7.871587e+06   \n",
       "2012-12-31  72.174678  72.623226  71.647741  72.079839  8.660958e+06   \n",
       "2013-03-31  70.898834  71.393000  70.552666  71.026000  8.482003e+06   \n",
       "2013-06-30  76.873906  77.417813  76.413281  76.885781  7.656086e+06   \n",
       "2013-09-30  75.637969  76.030469  75.213594  75.629063  5.796625e+06   \n",
       "2013-12-31  77.372656  77.805313  76.924531  77.472813  5.966927e+06   \n",
       "2014-03-31  75.339344  75.802787  74.863278  75.337213  7.050402e+06   \n",
       "2014-06-30  77.036508  77.391111  76.689524  77.066508  6.048765e+06   \n",
       "2014-09-30  75.674843  76.062501  75.375938  75.748593  5.550031e+06   \n",
       "2014-12-31  80.952969  81.607500  80.432344  81.059844  7.431025e+06   \n",
       "2015-03-31  85.096229  85.699017  84.491803  85.107213  7.209713e+06   \n",
       "2015-06-30  76.678730  77.066191  76.191111  76.492540  7.481765e+06   \n",
       "2015-09-30  68.884375  69.366094  68.328594  68.825313  8.883412e+06   \n",
       "2015-12-31  60.269688  60.780156  59.776563  60.193281  1.247800e+07   \n",
       "2016-03-31  65.564754  66.346065  65.015574  65.776557  1.198041e+07   \n",
       "2016-06-30  69.350000  69.857656  68.918906  69.438437  8.751062e+06   \n",
       "2016-09-30  72.808594  73.230938  72.371719  72.782812  8.236991e+06   \n",
       "2016-12-31  70.026985  70.478889  69.609048  70.021111  8.628798e+06   \n",
       "\n",
       "            Adj Close  \n",
       "Date                   \n",
       "2012-03-31  52.881839  \n",
       "2012-06-30  55.594392  \n",
       "2012-09-30  64.891949  \n",
       "2012-12-31  64.161672  \n",
       "2013-03-31  63.581880  \n",
       "2013-06-30  69.393600  \n",
       "2013-09-30  68.676662  \n",
       "2013-12-31  70.651242  \n",
       "2014-03-31  69.106983  \n",
       "2014-06-30  71.284646  \n",
       "2014-09-30  70.520795  \n",
       "2014-12-31  75.797780  \n",
       "2015-03-31  79.994746  \n",
       "2015-06-30  72.501821  \n",
       "2015-09-30  65.666534  \n",
       "2015-12-31  57.743235  \n",
       "2016-03-31  63.580834  \n",
       "2016-06-30  67.762903  \n",
       "2016-09-30  71.530300  \n",
       "2016-12-31  69.150314  "
      ]
     },
     "execution_count": 22,
     "metadata": {},
     "output_type": "execute_result"
    }
   ],
   "source": [
    "# 분기별 평균\n",
    "df.resample('Q').mean()"
   ]
  },
  {
   "cell_type": "markdown",
   "metadata": {
    "colab_type": "text",
    "id": "DxWbj5shjT_S"
   },
   "source": [
    "### apply 활용\n",
    "mean이나 max이외에 resample할 때 내가 원하는 함수를 등록하여 적용할 수도 있다.\n"
   ]
  },
  {
   "cell_type": "code",
   "execution_count": 23,
   "metadata": {
    "colab": {},
    "colab_type": "code",
    "id": "3N73V_6xjT_S"
   },
   "outputs": [],
   "source": [
    "def diff(X):\n",
    "    return max(X) - min(X)"
   ]
  },
  {
   "cell_type": "code",
   "execution_count": 24,
   "metadata": {
    "colab": {
     "base_uri": "https://localhost:8080/",
     "height": 235
    },
    "colab_type": "code",
    "executionInfo": {
     "elapsed": 781,
     "status": "ok",
     "timestamp": 1592974132133,
     "user": {
      "displayName": "이선화",
      "photoUrl": "https://lh3.googleusercontent.com/a-/AOh14GiGEcSuxiespWUAaMC6eXljdm2fXmv29ZXuZ14n=s64",
      "userId": "08084686575025891086"
     },
     "user_tz": -540
    },
    "id": "gCHCkcLUjT_U",
    "outputId": "99e82b3a-dd1e-42a4-b536-4650decc4d61"
   },
   "outputs": [
    {
     "data": {
      "text/html": [
       "<div>\n",
       "<style scoped>\n",
       "    .dataframe tbody tr th:only-of-type {\n",
       "        vertical-align: middle;\n",
       "    }\n",
       "\n",
       "    .dataframe tbody tr th {\n",
       "        vertical-align: top;\n",
       "    }\n",
       "\n",
       "    .dataframe thead th {\n",
       "        text-align: right;\n",
       "    }\n",
       "</style>\n",
       "<table border=\"1\" class=\"dataframe\">\n",
       "  <thead>\n",
       "    <tr style=\"text-align: right;\">\n",
       "      <th></th>\n",
       "      <th>Open</th>\n",
       "      <th>High</th>\n",
       "      <th>Low</th>\n",
       "      <th>Close</th>\n",
       "      <th>Volume</th>\n",
       "      <th>Adj Close</th>\n",
       "    </tr>\n",
       "    <tr>\n",
       "      <th>Date</th>\n",
       "      <th></th>\n",
       "      <th></th>\n",
       "      <th></th>\n",
       "      <th></th>\n",
       "      <th></th>\n",
       "      <th></th>\n",
       "    </tr>\n",
       "  </thead>\n",
       "  <tbody>\n",
       "    <tr>\n",
       "      <th>2012-12-31</th>\n",
       "      <td>20.009998</td>\n",
       "      <td>19.169998</td>\n",
       "      <td>19.510002</td>\n",
       "      <td>19.790001</td>\n",
       "      <td>35102500</td>\n",
       "      <td>18.204682</td>\n",
       "    </tr>\n",
       "    <tr>\n",
       "      <th>2013-12-31</th>\n",
       "      <td>13.019997</td>\n",
       "      <td>12.700005</td>\n",
       "      <td>13.099999</td>\n",
       "      <td>12.909996</td>\n",
       "      <td>23588800</td>\n",
       "      <td>12.890232</td>\n",
       "    </tr>\n",
       "    <tr>\n",
       "      <th>2014-12-31</th>\n",
       "      <td>14.810005</td>\n",
       "      <td>14.989998</td>\n",
       "      <td>14.210006</td>\n",
       "      <td>14.879997</td>\n",
       "      <td>20320600</td>\n",
       "      <td>15.176287</td>\n",
       "    </tr>\n",
       "    <tr>\n",
       "      <th>2015-12-31</th>\n",
       "      <td>34.410004</td>\n",
       "      <td>33.910000</td>\n",
       "      <td>32.950001</td>\n",
       "      <td>34.050003</td>\n",
       "      <td>78415300</td>\n",
       "      <td>30.938635</td>\n",
       "    </tr>\n",
       "    <tr>\n",
       "      <th>2016-12-31</th>\n",
       "      <td>14.000000</td>\n",
       "      <td>13.700000</td>\n",
       "      <td>13.429996</td>\n",
       "      <td>13.460003</td>\n",
       "      <td>30842300</td>\n",
       "      <td>14.541917</td>\n",
       "    </tr>\n",
       "  </tbody>\n",
       "</table>\n",
       "</div>"
      ],
      "text/plain": [
       "                 Open       High        Low      Close    Volume  Adj Close\n",
       "Date                                                                       \n",
       "2012-12-31  20.009998  19.169998  19.510002  19.790001  35102500  18.204682\n",
       "2013-12-31  13.019997  12.700005  13.099999  12.909996  23588800  12.890232\n",
       "2014-12-31  14.810005  14.989998  14.210006  14.879997  20320600  15.176287\n",
       "2015-12-31  34.410004  33.910000  32.950001  34.050003  78415300  30.938635\n",
       "2016-12-31  14.000000  13.700000  13.429996  13.460003  30842300  14.541917"
      ]
     },
     "execution_count": 24,
     "metadata": {},
     "output_type": "execute_result"
    }
   ],
   "source": [
    "df.resample('A').apply(diff)"
   ]
  },
  {
   "cell_type": "markdown",
   "metadata": {
    "colab_type": "text",
    "id": "ciREw66WjT_W"
   },
   "source": [
    "# 시계열 데이터 시각화\n",
    "시계열 데이터는 선그래프로 시각화 할 수 있다."
   ]
  },
  {
   "cell_type": "code",
   "execution_count": 25,
   "metadata": {
    "colab": {
     "base_uri": "https://localhost:8080/",
     "height": 269
    },
    "colab_type": "code",
    "executionInfo": {
     "elapsed": 994,
     "status": "ok",
     "timestamp": 1592974178043,
     "user": {
      "displayName": "이선화",
      "photoUrl": "https://lh3.googleusercontent.com/a-/AOh14GiGEcSuxiespWUAaMC6eXljdm2fXmv29ZXuZ14n=s64",
      "userId": "08084686575025891086"
     },
     "user_tz": -540
    },
    "id": "pihCQmmAjT_W",
    "outputId": "5a2dd9ac-2818-4266-d86d-428863fac93d"
   },
   "outputs": [
    {
     "data": {
      "image/png": "[encoded data removed]",
      "text/plain": [
       "<Figure size 432x288 with 1 Axes>"
      ]
     },
     "metadata": {
      "needs_background": "light"
     },
     "output_type": "display_data"
    }
   ],
   "source": [
    "# 월마트 주식 종가를 시각화\n",
    "df['Close'].plot()\n",
    "plt.show()"
   ]
  },
  {
   "cell_type": "code",
   "execution_count": 26,
   "metadata": {
    "colab": {
     "base_uri": "https://localhost:8080/",
     "height": 294
    },
    "colab_type": "code",
    "executionInfo": {
     "elapsed": 698,
     "status": "ok",
     "timestamp": 1592974268618,
     "user": {
      "displayName": "이선화",
      "photoUrl": "https://lh3.googleusercontent.com/a-/AOh14GiGEcSuxiespWUAaMC6eXljdm2fXmv29ZXuZ14n=s64",
      "userId": "08084686575025891086"
     },
     "user_tz": -540
    },
    "id": "tEr86ca6jT_Y",
    "outputId": "522917b1-daad-47b7-eb78-badac0d16b6c"
   },
   "outputs": [
    {
     "data": {
      "text/plain": [
       "<matplotlib.axes._subplots.AxesSubplot at 0x21a093f6508>"
      ]
     },
     "execution_count": 26,
     "metadata": {},
     "output_type": "execute_result"
    },
    {
     "data": {
      "image/png": "[encoded data removed]",
      "text/plain": [
       "<Figure size 432x288 with 1 Axes>"
      ]
     },
     "metadata": {
      "needs_background": "light"
     },
     "output_type": "display_data"
    }
   ],
   "source": [
    "# 2013년도의 종가 정보만을 시각화\n",
    "df['Close'].loc['2013'].plot()"
   ]
  },
  {
   "cell_type": "code",
   "execution_count": 27,
   "metadata": {
    "colab": {
     "base_uri": "https://localhost:8080/",
     "height": 302
    },
    "colab_type": "code",
    "executionInfo": {
     "elapsed": 1051,
     "status": "ok",
     "timestamp": 1592974282339,
     "user": {
      "displayName": "이선화",
      "photoUrl": "https://lh3.googleusercontent.com/a-/AOh14GiGEcSuxiespWUAaMC6eXljdm2fXmv29ZXuZ14n=s64",
      "userId": "08084686575025891086"
     },
     "user_tz": -540
    },
    "id": "DF7UMEgSjT_a",
    "outputId": "235775c8-b230-4a6a-8e19-296b18b4a973"
   },
   "outputs": [
    {
     "data": {
      "text/plain": [
       "<matplotlib.axes._subplots.AxesSubplot at 0x21a09476e88>"
      ]
     },
     "execution_count": 27,
     "metadata": {},
     "output_type": "execute_result"
    },
    {
     "data": {
      "image/png": "[encoded data removed]",
      "text/plain": [
       "<Figure size 432x288 with 1 Axes>"
      ]
     },
     "metadata": {
      "needs_background": "light"
     },
     "output_type": "display_data"
    }
   ],
   "source": [
    "# 특정기간에 대한 시각화\n",
    "df['Close'].loc['05-2013':'08-2013'].plot()"
   ]
  },
  {
   "cell_type": "code",
   "execution_count": 28,
   "metadata": {
    "colab": {
     "base_uri": "https://localhost:8080/",
     "height": 296
    },
    "colab_type": "code",
    "executionInfo": {
     "elapsed": 680,
     "status": "ok",
     "timestamp": 1592974303817,
     "user": {
      "displayName": "이선화",
      "photoUrl": "https://lh3.googleusercontent.com/a-/AOh14GiGEcSuxiespWUAaMC6eXljdm2fXmv29ZXuZ14n=s64",
      "userId": "08084686575025891086"
     },
     "user_tz": -540
    },
    "id": "74yt6fFCjT_c",
    "outputId": "1af69791-86de-4a8f-f46a-070cd715253d"
   },
   "outputs": [
    {
     "data": {
      "text/plain": [
       "<matplotlib.axes._subplots.AxesSubplot at 0x21a094e49c8>"
      ]
     },
     "execution_count": 28,
     "metadata": {},
     "output_type": "execute_result"
    },
    {
     "data": {
      "image/png": "[encoded data removed]",
      "text/plain": [
       "<Figure size 432x288 with 1 Axes>"
      ]
     },
     "metadata": {
      "needs_background": "light"
     },
     "output_type": "display_data"
    }
   ],
   "source": [
    "# 분기별 평균 종가를 선그래프로 표시\n",
    "df['Close'].resample('Q').mean().plot()"
   ]
  },
  {
   "cell_type": "code",
   "execution_count": 29,
   "metadata": {
    "colab": {
     "base_uri": "https://localhost:8080/",
     "height": 392
    },
    "colab_type": "code",
    "executionInfo": {
     "elapsed": 876,
     "status": "ok",
     "timestamp": 1592974314444,
     "user": {
      "displayName": "이선화",
      "photoUrl": "https://lh3.googleusercontent.com/a-/AOh14GiGEcSuxiespWUAaMC6eXljdm2fXmv29ZXuZ14n=s64",
      "userId": "08084686575025891086"
     },
     "user_tz": -540
    },
    "id": "nu2gsvy4jT_d",
    "outputId": "779086b9-3a32-465f-8792-f98e78336a54"
   },
   "outputs": [
    {
     "data": {
      "text/plain": [
       "<matplotlib.axes._subplots.AxesSubplot at 0x21a092b53c8>"
      ]
     },
     "execution_count": 29,
     "metadata": {},
     "output_type": "execute_result"
    },
    {
     "data": {
      "image/png": "[encoded data removed]",
      "text/plain": [
       "<Figure size 432x288 with 1 Axes>"
      ]
     },
     "metadata": {
      "needs_background": "light"
     },
     "output_type": "display_data"
    }
   ],
   "source": [
    "# 년도별 평균 종가를 막대그래프로 표시\n",
    "df['Close'].resample('A').mean().plot(kind='bar')"
   ]
  },
  {
   "cell_type": "markdown",
   "metadata": {
    "colab_type": "text",
    "id": "6fKDGq5GjT_f"
   },
   "source": [
    "# 이동평균 계산 rolling\n",
    "\n",
    "* **이동평균** 이란 일정 기간의 값을 산술 평균한 값이다.\n",
    "* 이 기간을 5일로 사용한 것이 5일 이동평균이고 이를 연결한 것이 5일 이동평균 선이라 한다.\n",
    "* 이동평균선을 통해 해당 시계열 데이터의 추세를 확인할 수 있다."
   ]
  },
  {
   "cell_type": "code",
   "execution_count": 30,
   "metadata": {
    "colab": {
     "base_uri": "https://localhost:8080/",
     "height": 286
    },
    "colab_type": "code",
    "executionInfo": {
     "elapsed": 1109,
     "status": "ok",
     "timestamp": 1592974378526,
     "user": {
      "displayName": "이선화",
      "photoUrl": "https://lh3.googleusercontent.com/a-/AOh14GiGEcSuxiespWUAaMC6eXljdm2fXmv29ZXuZ14n=s64",
      "userId": "08084686575025891086"
     },
     "user_tz": -540
    },
    "id": "SDzvMhcijT_g",
    "outputId": "823970e1-179e-4d4c-baf8-74d9bcb650b6"
   },
   "outputs": [
    {
     "data": {
      "text/plain": [
       "<matplotlib.legend.Legend at 0x21a095abd88>"
      ]
     },
     "execution_count": 30,
     "metadata": {},
     "output_type": "execute_result"
    },
    {
     "data": {
      "image/png": "[encoded data removed]",
      "text/plain": [
       "<Figure size 432x288 with 1 Axes>"
      ]
     },
     "metadata": {
      "needs_background": "light"
     },
     "output_type": "display_data"
    }
   ],
   "source": [
    "df['Close'].plot()\n",
    "m_120=df['Close'].rolling(window=120).mean()\n",
    "m_60 =df['Close'].rolling(window=60).mean()\n",
    "m_120.plot(label='120 moving average')\n",
    "m_60.plot(label='60 moving average')\n",
    "plt.legend()"
   ]
  }
 ],
 "metadata": {
  "colab": {
   "collapsed_sections": [],
   "name": "05Pandas_시계열.ipynb",
   "provenance": []
  },
  "kernelspec": {
   "display_name": "Python 3",
   "language": "python",
   "name": "python3"
  },
  "language_info": {
   "codemirror_mode": {
    "name": "ipython",
    "version": 3
   },
   "file_extension": ".py",
   "mimetype": "text/x-python",
   "name": "python",
   "nbconvert_exporter": "python",
   "pygments_lexer": "ipython3",
   "version": "3.7.6"
  }
 },
 "nbformat": 4,
 "nbformat_minor": 1
}
