{
 "cells": [
  {
   "cell_type": "markdown",
   "metadata": {
    "colab_type": "text",
    "id": "jWKXFLpbGTD9"
   },
   "source": [
    "# Numpy Basic"
   ]
  },
  {
   "cell_type": "markdown",
   "metadata": {},
   "source": [
    "## Numpy 개요\n",
    "넘파이는 고성능 수치계산을 위한 라이브러리이다.  \n",
    "ndarray는 다차원 배열이다. \n",
    "\n",
    "**Numpy 로 하는 일**\n",
    "* List 자료로 Numpy array 로 만들기\n",
    "* 행렬 형태 확인하기\n",
    "* 행렬 형태 바꾸기\n",
    "* 행렬 데이터 만들기\n",
    "* 행렬의 일부 구간 추출하기\n",
    "* 행렬끼리 더하기, 곱하기, 행렬 원소간의 연산\n",
    "* 행렬끼리 합치기\n",
    "* 그외 연산"
   ]
  },
  {
   "cell_type": "code",
   "execution_count": 1,
   "metadata": {
    "colab": {},
    "colab_type": "code",
    "id": "fTq3oLr_GTEA"
   },
   "outputs": [],
   "source": [
    "import numpy as np  # Make numpy available using np"
   ]
  },
  {
   "cell_type": "markdown",
   "metadata": {},
   "source": [
    "### ndarray의 생성\n",
    "* np.array()로 다차원 배열을 생성할 수 있다.\n",
    "* np.append() - 생성된 배열에 원소(element)를 추가한다.\n",
    "* 다차원 배열의 원소는 index를 통해 접근할 수 있다."
   ]
  },
  {
   "cell_type": "code",
   "execution_count": 2,
   "metadata": {},
   "outputs": [
    {
     "name": "stdout",
     "output_type": "stream",
     "text": [
      "Current array: ['Hello' 'World' '!']\n",
      "Printing each element\n",
      "Hello\n",
      "World\n",
      "!\n",
      "\n",
      "Printing each element and their index\n",
      "Index: 0, was: Hello\n",
      "Index: 1, was: World\n",
      "Index: 2, was: !\n"
     ]
    }
   ],
   "source": [
    "# Create a numpy array, and append an element\n",
    "a = np.array([\"Hello\", \"World\"])\n",
    "a = np.append(a, \"!\")\n",
    "print(\"Current array: {}\".format(a))\n",
    "print(\"Printing each element\")\n",
    "for i in a:\n",
    "    print(i)\n",
    "\n",
    "print(\"\\nPrinting each element and their index\")\n",
    "for i,e in enumerate(a):\n",
    "    print(\"Index: {}, was: {}\".format(i, e))"
   ]
  },
  {
   "cell_type": "markdown",
   "metadata": {},
   "source": [
    "### 수학 함수의 사용\n",
    "* universal function - 다차원 배열에 일반적인 수학 함수를 적용할 수 있다."
   ]
  },
  {
   "cell_type": "code",
   "execution_count": 3,
   "metadata": {
    "scrolled": true
   },
   "outputs": [
    {
     "name": "stdout",
     "output_type": "stream",
     "text": [
      "\n",
      "Showing some basic math on arrays\n",
      "Max: 4\n",
      "Average: 2.0\n",
      "Max index: 2\n"
     ]
    }
   ],
   "source": [
    "print(\"\\nShowing some basic math on arrays\")\n",
    "b = np.array([0,1,4,3,2])\n",
    "print(\"Max: {}\".format(np.max(b)))\n",
    "print(\"Average: {}\".format(np.average(b)))\n",
    "print(\"Max index: {}\".format(np.argmax(b)))"
   ]
  },
  {
   "cell_type": "code",
   "execution_count": 4,
   "metadata": {},
   "outputs": [
    {
     "name": "stdout",
     "output_type": "stream",
     "text": [
      "\n",
      "You can print the type of anything\n",
      "Type of b: <class 'numpy.ndarray'>, type of b[0]: <class 'numpy.int32'>\n"
     ]
    }
   ],
   "source": [
    "print(\"\\nYou can print the type of anything\")\n",
    "print(\"Type of b: {}, type of b[0]: {}\".format(type(b), type(b[0])))"
   ]
  },
  {
   "cell_type": "markdown",
   "metadata": {
    "colab_type": "text",
    "id": "EcPD1UXhGTEE"
   },
   "source": [
    "## data type"
   ]
  },
  {
   "cell_type": "markdown",
   "metadata": {
    "colab_type": "text",
    "id": "5oeRpLweGTEF"
   },
   "source": [
    "array의 dtype을 본다. "
   ]
  },
  {
   "cell_type": "code",
   "execution_count": 5,
   "metadata": {
    "colab": {},
    "colab_type": "code",
    "id": "ZIq_kNvWGTEG"
   },
   "outputs": [],
   "source": [
    "arr = np.array([[1., 2, 3], [1, 2, 3]])"
   ]
  },
  {
   "cell_type": "code",
   "execution_count": 6,
   "metadata": {
    "colab": {
     "base_uri": "https://localhost:8080/",
     "height": 34
    },
    "colab_type": "code",
    "executionInfo": {
     "elapsed": 2743,
     "status": "ok",
     "timestamp": 1573973088763,
     "user": {
      "displayName": "이선화",
      "photoUrl": "https://lh3.googleusercontent.com/a-/AAuE7mAaVHDHE1MIY1LHmJ_yWOBQMBjk_0EAJ4f0eWo-=s64",
      "userId": "17814374716323603424"
     },
     "user_tz": -540
    },
    "id": "JT921THIGTEI",
    "outputId": "a1423caf-f817-4d0a-b87e-c68484c9c73f"
   },
   "outputs": [
    {
     "data": {
      "text/plain": [
       "dtype('float64')"
      ]
     },
     "execution_count": 6,
     "metadata": {},
     "output_type": "execute_result"
    }
   ],
   "source": [
    "arr.dtype"
   ]
  },
  {
   "cell_type": "markdown",
   "metadata": {
    "colab_type": "text",
    "id": "_Nwi3xY4GTEK"
   },
   "source": [
    ".astype()으로 datatype을 변환 가능"
   ]
  },
  {
   "cell_type": "code",
   "execution_count": 7,
   "metadata": {
    "colab": {
     "base_uri": "https://localhost:8080/",
     "height": 52
    },
    "colab_type": "code",
    "executionInfo": {
     "elapsed": 2741,
     "status": "ok",
     "timestamp": 1573973088764,
     "user": {
      "displayName": "이선화",
      "photoUrl": "https://lh3.googleusercontent.com/a-/AAuE7mAaVHDHE1MIY1LHmJ_yWOBQMBjk_0EAJ4f0eWo-=s64",
      "userId": "17814374716323603424"
     },
     "user_tz": -540
    },
    "id": "u11ogFdBGTEL",
    "outputId": "fbc1df98-97e3-4d1f-c917-de44ffb0c9ee"
   },
   "outputs": [
    {
     "data": {
      "text/plain": [
       "array([[1, 2, 3],\n",
       "       [1, 2, 3]])"
      ]
     },
     "execution_count": 7,
     "metadata": {},
     "output_type": "execute_result"
    }
   ],
   "source": [
    "arr = arr.astype(np.int32)\n",
    "arr"
   ]
  },
  {
   "cell_type": "code",
   "execution_count": 8,
   "metadata": {
    "colab": {
     "base_uri": "https://localhost:8080/",
     "height": 34
    },
    "colab_type": "code",
    "executionInfo": {
     "elapsed": 2739,
     "status": "ok",
     "timestamp": 1573973088765,
     "user": {
      "displayName": "이선화",
      "photoUrl": "https://lh3.googleusercontent.com/a-/AAuE7mAaVHDHE1MIY1LHmJ_yWOBQMBjk_0EAJ4f0eWo-=s64",
      "userId": "17814374716323603424"
     },
     "user_tz": -540
    },
    "id": "4B6oeYmFGTEN",
    "outputId": "dde053a5-2f37-4eb9-8d5d-5df614f64e23"
   },
   "outputs": [
    {
     "data": {
      "text/plain": [
       "dtype('uint8')"
      ]
     },
     "execution_count": 8,
     "metadata": {},
     "output_type": "execute_result"
    }
   ],
   "source": [
    "arr = np.array([[1., 2, 3], [1, 2, 3]], dtype=np.uint8)\n",
    "arr.dtype"
   ]
  },
  {
   "cell_type": "markdown",
   "metadata": {
    "colab_type": "text",
    "id": "8puyOHjhGTEQ"
   },
   "source": [
    "### ndarray의 차원 확인\n",
    "len(arr.shape) 를 통해서 차원의 갯수를 확인 할 수 있지만,  \n",
    "아래와 같이 ndim을 통해 차원 수를 return 가능"
   ]
  },
  {
   "cell_type": "code",
   "execution_count": 9,
   "metadata": {
    "colab": {
     "base_uri": "https://localhost:8080/",
     "height": 34
    },
    "colab_type": "code",
    "executionInfo": {
     "elapsed": 2735,
     "status": "ok",
     "timestamp": 1573973088765,
     "user": {
      "displayName": "이선화",
      "photoUrl": "https://lh3.googleusercontent.com/a-/AAuE7mAaVHDHE1MIY1LHmJ_yWOBQMBjk_0EAJ4f0eWo-=s64",
      "userId": "17814374716323603424"
     },
     "user_tz": -540
    },
    "id": "3tJtLLTrGTER",
    "outputId": "76f47e2c-3470-4bdc-d7b5-07f06498fd59"
   },
   "outputs": [
    {
     "data": {
      "text/plain": [
       "2"
      ]
     },
     "execution_count": 9,
     "metadata": {},
     "output_type": "execute_result"
    }
   ],
   "source": [
    "len(arr.shape)"
   ]
  },
  {
   "cell_type": "code",
   "execution_count": 10,
   "metadata": {
    "colab": {
     "base_uri": "https://localhost:8080/",
     "height": 34
    },
    "colab_type": "code",
    "executionInfo": {
     "elapsed": 2733,
     "status": "ok",
     "timestamp": 1573973088766,
     "user": {
      "displayName": "이선화",
      "photoUrl": "https://lh3.googleusercontent.com/a-/AAuE7mAaVHDHE1MIY1LHmJ_yWOBQMBjk_0EAJ4f0eWo-=s64",
      "userId": "17814374716323603424"
     },
     "user_tz": -540
    },
    "id": "Z351O-DZGTET",
    "outputId": "a889d9eb-e942-4f24-fb99-20745b4e1c28"
   },
   "outputs": [
    {
     "data": {
      "text/plain": [
       "(2, 3)"
      ]
     },
     "execution_count": 10,
     "metadata": {},
     "output_type": "execute_result"
    }
   ],
   "source": [
    "arr.shape"
   ]
  },
  {
   "cell_type": "markdown",
   "metadata": {
    "colab_type": "text",
    "id": "anPn9tCNGTEV"
   },
   "source": [
    "size 확인"
   ]
  },
  {
   "cell_type": "code",
   "execution_count": 11,
   "metadata": {
    "colab": {
     "base_uri": "https://localhost:8080/",
     "height": 34
    },
    "colab_type": "code",
    "executionInfo": {
     "elapsed": 2730,
     "status": "ok",
     "timestamp": 1573973088766,
     "user": {
      "displayName": "이선화",
      "photoUrl": "https://lh3.googleusercontent.com/a-/AAuE7mAaVHDHE1MIY1LHmJ_yWOBQMBjk_0EAJ4f0eWo-=s64",
      "userId": "17814374716323603424"
     },
     "user_tz": -540
    },
    "id": "lODqbyB1GTEW",
    "outputId": "9453d441-d41c-49e1-87fc-12c802e2c97f"
   },
   "outputs": [
    {
     "data": {
      "text/plain": [
       "6"
      ]
     },
     "execution_count": 11,
     "metadata": {},
     "output_type": "execute_result"
    }
   ],
   "source": [
    "arr.size"
   ]
  },
  {
   "cell_type": "markdown",
   "metadata": {
    "colab_type": "text",
    "id": "gZhxSs0nGTEY"
   },
   "source": [
    "dtype 확인"
   ]
  },
  {
   "cell_type": "code",
   "execution_count": 12,
   "metadata": {
    "colab": {
     "base_uri": "https://localhost:8080/",
     "height": 34
    },
    "colab_type": "code",
    "executionInfo": {
     "elapsed": 2728,
     "status": "ok",
     "timestamp": 1573973088767,
     "user": {
      "displayName": "이선화",
      "photoUrl": "https://lh3.googleusercontent.com/a-/AAuE7mAaVHDHE1MIY1LHmJ_yWOBQMBjk_0EAJ4f0eWo-=s64",
      "userId": "17814374716323603424"
     },
     "user_tz": -540
    },
    "id": "mfbBGoMrGTEZ",
    "outputId": "26417e1a-424f-49e9-8aef-f0cc79234303"
   },
   "outputs": [
    {
     "data": {
      "text/plain": [
       "dtype('uint8')"
      ]
     },
     "execution_count": 12,
     "metadata": {},
     "output_type": "execute_result"
    }
   ],
   "source": [
    "arr.dtype"
   ]
  },
  {
   "cell_type": "markdown",
   "metadata": {
    "colab_type": "text",
    "id": "hfIqd0KdGTEb"
   },
   "source": [
    "## Reshape\n",
    "\n",
    "ndarray의 형태를 변경한다."
   ]
  },
  {
   "cell_type": "code",
   "execution_count": 13,
   "metadata": {},
   "outputs": [
    {
     "name": "stdout",
     "output_type": "stream",
     "text": [
      "Numpy array C: \n",
      " [[1 2 3]\n",
      " [4 5 6]]\n",
      "Shape of C : (2, 3)\n",
      "Numpy array C (reshaped to (3,2)): \n",
      " [[1 2]\n",
      " [3 4]\n",
      " [5 6]]\n"
     ]
    }
   ],
   "source": [
    "# 행렬의 형태 변경하기\n",
    "c = [[1,2,3],[4,5,6]]\n",
    "\n",
    "C = np.array(c)\n",
    "\n",
    "print('Numpy array C: \\n', C)\n",
    "print('Shape of C :', C.shape)\n",
    "\n",
    "C = C.reshape(3,2)\n",
    "print('Numpy array C (reshaped to (3,2)): \\n', C)   "
   ]
  },
  {
   "cell_type": "code",
   "execution_count": 14,
   "metadata": {},
   "outputs": [
    {
     "data": {
      "text/plain": [
       "array([[1],\n",
       "       [2],\n",
       "       [3],\n",
       "       [4],\n",
       "       [5],\n",
       "       [6]])"
      ]
     },
     "execution_count": 14,
     "metadata": {},
     "output_type": "execute_result"
    }
   ],
   "source": [
    "C_colvector = C.reshape(-1,1)   # 행의 크기는 미정이지만 열의 크기는 1로 고정하겠다는 표현입니다.\n",
    "C_colvector"
   ]
  },
  {
   "cell_type": "code",
   "execution_count": 15,
   "metadata": {
    "colab": {
     "base_uri": "https://localhost:8080/",
     "height": 34
    },
    "colab_type": "code",
    "executionInfo": {
     "elapsed": 2726,
     "status": "ok",
     "timestamp": 1573973088768,
     "user": {
      "displayName": "이선화",
      "photoUrl": "https://lh3.googleusercontent.com/a-/AAuE7mAaVHDHE1MIY1LHmJ_yWOBQMBjk_0EAJ4f0eWo-=s64",
      "userId": "17814374716323603424"
     },
     "user_tz": -540
    },
    "id": "BZqkdEUNGTEb",
    "outputId": "0ec72e30-8892-4733-8d01-7a23bd6b1844"
   },
   "outputs": [
    {
     "name": "stdout",
     "output_type": "stream",
     "text": [
      "[[1 2 3]\n",
      " [1 2 3]]\n",
      "(2, 3)\n"
     ]
    }
   ],
   "source": [
    "print(arr)\n",
    "print(arr.shape)"
   ]
  },
  {
   "cell_type": "markdown",
   "metadata": {
    "colab_type": "text",
    "id": "dKsX6LxfGTEe"
   },
   "source": [
    "Reshape "
   ]
  },
  {
   "cell_type": "code",
   "execution_count": 16,
   "metadata": {
    "colab": {
     "base_uri": "https://localhost:8080/",
     "height": 34
    },
    "colab_type": "code",
    "executionInfo": {
     "elapsed": 2723,
     "status": "ok",
     "timestamp": 1573973088768,
     "user": {
      "displayName": "이선화",
      "photoUrl": "https://lh3.googleusercontent.com/a-/AAuE7mAaVHDHE1MIY1LHmJ_yWOBQMBjk_0EAJ4f0eWo-=s64",
      "userId": "17814374716323603424"
     },
     "user_tz": -540
    },
    "id": "sUmSkgibGTEf",
    "outputId": "78c12e9c-b868-4bab-dea1-02c92edcc41b"
   },
   "outputs": [
    {
     "data": {
      "text/plain": [
       "(1, 6)"
      ]
     },
     "execution_count": 16,
     "metadata": {},
     "output_type": "execute_result"
    }
   ],
   "source": [
    "arr = arr.reshape([1, 6])\n",
    "arr.shape"
   ]
  },
  {
   "cell_type": "code",
   "execution_count": 17,
   "metadata": {
    "colab": {},
    "colab_type": "code",
    "id": "ADnh6WvRGTEh"
   },
   "outputs": [],
   "source": [
    "arr = np.array([[1, 2, 3], [1, 2, 3]])"
   ]
  },
  {
   "cell_type": "code",
   "execution_count": 18,
   "metadata": {
    "colab": {
     "base_uri": "https://localhost:8080/",
     "height": 34
    },
    "colab_type": "code",
    "executionInfo": {
     "elapsed": 2719,
     "status": "ok",
     "timestamp": 1573973088770,
     "user": {
      "displayName": "이선화",
      "photoUrl": "https://lh3.googleusercontent.com/a-/AAuE7mAaVHDHE1MIY1LHmJ_yWOBQMBjk_0EAJ4f0eWo-=s64",
      "userId": "17814374716323603424"
     },
     "user_tz": -540
    },
    "id": "YkwttHA9GTEj",
    "outputId": "324ac518-a65b-4ece-a716-1be77f4d9e3c"
   },
   "outputs": [
    {
     "data": {
      "text/plain": [
       "(6,)"
      ]
     },
     "execution_count": 18,
     "metadata": {},
     "output_type": "execute_result"
    }
   ],
   "source": [
    "arr.reshape([6]).shape"
   ]
  },
  {
   "cell_type": "markdown",
   "metadata": {
    "colab_type": "text",
    "id": "fDivc3JkGTEl"
   },
   "source": [
    "Reshape, -1 활용"
   ]
  },
  {
   "cell_type": "code",
   "execution_count": 19,
   "metadata": {
    "colab": {
     "base_uri": "https://localhost:8080/",
     "height": 34
    },
    "colab_type": "code",
    "executionInfo": {
     "elapsed": 2716,
     "status": "ok",
     "timestamp": 1573973088770,
     "user": {
      "displayName": "이선화",
      "photoUrl": "https://lh3.googleusercontent.com/a-/AAuE7mAaVHDHE1MIY1LHmJ_yWOBQMBjk_0EAJ4f0eWo-=s64",
      "userId": "17814374716323603424"
     },
     "user_tz": -540
    },
    "id": "uwHGWKjPGTEm",
    "outputId": "85a4a6ad-8602-4f83-d1f1-2ab2ce6013cb"
   },
   "outputs": [
    {
     "data": {
      "text/plain": [
       "(6,)"
      ]
     },
     "execution_count": 19,
     "metadata": {},
     "output_type": "execute_result"
    }
   ],
   "source": [
    "arr = arr.reshape(-1)\n",
    "arr.shape"
   ]
  },
  {
   "cell_type": "code",
   "execution_count": 20,
   "metadata": {
    "colab": {
     "base_uri": "https://localhost:8080/",
     "height": 34
    },
    "colab_type": "code",
    "executionInfo": {
     "elapsed": 2714,
     "status": "ok",
     "timestamp": 1573973088771,
     "user": {
      "displayName": "이선화",
      "photoUrl": "https://lh3.googleusercontent.com/a-/AAuE7mAaVHDHE1MIY1LHmJ_yWOBQMBjk_0EAJ4f0eWo-=s64",
      "userId": "17814374716323603424"
     },
     "user_tz": -540
    },
    "id": "VOXas2YfGTEo",
    "outputId": "a8ee2468-fcd5-4308-b874-a4befbef5809",
    "scrolled": true
   },
   "outputs": [
    {
     "data": {
      "text/plain": [
       "(2, 3)"
      ]
     },
     "execution_count": 20,
     "metadata": {},
     "output_type": "execute_result"
    }
   ],
   "source": [
    "arr = arr.reshape(-1, 3)\n",
    "arr.shape"
   ]
  },
  {
   "cell_type": "markdown",
   "metadata": {
    "colab_type": "text",
    "id": "cVohU-T6GTEq"
   },
   "source": [
    "### random array 생성\n",
    "* np.random.randint : 균일 분포의 정수 난수 생성\n",
    "* np.random.rand : 0부터 1사이의 균일 분포에서 난수 배열 생성\n",
    "* np.random.randn : 가우시안 표준 정규 분포에서 난수 배열 생성"
   ]
  },
  {
   "cell_type": "code",
   "execution_count": 21,
   "metadata": {
    "colab": {
     "base_uri": "https://localhost:8080/",
     "height": 34
    },
    "colab_type": "code",
    "executionInfo": {
     "elapsed": 2712,
     "status": "ok",
     "timestamp": 1573973088772,
     "user": {
      "displayName": "이선화",
      "photoUrl": "https://lh3.googleusercontent.com/a-/AAuE7mAaVHDHE1MIY1LHmJ_yWOBQMBjk_0EAJ4f0eWo-=s64",
      "userId": "17814374716323603424"
     },
     "user_tz": -540
    },
    "id": "Uy1kU-k1GTEr",
    "outputId": "3713155e-213e-49e1-ede9-0ec1237a2bdb"
   },
   "outputs": [
    {
     "data": {
      "text/plain": [
       "(8, 8)"
      ]
     },
     "execution_count": 21,
     "metadata": {},
     "output_type": "execute_result"
    }
   ],
   "source": [
    "arr = np.random.randn(8, 8)\n",
    "arr.shape"
   ]
  },
  {
   "cell_type": "code",
   "execution_count": 22,
   "metadata": {
    "colab": {
     "base_uri": "https://localhost:8080/",
     "height": 34
    },
    "colab_type": "code",
    "executionInfo": {
     "elapsed": 2709,
     "status": "ok",
     "timestamp": 1573973088772,
     "user": {
      "displayName": "이선화",
      "photoUrl": "https://lh3.googleusercontent.com/a-/AAuE7mAaVHDHE1MIY1LHmJ_yWOBQMBjk_0EAJ4f0eWo-=s64",
      "userId": "17814374716323603424"
     },
     "user_tz": -540
    },
    "id": "8U3pEZXJGTEt",
    "outputId": "9916f249-7c15-47f7-81c9-a5b95e1d7777"
   },
   "outputs": [
    {
     "data": {
      "text/plain": [
       "(32, 2)"
      ]
     },
     "execution_count": 22,
     "metadata": {},
     "output_type": "execute_result"
    }
   ],
   "source": [
    "arr = arr.reshape([32, 2])\n",
    "arr.shape"
   ]
  },
  {
   "cell_type": "markdown",
   "metadata": {
    "colab_type": "text",
    "id": "O_zAXoL8GTEx"
   },
   "source": [
    "3차원으로 늘리기"
   ]
  },
  {
   "cell_type": "code",
   "execution_count": 23,
   "metadata": {
    "colab": {
     "base_uri": "https://localhost:8080/",
     "height": 34
    },
    "colab_type": "code",
    "executionInfo": {
     "elapsed": 2707,
     "status": "ok",
     "timestamp": 1573973088773,
     "user": {
      "displayName": "이선화",
      "photoUrl": "https://lh3.googleusercontent.com/a-/AAuE7mAaVHDHE1MIY1LHmJ_yWOBQMBjk_0EAJ4f0eWo-=s64",
      "userId": "17814374716323603424"
     },
     "user_tz": -540
    },
    "id": "Xz7TpA00GTEy",
    "outputId": "cf9cd161-dad9-4c0a-ff6f-01027178767e"
   },
   "outputs": [
    {
     "data": {
      "text/plain": [
       "(4, 4, 4)"
      ]
     },
     "execution_count": 23,
     "metadata": {},
     "output_type": "execute_result"
    }
   ],
   "source": [
    "arr = arr.reshape(-1, 4, 4)\n",
    "arr.shape"
   ]
  },
  {
   "cell_type": "code",
   "execution_count": 24,
   "metadata": {
    "colab": {
     "base_uri": "https://localhost:8080/",
     "height": 1000
    },
    "colab_type": "code",
    "executionInfo": {
     "elapsed": 2704,
     "status": "ok",
     "timestamp": 1573973088773,
     "user": {
      "displayName": "이선화",
      "photoUrl": "https://lh3.googleusercontent.com/a-/AAuE7mAaVHDHE1MIY1LHmJ_yWOBQMBjk_0EAJ4f0eWo-=s64",
      "userId": "17814374716323603424"
     },
     "user_tz": -540
    },
    "id": "wnhdpz8XGTE1",
    "outputId": "c620a5e0-ca34-42ed-c728-766051191741",
    "scrolled": true
   },
   "outputs": [
    {
     "data": {
      "text/plain": [
       "array([[[ 1.41645542,  0.1453502 ,  1.31290611,  0.9164397 ],\n",
       "        [-2.12976254,  1.18659453,  0.73983998,  0.88887438],\n",
       "        [ 0.25595505, -0.70630121,  0.26199799, -0.42693557],\n",
       "        [ 0.4268292 , -1.02130285, -0.09652009, -1.15670295]],\n",
       "\n",
       "       [[-0.42221152,  0.66906981,  1.7685894 , -0.34127902],\n",
       "        [-1.90404195,  0.1218231 ,  1.04169686, -0.47005479],\n",
       "        [ 1.19025742, -1.27157764,  0.17999375,  0.56005606],\n",
       "        [ 1.25486171,  1.50854898, -2.01740917, -0.29087224]],\n",
       "\n",
       "       [[ 1.29552808,  0.56598165, -0.10219016, -0.88111578],\n",
       "        [-2.23711808,  0.41989644, -0.3272832 ,  0.97366897],\n",
       "        [-1.21100945, -0.79006464,  0.57125096,  0.57377871],\n",
       "        [ 1.11874421,  0.40705545,  0.42508134,  1.25465206]],\n",
       "\n",
       "       [[ 0.32368954,  1.00604518,  0.05384761,  1.38884127],\n",
       "        [-0.40363698,  0.67169569, -0.59000511,  1.19148053],\n",
       "        [-0.87145961,  1.23730851,  1.04693825,  0.8076058 ],\n",
       "        [ 0.62956279,  1.19924005, -1.8948151 ,  0.85290819]]])"
      ]
     },
     "execution_count": 24,
     "metadata": {},
     "output_type": "execute_result"
    }
   ],
   "source": [
    "arr"
   ]
  },
  {
   "cell_type": "markdown",
   "metadata": {
    "colab_type": "text",
    "id": "iOO1ns0XGTE3"
   },
   "source": [
    "## Ravel\n",
    "arr의 차원을 1로 변경한다."
   ]
  },
  {
   "cell_type": "code",
   "execution_count": 25,
   "metadata": {
    "colab": {
     "base_uri": "https://localhost:8080/",
     "height": 0
    },
    "colab_type": "code",
    "executionInfo": {
     "elapsed": 2702,
     "status": "ok",
     "timestamp": 1573973088774,
     "user": {
      "displayName": "이선화",
      "photoUrl": "https://lh3.googleusercontent.com/a-/AAuE7mAaVHDHE1MIY1LHmJ_yWOBQMBjk_0EAJ4f0eWo-=s64",
      "userId": "17814374716323603424"
     },
     "user_tz": -540
    },
    "id": "w0vCA0epGTE4",
    "outputId": "79842061-d71d-4cc7-b39e-d8dbbb3052d8"
   },
   "outputs": [
    {
     "data": {
      "text/plain": [
       "(4, 4, 4)"
      ]
     },
     "execution_count": 25,
     "metadata": {},
     "output_type": "execute_result"
    }
   ],
   "source": [
    "arr.shape"
   ]
  },
  {
   "cell_type": "code",
   "execution_count": 26,
   "metadata": {
    "colab": {
     "base_uri": "https://localhost:8080/",
     "height": 0
    },
    "colab_type": "code",
    "executionInfo": {
     "elapsed": 2700,
     "status": "ok",
     "timestamp": 1573973088775,
     "user": {
      "displayName": "이선화",
      "photoUrl": "https://lh3.googleusercontent.com/a-/AAuE7mAaVHDHE1MIY1LHmJ_yWOBQMBjk_0EAJ4f0eWo-=s64",
      "userId": "17814374716323603424"
     },
     "user_tz": -540
    },
    "id": "3YFUT9hqGTE6",
    "outputId": "d61cc865-5e53-4eb9-f9c7-f2e3a11f0e5e"
   },
   "outputs": [
    {
     "data": {
      "text/plain": [
       "(64,)"
      ]
     },
     "execution_count": 26,
     "metadata": {},
     "output_type": "execute_result"
    }
   ],
   "source": [
    "arr = arr.ravel()\n",
    "arr.shape"
   ]
  },
  {
   "cell_type": "markdown",
   "metadata": {
    "colab_type": "text",
    "id": "lNdF4upfGTE_"
   },
   "source": [
    "ravel은 arr.reshape(-1) 와 같다"
   ]
  },
  {
   "cell_type": "code",
   "execution_count": 27,
   "metadata": {
    "colab": {
     "base_uri": "https://localhost:8080/",
     "height": 0
    },
    "colab_type": "code",
    "executionInfo": {
     "elapsed": 2695,
     "status": "ok",
     "timestamp": 1573973088776,
     "user": {
      "displayName": "이선화",
      "photoUrl": "https://lh3.googleusercontent.com/a-/AAuE7mAaVHDHE1MIY1LHmJ_yWOBQMBjk_0EAJ4f0eWo-=s64",
      "userId": "17814374716323603424"
     },
     "user_tz": -540
    },
    "id": "Drb7ti6LGTFA",
    "outputId": "c8612bc4-9459-4f1f-9d3f-f409dafe27ab"
   },
   "outputs": [
    {
     "data": {
      "text/plain": [
       "array([ True,  True,  True,  True,  True,  True,  True,  True,  True,\n",
       "        True,  True,  True,  True,  True,  True,  True,  True,  True,\n",
       "        True,  True,  True,  True,  True,  True,  True,  True,  True,\n",
       "        True,  True,  True,  True,  True,  True,  True,  True,  True,\n",
       "        True,  True,  True,  True,  True,  True,  True,  True,  True,\n",
       "        True,  True,  True,  True,  True,  True,  True,  True,  True,\n",
       "        True,  True,  True,  True,  True,  True,  True,  True,  True,\n",
       "        True])"
      ]
     },
     "execution_count": 27,
     "metadata": {},
     "output_type": "execute_result"
    }
   ],
   "source": [
    "arr.ravel() == arr.reshape(-1)"
   ]
  },
  {
   "cell_type": "markdown",
   "metadata": {
    "colab_type": "text",
    "id": "-Dn2IiyhGTFB"
   },
   "source": [
    "## np.expand_dims()"
   ]
  },
  {
   "cell_type": "markdown",
   "metadata": {
    "colab_type": "text",
    "id": "yogKIRViGTFC"
   },
   "source": [
    "배열의 값은 유지하되 차원 수를 늘리고 싶을 때가 있다. \n",
    "이럴 때 손쉽게 차원을 변경할때 활용되는 것이 expand_dims 함수이다."
   ]
  },
  {
   "cell_type": "code",
   "execution_count": 28,
   "metadata": {
    "colab": {
     "base_uri": "https://localhost:8080/",
     "height": 0
    },
    "colab_type": "code",
    "executionInfo": {
     "elapsed": 2692,
     "status": "ok",
     "timestamp": 1573973088776,
     "user": {
      "displayName": "이선화",
      "photoUrl": "https://lh3.googleusercontent.com/a-/AAuE7mAaVHDHE1MIY1LHmJ_yWOBQMBjk_0EAJ4f0eWo-=s64",
      "userId": "17814374716323603424"
     },
     "user_tz": -540
    },
    "id": "_ps99FV6GTFD",
    "outputId": "7a5d940d-34d7-4183-dddd-1531efd93cda"
   },
   "outputs": [
    {
     "data": {
      "text/plain": [
       "(64,)"
      ]
     },
     "execution_count": 28,
     "metadata": {},
     "output_type": "execute_result"
    }
   ],
   "source": [
    "arr.shape"
   ]
  },
  {
   "cell_type": "code",
   "execution_count": 29,
   "metadata": {
    "colab": {
     "base_uri": "https://localhost:8080/",
     "height": 0
    },
    "colab_type": "code",
    "executionInfo": {
     "elapsed": 2690,
     "status": "ok",
     "timestamp": 1573973088777,
     "user": {
      "displayName": "이선화",
      "photoUrl": "https://lh3.googleusercontent.com/a-/AAuE7mAaVHDHE1MIY1LHmJ_yWOBQMBjk_0EAJ4f0eWo-=s64",
      "userId": "17814374716323603424"
     },
     "user_tz": -540
    },
    "id": "cOyz624oGTFE",
    "outputId": "39dc9346-de07-4b4e-824c-2b84130ae0e6"
   },
   "outputs": [
    {
     "data": {
      "text/plain": [
       "(64, 1)"
      ]
     },
     "execution_count": 29,
     "metadata": {},
     "output_type": "execute_result"
    }
   ],
   "source": [
    "arr = np.expand_dims(arr, -1)\n",
    "arr.shape"
   ]
  },
  {
   "cell_type": "code",
   "execution_count": 30,
   "metadata": {
    "colab": {},
    "colab_type": "code",
    "id": "DmfmoQeBGTFH"
   },
   "outputs": [],
   "source": [
    "arr = arr.ravel()"
   ]
  },
  {
   "cell_type": "code",
   "execution_count": 31,
   "metadata": {
    "colab": {
     "base_uri": "https://localhost:8080/",
     "height": 0
    },
    "colab_type": "code",
    "executionInfo": {
     "elapsed": 2685,
     "status": "ok",
     "timestamp": 1573973088778,
     "user": {
      "displayName": "이선화",
      "photoUrl": "https://lh3.googleusercontent.com/a-/AAuE7mAaVHDHE1MIY1LHmJ_yWOBQMBjk_0EAJ4f0eWo-=s64",
      "userId": "17814374716323603424"
     },
     "user_tz": -540
    },
    "id": "szyBa-qNGTFK",
    "outputId": "1224267d-d99c-4376-8f9b-03276a220531"
   },
   "outputs": [
    {
     "data": {
      "text/plain": [
       "(64,)"
      ]
     },
     "execution_count": 31,
     "metadata": {},
     "output_type": "execute_result"
    }
   ],
   "source": [
    "arr.shape"
   ]
  },
  {
   "cell_type": "code",
   "execution_count": 32,
   "metadata": {
    "colab": {},
    "colab_type": "code",
    "id": "mBFMxHBEGTFM"
   },
   "outputs": [],
   "source": [
    "arr = np.expand_dims(np.expand_dims(arr, -1), 0)"
   ]
  },
  {
   "cell_type": "code",
   "execution_count": 33,
   "metadata": {
    "colab": {
     "base_uri": "https://localhost:8080/",
     "height": 0
    },
    "colab_type": "code",
    "executionInfo": {
     "elapsed": 2680,
     "status": "ok",
     "timestamp": 1573973088779,
     "user": {
      "displayName": "이선화",
      "photoUrl": "https://lh3.googleusercontent.com/a-/AAuE7mAaVHDHE1MIY1LHmJ_yWOBQMBjk_0EAJ4f0eWo-=s64",
      "userId": "17814374716323603424"
     },
     "user_tz": -540
    },
    "id": "COOtarhZGTFP",
    "outputId": "ad765742-d45d-4887-b38c-0d9f1e6b1450"
   },
   "outputs": [
    {
     "data": {
      "text/plain": [
       "(1, 64, 1)"
      ]
     },
     "execution_count": 33,
     "metadata": {},
     "output_type": "execute_result"
    }
   ],
   "source": [
    "arr.shape"
   ]
  },
  {
   "cell_type": "markdown",
   "metadata": {
    "colab_type": "text",
    "id": "99WO-gYjGTFR"
   },
   "source": [
    "## 특정값으로 초기화된 배열의 생성 \n",
    "\n",
    "* np.zeros() : 0으로 초기화된 배열의 생성\n",
    "* np.ones() : 1로 초기화된 배열의 생성\n",
    "* np.arange() : 정수 일렬번호로 초기화된 배열의 생성"
   ]
  },
  {
   "cell_type": "markdown",
   "metadata": {
    "colab_type": "text",
    "id": "eRkkjXZ0GTFS"
   },
   "source": [
    "0으로 채워진 numpy array를 만들 수 있음"
   ]
  },
  {
   "cell_type": "code",
   "execution_count": 34,
   "metadata": {
    "colab": {
     "base_uri": "https://localhost:8080/",
     "height": 0
    },
    "colab_type": "code",
    "executionInfo": {
     "elapsed": 2678,
     "status": "ok",
     "timestamp": 1573973088780,
     "user": {
      "displayName": "이선화",
      "photoUrl": "https://lh3.googleusercontent.com/a-/AAuE7mAaVHDHE1MIY1LHmJ_yWOBQMBjk_0EAJ4f0eWo-=s64",
      "userId": "17814374716323603424"
     },
     "user_tz": -540
    },
    "id": "-hXp81gyGTFT",
    "outputId": "9d302d36-2250-4696-a0eb-cef9e0d4555d"
   },
   "outputs": [
    {
     "data": {
      "text/plain": [
       "array([[0., 0., 0.],\n",
       "       [0., 0., 0.],\n",
       "       [0., 0., 0.]])"
      ]
     },
     "execution_count": 34,
     "metadata": {},
     "output_type": "execute_result"
    }
   ],
   "source": [
    "zeros = np.zeros([3, 3])\n",
    "zeros"
   ]
  },
  {
   "cell_type": "code",
   "execution_count": 35,
   "metadata": {
    "colab": {
     "base_uri": "https://localhost:8080/",
     "height": 0
    },
    "colab_type": "code",
    "executionInfo": {
     "elapsed": 2675,
     "status": "ok",
     "timestamp": 1573973088780,
     "user": {
      "displayName": "이선화",
      "photoUrl": "https://lh3.googleusercontent.com/a-/AAuE7mAaVHDHE1MIY1LHmJ_yWOBQMBjk_0EAJ4f0eWo-=s64",
      "userId": "17814374716323603424"
     },
     "user_tz": -540
    },
    "id": "sYPD1QJJGTFU",
    "outputId": "dbb32d4f-751c-492b-f340-ccf6025e6398"
   },
   "outputs": [
    {
     "data": {
      "text/plain": [
       "array([0.])"
      ]
     },
     "execution_count": 35,
     "metadata": {},
     "output_type": "execute_result"
    }
   ],
   "source": [
    "zeros = np.zeros(1)\n",
    "zeros"
   ]
  },
  {
   "cell_type": "code",
   "execution_count": 36,
   "metadata": {
    "colab": {
     "base_uri": "https://localhost:8080/",
     "height": 0
    },
    "colab_type": "code",
    "executionInfo": {
     "elapsed": 2673,
     "status": "ok",
     "timestamp": 1573973088781,
     "user": {
      "displayName": "이선화",
      "photoUrl": "https://lh3.googleusercontent.com/a-/AAuE7mAaVHDHE1MIY1LHmJ_yWOBQMBjk_0EAJ4f0eWo-=s64",
      "userId": "17814374716323603424"
     },
     "user_tz": -540
    },
    "id": "I9OgtYHmGTFW",
    "outputId": "1b6cb483-283c-420c-aaea-61d885bac301"
   },
   "outputs": [
    {
     "data": {
      "text/plain": [
       "array([[1., 1., 1., 1., 1.],\n",
       "       [1., 1., 1., 1., 1.],\n",
       "       [1., 1., 1., 1., 1.],\n",
       "       [1., 1., 1., 1., 1.],\n",
       "       [1., 1., 1., 1., 1.],\n",
       "       [1., 1., 1., 1., 1.],\n",
       "       [1., 1., 1., 1., 1.],\n",
       "       [1., 1., 1., 1., 1.],\n",
       "       [1., 1., 1., 1., 1.],\n",
       "       [1., 1., 1., 1., 1.]])"
      ]
     },
     "execution_count": 36,
     "metadata": {},
     "output_type": "execute_result"
    }
   ],
   "source": [
    "ones = np.ones([10, 5])\n",
    "ones"
   ]
  },
  {
   "cell_type": "code",
   "execution_count": 37,
   "metadata": {
    "colab": {
     "base_uri": "https://localhost:8080/",
     "height": 0
    },
    "colab_type": "code",
    "executionInfo": {
     "elapsed": 2670,
     "status": "ok",
     "timestamp": 1573973088781,
     "user": {
      "displayName": "이선화",
      "photoUrl": "https://lh3.googleusercontent.com/a-/AAuE7mAaVHDHE1MIY1LHmJ_yWOBQMBjk_0EAJ4f0eWo-=s64",
      "userId": "17814374716323603424"
     },
     "user_tz": -540
    },
    "id": "YOocWvRFGTFX",
    "outputId": "0986036c-3c24-45e8-808a-e27c247f3529"
   },
   "outputs": [
    {
     "data": {
      "text/plain": [
       "array([[5., 5., 5., 5., 5.],\n",
       "       [5., 5., 5., 5., 5.],\n",
       "       [5., 5., 5., 5., 5.],\n",
       "       [5., 5., 5., 5., 5.],\n",
       "       [5., 5., 5., 5., 5.],\n",
       "       [5., 5., 5., 5., 5.],\n",
       "       [5., 5., 5., 5., 5.],\n",
       "       [5., 5., 5., 5., 5.],\n",
       "       [5., 5., 5., 5., 5.],\n",
       "       [5., 5., 5., 5., 5.]])"
      ]
     },
     "execution_count": 37,
     "metadata": {},
     "output_type": "execute_result"
    }
   ],
   "source": [
    "ones * 5"
   ]
  },
  {
   "cell_type": "code",
   "execution_count": 38,
   "metadata": {
    "colab": {
     "base_uri": "https://localhost:8080/",
     "height": 0
    },
    "colab_type": "code",
    "executionInfo": {
     "elapsed": 2668,
     "status": "ok",
     "timestamp": 1573973088782,
     "user": {
      "displayName": "이선화",
      "photoUrl": "https://lh3.googleusercontent.com/a-/AAuE7mAaVHDHE1MIY1LHmJ_yWOBQMBjk_0EAJ4f0eWo-=s64",
      "userId": "17814374716323603424"
     },
     "user_tz": -540
    },
    "id": "x27EwIwFGTFZ",
    "outputId": "e47c6dd6-3396-4081-b004-dca9d3b28468"
   },
   "outputs": [
    {
     "data": {
      "text/plain": [
       "array([0, 1, 2, 3, 4])"
      ]
     },
     "execution_count": 38,
     "metadata": {},
     "output_type": "execute_result"
    }
   ],
   "source": [
    "arr = np.arange(5)\n",
    "arr"
   ]
  },
  {
   "cell_type": "code",
   "execution_count": 39,
   "metadata": {
    "colab": {
     "base_uri": "https://localhost:8080/",
     "height": 0
    },
    "colab_type": "code",
    "executionInfo": {
     "elapsed": 2665,
     "status": "ok",
     "timestamp": 1573973088782,
     "user": {
      "displayName": "이선화",
      "photoUrl": "https://lh3.googleusercontent.com/a-/AAuE7mAaVHDHE1MIY1LHmJ_yWOBQMBjk_0EAJ4f0eWo-=s64",
      "userId": "17814374716323603424"
     },
     "user_tz": -540
    },
    "id": "ilC1NAhyGTFb",
    "outputId": "6e87ebeb-2792-4b57-9a14-82efe10a9f2f"
   },
   "outputs": [
    {
     "data": {
      "text/plain": [
       "array([4, 5, 6, 7, 8])"
      ]
     },
     "execution_count": 39,
     "metadata": {},
     "output_type": "execute_result"
    }
   ],
   "source": [
    "arr = np.arange(4, 9)\n",
    "arr"
   ]
  },
  {
   "cell_type": "code",
   "execution_count": 40,
   "metadata": {
    "colab": {
     "base_uri": "https://localhost:8080/",
     "height": 0
    },
    "colab_type": "code",
    "executionInfo": {
     "elapsed": 2663,
     "status": "ok",
     "timestamp": 1573973088783,
     "user": {
      "displayName": "이선화",
      "photoUrl": "https://lh3.googleusercontent.com/a-/AAuE7mAaVHDHE1MIY1LHmJ_yWOBQMBjk_0EAJ4f0eWo-=s64",
      "userId": "17814374716323603424"
     },
     "user_tz": -540
    },
    "id": "6XYIxXYjGTFd",
    "outputId": "3427ed63-f4a5-4cda-c63f-a829d4de64c4"
   },
   "outputs": [
    {
     "data": {
      "text/plain": [
       "array([10, 11, 12, 13, 14, 15, 16, 17, 18, 19])"
      ]
     },
     "execution_count": 40,
     "metadata": {},
     "output_type": "execute_result"
    }
   ],
   "source": [
    "arr = np.arange(10, 20)\n",
    "arr"
   ]
  },
  {
   "cell_type": "code",
   "execution_count": 41,
   "metadata": {
    "colab": {
     "base_uri": "https://localhost:8080/",
     "height": 0
    },
    "colab_type": "code",
    "executionInfo": {
     "elapsed": 2661,
     "status": "ok",
     "timestamp": 1573973088784,
     "user": {
      "displayName": "이선화",
      "photoUrl": "https://lh3.googleusercontent.com/a-/AAuE7mAaVHDHE1MIY1LHmJ_yWOBQMBjk_0EAJ4f0eWo-=s64",
      "userId": "17814374716323603424"
     },
     "user_tz": -540
    },
    "id": "6rx_7EAoGTFg",
    "outputId": "c97d9e58-fbf7-4e91-e715-89b491b138a3"
   },
   "outputs": [
    {
     "data": {
      "text/plain": [
       "array([[0, 1, 2],\n",
       "       [3, 4, 5],\n",
       "       [6, 7, 8]])"
      ]
     },
     "execution_count": 41,
     "metadata": {},
     "output_type": "execute_result"
    }
   ],
   "source": [
    "arr = np.arange(9).reshape(3, 3)\n",
    "arr"
   ]
  },
  {
   "cell_type": "markdown",
   "metadata": {
    "colab_type": "text",
    "id": "2RzgU2d6GTFi"
   },
   "source": [
    "## 배열의 조회 - Indexing"
   ]
  },
  {
   "cell_type": "code",
   "execution_count": 42,
   "metadata": {
    "colab": {},
    "colab_type": "code",
    "id": "UFb6yXSzGTFj"
   },
   "outputs": [],
   "source": [
    "nums = [1, 2, 3, 4, 5]"
   ]
  },
  {
   "cell_type": "code",
   "execution_count": 43,
   "metadata": {
    "colab": {
     "base_uri": "https://localhost:8080/",
     "height": 34
    },
    "colab_type": "code",
    "executionInfo": {
     "elapsed": 2656,
     "status": "ok",
     "timestamp": 1573973088785,
     "user": {
      "displayName": "이선화",
      "photoUrl": "https://lh3.googleusercontent.com/a-/AAuE7mAaVHDHE1MIY1LHmJ_yWOBQMBjk_0EAJ4f0eWo-=s64",
      "userId": "17814374716323603424"
     },
     "user_tz": -540
    },
    "id": "kVL2_MeDGTFk",
    "outputId": "4e039f60-f37b-4a12-e421-d049a5c9724b"
   },
   "outputs": [
    {
     "data": {
      "text/plain": [
       "[3, 4, 5]"
      ]
     },
     "execution_count": 43,
     "metadata": {},
     "output_type": "execute_result"
    }
   ],
   "source": [
    "nums[2:]"
   ]
  },
  {
   "cell_type": "code",
   "execution_count": 44,
   "metadata": {
    "colab": {
     "base_uri": "https://localhost:8080/",
     "height": 34
    },
    "colab_type": "code",
    "executionInfo": {
     "elapsed": 3440,
     "status": "ok",
     "timestamp": 1573973089572,
     "user": {
      "displayName": "이선화",
      "photoUrl": "https://lh3.googleusercontent.com/a-/AAuE7mAaVHDHE1MIY1LHmJ_yWOBQMBjk_0EAJ4f0eWo-=s64",
      "userId": "17814374716323603424"
     },
     "user_tz": -540
    },
    "id": "lRXcO1IHGTFp",
    "outputId": "bcee01b4-6e02-433f-8f25-3befc363087d"
   },
   "outputs": [
    {
     "data": {
      "text/plain": [
       "[1, 2, 3, 4, [1, 2, 3]]"
      ]
     },
     "execution_count": 44,
     "metadata": {},
     "output_type": "execute_result"
    }
   ],
   "source": [
    "nums = [1, 2, 3, 4, [1, 2, 3]]\n",
    "nums"
   ]
  },
  {
   "cell_type": "code",
   "execution_count": 45,
   "metadata": {
    "colab": {
     "base_uri": "https://localhost:8080/",
     "height": 34
    },
    "colab_type": "code",
    "executionInfo": {
     "elapsed": 3437,
     "status": "ok",
     "timestamp": 1573973089573,
     "user": {
      "displayName": "이선화",
      "photoUrl": "https://lh3.googleusercontent.com/a-/AAuE7mAaVHDHE1MIY1LHmJ_yWOBQMBjk_0EAJ4f0eWo-=s64",
      "userId": "17814374716323603424"
     },
     "user_tz": -540
    },
    "id": "rz2qjaLVGTFx",
    "outputId": "1f140fb4-e916-467e-dba7-8f1eab70247c"
   },
   "outputs": [
    {
     "data": {
      "text/plain": [
       "[1, 2, 3]"
      ]
     },
     "execution_count": 45,
     "metadata": {},
     "output_type": "execute_result"
    }
   ],
   "source": [
    "nums[4]"
   ]
  },
  {
   "cell_type": "code",
   "execution_count": 46,
   "metadata": {
    "colab": {
     "base_uri": "https://localhost:8080/",
     "height": 34
    },
    "colab_type": "code",
    "executionInfo": {
     "elapsed": 3435,
     "status": "ok",
     "timestamp": 1573973089574,
     "user": {
      "displayName": "이선화",
      "photoUrl": "https://lh3.googleusercontent.com/a-/AAuE7mAaVHDHE1MIY1LHmJ_yWOBQMBjk_0EAJ4f0eWo-=s64",
      "userId": "17814374716323603424"
     },
     "user_tz": -540
    },
    "id": "uo05aQSVGTFy",
    "outputId": "3506381d-9f3c-4e04-994c-d18ab26edcb3"
   },
   "outputs": [
    {
     "data": {
      "text/plain": [
       "5"
      ]
     },
     "execution_count": 46,
     "metadata": {},
     "output_type": "execute_result"
    }
   ],
   "source": [
    "arr[1][2]"
   ]
  },
  {
   "cell_type": "code",
   "execution_count": 47,
   "metadata": {
    "colab": {
     "base_uri": "https://localhost:8080/",
     "height": 34
    },
    "colab_type": "code",
    "executionInfo": {
     "elapsed": 3432,
     "status": "ok",
     "timestamp": 1573973089574,
     "user": {
      "displayName": "이선화",
      "photoUrl": "https://lh3.googleusercontent.com/a-/AAuE7mAaVHDHE1MIY1LHmJ_yWOBQMBjk_0EAJ4f0eWo-=s64",
      "userId": "17814374716323603424"
     },
     "user_tz": -540
    },
    "id": "Z_TyOH2NGTF2",
    "outputId": "ac998721-f966-4bbe-f5f9-1808dc359c1e"
   },
   "outputs": [
    {
     "data": {
      "text/plain": [
       "5"
      ]
     },
     "execution_count": 47,
     "metadata": {},
     "output_type": "execute_result"
    }
   ],
   "source": [
    "arr[1, 2]"
   ]
  },
  {
   "cell_type": "markdown",
   "metadata": {
    "colab_type": "text",
    "id": "gvY7gJOYGTF4"
   },
   "source": [
    "## 배열 Slicing"
   ]
  },
  {
   "cell_type": "code",
   "execution_count": 48,
   "metadata": {
    "colab": {
     "base_uri": "https://localhost:8080/",
     "height": 70
    },
    "colab_type": "code",
    "executionInfo": {
     "elapsed": 3430,
     "status": "ok",
     "timestamp": 1573973089575,
     "user": {
      "displayName": "이선화",
      "photoUrl": "https://lh3.googleusercontent.com/a-/AAuE7mAaVHDHE1MIY1LHmJ_yWOBQMBjk_0EAJ4f0eWo-=s64",
      "userId": "17814374716323603424"
     },
     "user_tz": -540
    },
    "id": "FLV68EiIGTF4",
    "outputId": "853abe11-3ca7-4b18-f814-3cdd134b2e9d"
   },
   "outputs": [
    {
     "data": {
      "text/plain": [
       "array([[0, 1, 2],\n",
       "       [3, 4, 5],\n",
       "       [6, 7, 8]])"
      ]
     },
     "execution_count": 48,
     "metadata": {},
     "output_type": "execute_result"
    }
   ],
   "source": [
    "arr"
   ]
  },
  {
   "cell_type": "code",
   "execution_count": 49,
   "metadata": {
    "colab": {
     "base_uri": "https://localhost:8080/",
     "height": 52
    },
    "colab_type": "code",
    "executionInfo": {
     "elapsed": 3428,
     "status": "ok",
     "timestamp": 1573973089576,
     "user": {
      "displayName": "이선화",
      "photoUrl": "https://lh3.googleusercontent.com/a-/AAuE7mAaVHDHE1MIY1LHmJ_yWOBQMBjk_0EAJ4f0eWo-=s64",
      "userId": "17814374716323603424"
     },
     "user_tz": -540
    },
    "id": "189vETjRGTF8",
    "outputId": "c76b447d-fcbd-4783-ad08-db259a80b419"
   },
   "outputs": [
    {
     "data": {
      "text/plain": [
       "array([[3, 4, 5],\n",
       "       [6, 7, 8]])"
      ]
     },
     "execution_count": 49,
     "metadata": {},
     "output_type": "execute_result"
    }
   ],
   "source": [
    "arr[1:]"
   ]
  },
  {
   "cell_type": "code",
   "execution_count": 50,
   "metadata": {
    "colab": {
     "base_uri": "https://localhost:8080/",
     "height": 52
    },
    "colab_type": "code",
    "executionInfo": {
     "elapsed": 3425,
     "status": "ok",
     "timestamp": 1573973089576,
     "user": {
      "displayName": "이선화",
      "photoUrl": "https://lh3.googleusercontent.com/a-/AAuE7mAaVHDHE1MIY1LHmJ_yWOBQMBjk_0EAJ4f0eWo-=s64",
      "userId": "17814374716323603424"
     },
     "user_tz": -540
    },
    "id": "a-ba3WRXGTF-",
    "outputId": "7e513fbc-d534-45d0-c3cb-2326f4726769"
   },
   "outputs": [
    {
     "data": {
      "text/plain": [
       "array([[4, 5],\n",
       "       [7, 8]])"
      ]
     },
     "execution_count": 50,
     "metadata": {},
     "output_type": "execute_result"
    }
   ],
   "source": [
    "arr[1:, 1:]"
   ]
  },
  {
   "cell_type": "code",
   "execution_count": 51,
   "metadata": {
    "colab": {
     "base_uri": "https://localhost:8080/",
     "height": 70
    },
    "colab_type": "code",
    "executionInfo": {
     "elapsed": 3423,
     "status": "ok",
     "timestamp": 1573973089577,
     "user": {
      "displayName": "이선화",
      "photoUrl": "https://lh3.googleusercontent.com/a-/AAuE7mAaVHDHE1MIY1LHmJ_yWOBQMBjk_0EAJ4f0eWo-=s64",
      "userId": "17814374716323603424"
     },
     "user_tz": -540
    },
    "id": "eiZqIr0OGTGA",
    "outputId": "711d2f6e-7514-4430-e0f7-8820893c6b56"
   },
   "outputs": [
    {
     "data": {
      "text/plain": [
       "array([[0, 1, 2],\n",
       "       [3, 4, 5],\n",
       "       [6, 7, 8]])"
      ]
     },
     "execution_count": 51,
     "metadata": {},
     "output_type": "execute_result"
    }
   ],
   "source": [
    "arr"
   ]
  },
  {
   "cell_type": "markdown",
   "metadata": {
    "colab_type": "text",
    "id": "_lc8IRRNGTGC"
   },
   "source": [
    "## Boolean Indexing"
   ]
  },
  {
   "cell_type": "code",
   "execution_count": 52,
   "metadata": {
    "colab": {
     "base_uri": "https://localhost:8080/",
     "height": 0
    },
    "colab_type": "code",
    "executionInfo": {
     "elapsed": 3421,
     "status": "ok",
     "timestamp": 1573973089577,
     "user": {
      "displayName": "이선화",
      "photoUrl": "https://lh3.googleusercontent.com/a-/AAuE7mAaVHDHE1MIY1LHmJ_yWOBQMBjk_0EAJ4f0eWo-=s64",
      "userId": "17814374716323603424"
     },
     "user_tz": -540
    },
    "id": "6AvxvJhpGTGC",
    "outputId": "77d2afad-764d-4dff-83ab-fbba327f1716"
   },
   "outputs": [
    {
     "data": {
      "text/plain": [
       "array([[ 0.98402659, -0.20927682,  0.13073257],\n",
       "       [ 1.12193198, -0.2340369 ,  0.88349116],\n",
       "       [ 1.1581458 ,  0.06015592,  0.50482061]])"
      ]
     },
     "execution_count": 52,
     "metadata": {},
     "output_type": "execute_result"
    }
   ],
   "source": [
    "data = np.random.randn(3, 3)\n",
    "data"
   ]
  },
  {
   "cell_type": "code",
   "execution_count": 53,
   "metadata": {
    "colab": {
     "base_uri": "https://localhost:8080/",
     "height": 0
    },
    "colab_type": "code",
    "executionInfo": {
     "elapsed": 3419,
     "status": "ok",
     "timestamp": 1573973089578,
     "user": {
      "displayName": "이선화",
      "photoUrl": "https://lh3.googleusercontent.com/a-/AAuE7mAaVHDHE1MIY1LHmJ_yWOBQMBjk_0EAJ4f0eWo-=s64",
      "userId": "17814374716323603424"
     },
     "user_tz": -540
    },
    "id": "mZplHW7XGTGD",
    "outputId": "e7997539-be15-4b8a-ae24-e9b5e9950ec7"
   },
   "outputs": [
    {
     "data": {
      "text/plain": [
       "array([[False,  True, False],\n",
       "       [False,  True, False],\n",
       "       [False, False, False]])"
      ]
     },
     "execution_count": 53,
     "metadata": {},
     "output_type": "execute_result"
    }
   ],
   "source": [
    "data <= 0"
   ]
  },
  {
   "cell_type": "code",
   "execution_count": 54,
   "metadata": {
    "colab": {},
    "colab_type": "code",
    "id": "3ytBTtztGTGF"
   },
   "outputs": [],
   "source": [
    "data[data <= 0] = 1"
   ]
  },
  {
   "cell_type": "code",
   "execution_count": 55,
   "metadata": {
    "colab": {
     "base_uri": "https://localhost:8080/",
     "height": 0
    },
    "colab_type": "code",
    "executionInfo": {
     "elapsed": 3414,
     "status": "ok",
     "timestamp": 1573973089579,
     "user": {
      "displayName": "이선화",
      "photoUrl": "https://lh3.googleusercontent.com/a-/AAuE7mAaVHDHE1MIY1LHmJ_yWOBQMBjk_0EAJ4f0eWo-=s64",
      "userId": "17814374716323603424"
     },
     "user_tz": -540
    },
    "id": "EvX8s1vgGTGH",
    "outputId": "db67218e-a5de-4dbc-c8e8-2de5d62f8412"
   },
   "outputs": [
    {
     "data": {
      "text/plain": [
       "array([[0.98402659, 1.        , 0.13073257],\n",
       "       [1.12193198, 1.        , 0.88349116],\n",
       "       [1.1581458 , 0.06015592, 0.50482061]])"
      ]
     },
     "execution_count": 55,
     "metadata": {},
     "output_type": "execute_result"
    }
   ],
   "source": [
    "data"
   ]
  },
  {
   "cell_type": "markdown",
   "metadata": {
    "colab_type": "text",
    "id": "Zm-dwkXHGTGI"
   },
   "source": [
    "### Broadcasting\n",
    "\n",
    "브로드캐스팅은 모양이 다른 배열끼리의 연산도 가능하게 해주며 모양이 부족한 부분은 확장하여 연산을 수행할 수 있도록 한다."
   ]
  },
  {
   "cell_type": "code",
   "execution_count": 56,
   "metadata": {
    "colab": {},
    "colab_type": "code",
    "id": "z8JUqZL0GTGJ"
   },
   "outputs": [],
   "source": [
    "import numpy as np"
   ]
  },
  {
   "cell_type": "code",
   "execution_count": 57,
   "metadata": {
    "colab": {
     "base_uri": "https://localhost:8080/",
     "height": 70
    },
    "colab_type": "code",
    "executionInfo": {
     "elapsed": 3394,
     "status": "ok",
     "timestamp": 1573973089581,
     "user": {
      "displayName": "이선화",
      "photoUrl": "https://lh3.googleusercontent.com/a-/AAuE7mAaVHDHE1MIY1LHmJ_yWOBQMBjk_0EAJ4f0eWo-=s64",
      "userId": "17814374716323603424"
     },
     "user_tz": -540
    },
    "id": "egnf6o1mGTGL",
    "outputId": "c2e2a171-b6af-47be-f024-b50837cf658c"
   },
   "outputs": [
    {
     "data": {
      "text/plain": [
       "array([[0, 1, 2],\n",
       "       [3, 4, 5],\n",
       "       [6, 7, 8]])"
      ]
     },
     "execution_count": 57,
     "metadata": {},
     "output_type": "execute_result"
    }
   ],
   "source": [
    "arr = np.arange(9).reshape(3, 3)\n",
    "arr"
   ]
  },
  {
   "cell_type": "code",
   "execution_count": 58,
   "metadata": {
    "colab": {
     "base_uri": "https://localhost:8080/",
     "height": 70
    },
    "colab_type": "code",
    "executionInfo": {
     "elapsed": 3383,
     "status": "ok",
     "timestamp": 1573973089581,
     "user": {
      "displayName": "이선화",
      "photoUrl": "https://lh3.googleusercontent.com/a-/AAuE7mAaVHDHE1MIY1LHmJ_yWOBQMBjk_0EAJ4f0eWo-=s64",
      "userId": "17814374716323603424"
     },
     "user_tz": -540
    },
    "id": "2caHTEbdGTGN",
    "outputId": "50d4b4d8-2262-4fad-e5f3-2debf24fe760"
   },
   "outputs": [
    {
     "data": {
      "text/plain": [
       "array([[ 3,  4,  5],\n",
       "       [ 6,  7,  8],\n",
       "       [ 9, 10, 11]])"
      ]
     },
     "execution_count": 58,
     "metadata": {},
     "output_type": "execute_result"
    }
   ],
   "source": [
    "arr + 3"
   ]
  },
  {
   "cell_type": "code",
   "execution_count": 59,
   "metadata": {
    "colab": {
     "base_uri": "https://localhost:8080/",
     "height": 70
    },
    "colab_type": "code",
    "executionInfo": {
     "elapsed": 3372,
     "status": "ok",
     "timestamp": 1573973089582,
     "user": {
      "displayName": "이선화",
      "photoUrl": "https://lh3.googleusercontent.com/a-/AAuE7mAaVHDHE1MIY1LHmJ_yWOBQMBjk_0EAJ4f0eWo-=s64",
      "userId": "17814374716323603424"
     },
     "user_tz": -540
    },
    "id": "WaRwMrDrGTGR",
    "outputId": "c2b3cf94-a098-4903-f4ac-961702fe4b00"
   },
   "outputs": [
    {
     "data": {
      "text/plain": [
       "array([[ 0,  3,  6],\n",
       "       [ 9, 12, 15],\n",
       "       [18, 21, 24]])"
      ]
     },
     "execution_count": 59,
     "metadata": {},
     "output_type": "execute_result"
    }
   ],
   "source": [
    "arr * 3"
   ]
  },
  {
   "cell_type": "code",
   "execution_count": 60,
   "metadata": {
    "colab": {
     "base_uri": "https://localhost:8080/",
     "height": 70
    },
    "colab_type": "code",
    "executionInfo": {
     "elapsed": 3360,
     "status": "ok",
     "timestamp": 1573973089582,
     "user": {
      "displayName": "이선화",
      "photoUrl": "https://lh3.googleusercontent.com/a-/AAuE7mAaVHDHE1MIY1LHmJ_yWOBQMBjk_0EAJ4f0eWo-=s64",
      "userId": "17814374716323603424"
     },
     "user_tz": -540
    },
    "id": "DPk82m5CGTGS",
    "outputId": "e4eb7c84-600a-44b7-a222-8d7f2d932645"
   },
   "outputs": [
    {
     "data": {
      "text/plain": [
       "array([[0, 1, 2],\n",
       "       [3, 4, 5],\n",
       "       [6, 7, 8]])"
      ]
     },
     "execution_count": 60,
     "metadata": {},
     "output_type": "execute_result"
    }
   ],
   "source": [
    "arr"
   ]
  },
  {
   "cell_type": "code",
   "execution_count": 61,
   "metadata": {
    "colab": {
     "base_uri": "https://localhost:8080/",
     "height": 70
    },
    "colab_type": "code",
    "executionInfo": {
     "elapsed": 3350,
     "status": "ok",
     "timestamp": 1573973089583,
     "user": {
      "displayName": "이선화",
      "photoUrl": "https://lh3.googleusercontent.com/a-/AAuE7mAaVHDHE1MIY1LHmJ_yWOBQMBjk_0EAJ4f0eWo-=s64",
      "userId": "17814374716323603424"
     },
     "user_tz": -540
    },
    "id": "kMGvmoODGTGU",
    "outputId": "2393c285-0d61-4385-a390-9ba42597db4d"
   },
   "outputs": [
    {
     "data": {
      "text/plain": [
       "array([[ 1,  3,  5],\n",
       "       [ 4,  6,  8],\n",
       "       [ 7,  9, 11]])"
      ]
     },
     "execution_count": 61,
     "metadata": {},
     "output_type": "execute_result"
    }
   ],
   "source": [
    "arr + np.array([1, 2, 3])"
   ]
  },
  {
   "cell_type": "markdown",
   "metadata": {
    "colab_type": "text",
    "id": "n8QcrO2QGTGW"
   },
   "source": [
    "## 배열의 연산,  Math Function"
   ]
  },
  {
   "cell_type": "code",
   "execution_count": 62,
   "metadata": {
    "colab": {
     "base_uri": "https://localhost:8080/",
     "height": 70
    },
    "colab_type": "code",
    "executionInfo": {
     "elapsed": 3340,
     "status": "ok",
     "timestamp": 1573973089584,
     "user": {
      "displayName": "이선화",
      "photoUrl": "https://lh3.googleusercontent.com/a-/AAuE7mAaVHDHE1MIY1LHmJ_yWOBQMBjk_0EAJ4f0eWo-=s64",
      "userId": "17814374716323603424"
     },
     "user_tz": -540
    },
    "id": "Hu2Ezp9KGTGX",
    "outputId": "c4648de1-79bd-4d12-b12b-6285d748d7a2"
   },
   "outputs": [
    {
     "data": {
      "text/plain": [
       "array([[10, 11, 12],\n",
       "       [13, 14, 15],\n",
       "       [16, 17, 18]])"
      ]
     },
     "execution_count": 62,
     "metadata": {},
     "output_type": "execute_result"
    }
   ],
   "source": [
    "arr + 10"
   ]
  },
  {
   "cell_type": "code",
   "execution_count": 63,
   "metadata": {
    "colab": {
     "base_uri": "https://localhost:8080/",
     "height": 70
    },
    "colab_type": "code",
    "executionInfo": {
     "elapsed": 3329,
     "status": "ok",
     "timestamp": 1573973089584,
     "user": {
      "displayName": "이선화",
      "photoUrl": "https://lh3.googleusercontent.com/a-/AAuE7mAaVHDHE1MIY1LHmJ_yWOBQMBjk_0EAJ4f0eWo-=s64",
      "userId": "17814374716323603424"
     },
     "user_tz": -540
    },
    "id": "p3b61dReGTGZ",
    "outputId": "f5d43d13-9543-43e5-b51a-afda372fc23e"
   },
   "outputs": [
    {
     "data": {
      "text/plain": [
       "array([[ 0,  5, 10],\n",
       "       [15, 20, 25],\n",
       "       [30, 35, 40]])"
      ]
     },
     "execution_count": 63,
     "metadata": {},
     "output_type": "execute_result"
    }
   ],
   "source": [
    "arr * 5"
   ]
  },
  {
   "cell_type": "code",
   "execution_count": 64,
   "metadata": {
    "colab": {
     "base_uri": "https://localhost:8080/",
     "height": 70
    },
    "colab_type": "code",
    "executionInfo": {
     "elapsed": 3318,
     "status": "ok",
     "timestamp": 1573973089585,
     "user": {
      "displayName": "이선화",
      "photoUrl": "https://lh3.googleusercontent.com/a-/AAuE7mAaVHDHE1MIY1LHmJ_yWOBQMBjk_0EAJ4f0eWo-=s64",
      "userId": "17814374716323603424"
     },
     "user_tz": -540
    },
    "id": "k1kRncnKGTGb",
    "outputId": "81e53936-9876-496c-abf3-5c0c18565a07"
   },
   "outputs": [
    {
     "data": {
      "text/plain": [
       "array([[ 0,  2,  4],\n",
       "       [ 6,  8, 10],\n",
       "       [12, 14, 16]])"
      ]
     },
     "execution_count": 64,
     "metadata": {},
     "output_type": "execute_result"
    }
   ],
   "source": [
    "arr + arr"
   ]
  },
  {
   "cell_type": "code",
   "execution_count": 65,
   "metadata": {
    "colab": {
     "base_uri": "https://localhost:8080/",
     "height": 70
    },
    "colab_type": "code",
    "executionInfo": {
     "elapsed": 3308,
     "status": "ok",
     "timestamp": 1573973089586,
     "user": {
      "displayName": "이선화",
      "photoUrl": "https://lh3.googleusercontent.com/a-/AAuE7mAaVHDHE1MIY1LHmJ_yWOBQMBjk_0EAJ4f0eWo-=s64",
      "userId": "17814374716323603424"
     },
     "user_tz": -540
    },
    "id": "mg10AkeyGTGc",
    "outputId": "26806b4a-647c-4d96-bd3c-6ee6e8c442f7"
   },
   "outputs": [
    {
     "data": {
      "text/plain": [
       "array([[1, 2, 3],\n",
       "       [4, 5, 6],\n",
       "       [7, 8, 9]])"
      ]
     },
     "execution_count": 65,
     "metadata": {},
     "output_type": "execute_result"
    }
   ],
   "source": [
    "np.add(arr, 1)"
   ]
  },
  {
   "cell_type": "code",
   "execution_count": 66,
   "metadata": {
    "colab": {
     "base_uri": "https://localhost:8080/",
     "height": 70
    },
    "colab_type": "code",
    "executionInfo": {
     "elapsed": 3296,
     "status": "ok",
     "timestamp": 1573973089586,
     "user": {
      "displayName": "이선화",
      "photoUrl": "https://lh3.googleusercontent.com/a-/AAuE7mAaVHDHE1MIY1LHmJ_yWOBQMBjk_0EAJ4f0eWo-=s64",
      "userId": "17814374716323603424"
     },
     "user_tz": -540
    },
    "id": "J7VKime3GTGf",
    "outputId": "e29a4dd6-7fff-4928-a807-feef4c533405"
   },
   "outputs": [
    {
     "data": {
      "text/plain": [
       "array([[1, 2, 3],\n",
       "       [4, 5, 6],\n",
       "       [7, 8, 9]])"
      ]
     },
     "execution_count": 66,
     "metadata": {},
     "output_type": "execute_result"
    }
   ],
   "source": [
    "arr + 1"
   ]
  },
  {
   "cell_type": "code",
   "execution_count": 67,
   "metadata": {
    "colab": {
     "base_uri": "https://localhost:8080/",
     "height": 70
    },
    "colab_type": "code",
    "executionInfo": {
     "elapsed": 3285,
     "status": "ok",
     "timestamp": 1573973089587,
     "user": {
      "displayName": "이선화",
      "photoUrl": "https://lh3.googleusercontent.com/a-/AAuE7mAaVHDHE1MIY1LHmJ_yWOBQMBjk_0EAJ4f0eWo-=s64",
      "userId": "17814374716323603424"
     },
     "user_tz": -540
    },
    "id": "zorMe3sbGTGh",
    "outputId": "f96bd533-7505-4121-d9e0-0ce7f1ecb459"
   },
   "outputs": [
    {
     "data": {
      "text/plain": [
       "array([[ 0,  3,  6],\n",
       "       [ 9, 12, 15],\n",
       "       [18, 21, 24]])"
      ]
     },
     "execution_count": 67,
     "metadata": {},
     "output_type": "execute_result"
    }
   ],
   "source": [
    "np.multiply(arr, 3)"
   ]
  },
  {
   "cell_type": "code",
   "execution_count": 68,
   "metadata": {
    "colab": {},
    "colab_type": "code",
    "id": "DWRJJzmcGTGj"
   },
   "outputs": [],
   "source": [
    "np.random.seed(0) \n",
    "arr = np.random.randint(2, size=27).reshape(3, 3, 3)  # 랜덤 정수로 초기화된 배열의 생성\n",
    "arr_2 = np.random.randint(2, size=9).reshape(3, 3) # 랜덤 정수로 초기화된 배열의 생성"
   ]
  },
  {
   "cell_type": "code",
   "execution_count": 69,
   "metadata": {
    "colab": {
     "base_uri": "https://localhost:8080/",
     "height": 34
    },
    "colab_type": "code",
    "executionInfo": {
     "elapsed": 3271,
     "status": "ok",
     "timestamp": 1573973089588,
     "user": {
      "displayName": "이선화",
      "photoUrl": "https://lh3.googleusercontent.com/a-/AAuE7mAaVHDHE1MIY1LHmJ_yWOBQMBjk_0EAJ4f0eWo-=s64",
      "userId": "17814374716323603424"
     },
     "user_tz": -540
    },
    "id": "-a45MuEBGTGk",
    "outputId": "1490e44f-0577-416e-8ea3-edf902bf89af"
   },
   "outputs": [
    {
     "data": {
      "text/plain": [
       "((3, 3, 3), (3, 3))"
      ]
     },
     "execution_count": 69,
     "metadata": {},
     "output_type": "execute_result"
    }
   ],
   "source": [
    "arr.shape, arr_2.shape"
   ]
  },
  {
   "cell_type": "code",
   "execution_count": 70,
   "metadata": {
    "colab": {
     "base_uri": "https://localhost:8080/",
     "height": 210
    },
    "colab_type": "code",
    "executionInfo": {
     "elapsed": 4251,
     "status": "ok",
     "timestamp": 1573973090579,
     "user": {
      "displayName": "이선화",
      "photoUrl": "https://lh3.googleusercontent.com/a-/AAuE7mAaVHDHE1MIY1LHmJ_yWOBQMBjk_0EAJ4f0eWo-=s64",
      "userId": "17814374716323603424"
     },
     "user_tz": -540
    },
    "id": "qVMx3NyNGTGm",
    "outputId": "1e43fee8-30b9-4b33-8e72-834447d19159"
   },
   "outputs": [
    {
     "data": {
      "text/plain": [
       "array([[[1, 2, 1],\n",
       "        [1, 1, 2],\n",
       "        [1, 2, 2]],\n",
       "\n",
       "       [[2, 2, 0],\n",
       "        [1, 1, 1],\n",
       "        [0, 1, 1]],\n",
       "\n",
       "       [[1, 2, 0],\n",
       "        [2, 1, 1],\n",
       "        [0, 2, 2]]])"
      ]
     },
     "execution_count": 70,
     "metadata": {},
     "output_type": "execute_result"
    }
   ],
   "source": [
    "arr + arr_2 # 브로드캐스팅을 통한 연산"
   ]
  },
  {
   "cell_type": "code",
   "execution_count": 71,
   "metadata": {
    "colab": {
     "base_uri": "https://localhost:8080/",
     "height": 210
    },
    "colab_type": "code",
    "executionInfo": {
     "elapsed": 4242,
     "status": "ok",
     "timestamp": 1573973090581,
     "user": {
      "displayName": "이선화",
      "photoUrl": "https://lh3.googleusercontent.com/a-/AAuE7mAaVHDHE1MIY1LHmJ_yWOBQMBjk_0EAJ4f0eWo-=s64",
      "userId": "17814374716323603424"
     },
     "user_tz": -540
    },
    "id": "Ud8aXonVGTGn",
    "outputId": "4d6100ae-4552-4082-f561-103e1e1ac52d"
   },
   "outputs": [
    {
     "data": {
      "text/plain": [
       "array([[[0, 1, 0],\n",
       "        [0, 0, 1],\n",
       "        [0, 1, 1]],\n",
       "\n",
       "       [[1, 1, 0],\n",
       "        [0, 0, 0],\n",
       "        [0, 0, 0]],\n",
       "\n",
       "       [[0, 1, 0],\n",
       "        [1, 0, 0],\n",
       "        [0, 1, 1]]])"
      ]
     },
     "execution_count": 71,
     "metadata": {},
     "output_type": "execute_result"
    }
   ],
   "source": [
    "arr * arr_2"
   ]
  },
  {
   "cell_type": "code",
   "execution_count": 72,
   "metadata": {
    "colab": {
     "base_uri": "https://localhost:8080/",
     "height": 34
    },
    "colab_type": "code",
    "executionInfo": {
     "elapsed": 4230,
     "status": "ok",
     "timestamp": 1573973090582,
     "user": {
      "displayName": "이선화",
      "photoUrl": "https://lh3.googleusercontent.com/a-/AAuE7mAaVHDHE1MIY1LHmJ_yWOBQMBjk_0EAJ4f0eWo-=s64",
      "userId": "17814374716323603424"
     },
     "user_tz": -540
    },
    "id": "g5o4bJLRGTGp",
    "outputId": "d8bb8fc7-a9c4-4355-8b06-eec08d547752"
   },
   "outputs": [
    {
     "data": {
      "text/plain": [
       "15"
      ]
     },
     "execution_count": 72,
     "metadata": {},
     "output_type": "execute_result"
    }
   ],
   "source": [
    "np.sum(arr)"
   ]
  },
  {
   "cell_type": "code",
   "execution_count": 73,
   "metadata": {
    "colab": {
     "base_uri": "https://localhost:8080/",
     "height": 34
    },
    "colab_type": "code",
    "executionInfo": {
     "elapsed": 4219,
     "status": "ok",
     "timestamp": 1573973090582,
     "user": {
      "displayName": "이선화",
      "photoUrl": "https://lh3.googleusercontent.com/a-/AAuE7mAaVHDHE1MIY1LHmJ_yWOBQMBjk_0EAJ4f0eWo-=s64",
      "userId": "17814374716323603424"
     },
     "user_tz": -540
    },
    "id": "iQ7pzR0uGTGr",
    "outputId": "56240362-781f-4d6a-884d-d4ee018c42c6"
   },
   "outputs": [
    {
     "data": {
      "text/plain": [
       "33"
      ]
     },
     "execution_count": 73,
     "metadata": {},
     "output_type": "execute_result"
    }
   ],
   "source": [
    "np.sum(arr + arr_2)"
   ]
  },
  {
   "cell_type": "code",
   "execution_count": 74,
   "metadata": {
    "colab": {
     "base_uri": "https://localhost:8080/",
     "height": 210
    },
    "colab_type": "code",
    "executionInfo": {
     "elapsed": 4207,
     "status": "ok",
     "timestamp": 1573973090583,
     "user": {
      "displayName": "이선화",
      "photoUrl": "https://lh3.googleusercontent.com/a-/AAuE7mAaVHDHE1MIY1LHmJ_yWOBQMBjk_0EAJ4f0eWo-=s64",
      "userId": "17814374716323603424"
     },
     "user_tz": -540
    },
    "id": "SkXdMTXyGTGs",
    "outputId": "3e9df71a-bb9d-44f2-a2d9-9e8aad5a16c1"
   },
   "outputs": [
    {
     "data": {
      "text/plain": [
       "array([[[1, 2, 1],\n",
       "        [1, 1, 2],\n",
       "        [1, 2, 2]],\n",
       "\n",
       "       [[2, 2, 0],\n",
       "        [1, 1, 1],\n",
       "        [0, 1, 1]],\n",
       "\n",
       "       [[1, 2, 0],\n",
       "        [2, 1, 1],\n",
       "        [0, 2, 2]]])"
      ]
     },
     "execution_count": 74,
     "metadata": {},
     "output_type": "execute_result"
    }
   ],
   "source": [
    "arr + arr_2"
   ]
  },
  {
   "cell_type": "code",
   "execution_count": 75,
   "metadata": {},
   "outputs": [
    {
     "data": {
      "text/plain": [
       "(3, 3, 3)"
      ]
     },
     "execution_count": 75,
     "metadata": {},
     "output_type": "execute_result"
    }
   ],
   "source": [
    "(arr + arr_2).shape"
   ]
  },
  {
   "cell_type": "code",
   "execution_count": 76,
   "metadata": {
    "colab": {
     "base_uri": "https://localhost:8080/",
     "height": 34
    },
    "colab_type": "code",
    "executionInfo": {
     "elapsed": 4196,
     "status": "ok",
     "timestamp": 1573973090584,
     "user": {
      "displayName": "이선화",
      "photoUrl": "https://lh3.googleusercontent.com/a-/AAuE7mAaVHDHE1MIY1LHmJ_yWOBQMBjk_0EAJ4f0eWo-=s64",
      "userId": "17814374716323603424"
     },
     "user_tz": -540
    },
    "id": "LdVgfsN5GTGu",
    "outputId": "aca32088-25ad-4bc6-f3db-50272153855a"
   },
   "outputs": [
    {
     "data": {
      "text/plain": [
       "2"
      ]
     },
     "execution_count": 76,
     "metadata": {},
     "output_type": "execute_result"
    }
   ],
   "source": [
    "np.max(arr + arr_2)"
   ]
  },
  {
   "cell_type": "code",
   "execution_count": 77,
   "metadata": {
    "colab": {
     "base_uri": "https://localhost:8080/",
     "height": 34
    },
    "colab_type": "code",
    "executionInfo": {
     "elapsed": 4184,
     "status": "ok",
     "timestamp": 1573973090584,
     "user": {
      "displayName": "이선화",
      "photoUrl": "https://lh3.googleusercontent.com/a-/AAuE7mAaVHDHE1MIY1LHmJ_yWOBQMBjk_0EAJ4f0eWo-=s64",
      "userId": "17814374716323603424"
     },
     "user_tz": -540
    },
    "id": "NKo4FjLcGTGw",
    "outputId": "5e23616d-024b-481c-ef84-ac70aa39ec16"
   },
   "outputs": [
    {
     "data": {
      "text/plain": [
       "0"
      ]
     },
     "execution_count": 77,
     "metadata": {},
     "output_type": "execute_result"
    }
   ],
   "source": [
    "np.min(arr + arr_2)"
   ]
  },
  {
   "cell_type": "code",
   "execution_count": 78,
   "metadata": {
    "colab": {
     "base_uri": "https://localhost:8080/",
     "height": 70
    },
    "colab_type": "code",
    "executionInfo": {
     "elapsed": 4174,
     "status": "ok",
     "timestamp": 1573973090585,
     "user": {
      "displayName": "이선화",
      "photoUrl": "https://lh3.googleusercontent.com/a-/AAuE7mAaVHDHE1MIY1LHmJ_yWOBQMBjk_0EAJ4f0eWo-=s64",
      "userId": "17814374716323603424"
     },
     "user_tz": -540
    },
    "id": "HoU20oI2GTGx",
    "outputId": "1c572a07-a992-427b-c571-93c3b877c32c"
   },
   "outputs": [
    {
     "data": {
      "text/plain": [
       "array([[2, 2, 2],\n",
       "       [2, 1, 1],\n",
       "       [2, 2, 2]])"
      ]
     },
     "execution_count": 78,
     "metadata": {},
     "output_type": "execute_result"
    }
   ],
   "source": [
    "np.max(arr + arr_2, axis=-1) # axis = -1 은 이 경우 axis=2와 동일하다."
   ]
  },
  {
   "cell_type": "code",
   "execution_count": 79,
   "metadata": {
    "colab": {
     "base_uri": "https://localhost:8080/",
     "height": 70
    },
    "colab_type": "code",
    "executionInfo": {
     "elapsed": 4152,
     "status": "ok",
     "timestamp": 1573973090586,
     "user": {
      "displayName": "이선화",
      "photoUrl": "https://lh3.googleusercontent.com/a-/AAuE7mAaVHDHE1MIY1LHmJ_yWOBQMBjk_0EAJ4f0eWo-=s64",
      "userId": "17814374716323603424"
     },
     "user_tz": -540
    },
    "id": "98prVRYFGTG0",
    "outputId": "9499b203-3023-4a23-cd8f-e28284acc9fd"
   },
   "outputs": [
    {
     "data": {
      "text/plain": [
       "array([[4, 4, 5],\n",
       "       [4, 3, 2],\n",
       "       [3, 4, 4]])"
      ]
     },
     "execution_count": 79,
     "metadata": {},
     "output_type": "execute_result"
    }
   ],
   "source": [
    "np.sum(arr + arr_2, axis=-1)"
   ]
  },
  {
   "cell_type": "code",
   "execution_count": 80,
   "metadata": {
    "colab": {
     "base_uri": "https://localhost:8080/",
     "height": 34
    },
    "colab_type": "code",
    "executionInfo": {
     "elapsed": 4143,
     "status": "ok",
     "timestamp": 1573973090587,
     "user": {
      "displayName": "이선화",
      "photoUrl": "https://lh3.googleusercontent.com/a-/AAuE7mAaVHDHE1MIY1LHmJ_yWOBQMBjk_0EAJ4f0eWo-=s64",
      "userId": "17814374716323603424"
     },
     "user_tz": -540
    },
    "id": "OMLQnDkoGTG5",
    "outputId": "635ebe48-6354-481a-976d-18e7cfdb999a"
   },
   "outputs": [
    {
     "data": {
      "text/plain": [
       "0.5555555555555556"
      ]
     },
     "execution_count": 80,
     "metadata": {},
     "output_type": "execute_result"
    }
   ],
   "source": [
    "np.mean(arr)"
   ]
  },
  {
   "cell_type": "markdown",
   "metadata": {},
   "source": [
    "* np.argmax() : 배열에서 최대값의 index를 리턴\n",
    "* np.argmin() : 배열에서 최소값의 index를 리턴"
   ]
  },
  {
   "cell_type": "code",
   "execution_count": 81,
   "metadata": {
    "colab": {
     "base_uri": "https://localhost:8080/",
     "height": 34
    },
    "colab_type": "code",
    "executionInfo": {
     "elapsed": 4132,
     "status": "ok",
     "timestamp": 1573973090587,
     "user": {
      "displayName": "이선화",
      "photoUrl": "https://lh3.googleusercontent.com/a-/AAuE7mAaVHDHE1MIY1LHmJ_yWOBQMBjk_0EAJ4f0eWo-=s64",
      "userId": "17814374716323603424"
     },
     "user_tz": -540
    },
    "id": "HjJcm7E2GTG7",
    "outputId": "0d87b773-91f0-4f5f-cd90-539afecf6461"
   },
   "outputs": [
    {
     "data": {
      "text/plain": [
       "array([1, 6, 3, 7, 3, 2, 9, 0, 2])"
      ]
     },
     "execution_count": 81,
     "metadata": {},
     "output_type": "execute_result"
    }
   ],
   "source": [
    "arr = np.array([1, 6, 3, 7, 3, 2, 9, 0, 2])\n",
    "arr"
   ]
  },
  {
   "cell_type": "code",
   "execution_count": 82,
   "metadata": {
    "colab": {
     "base_uri": "https://localhost:8080/",
     "height": 34
    },
    "colab_type": "code",
    "executionInfo": {
     "elapsed": 4118,
     "status": "ok",
     "timestamp": 1573973090588,
     "user": {
      "displayName": "이선화",
      "photoUrl": "https://lh3.googleusercontent.com/a-/AAuE7mAaVHDHE1MIY1LHmJ_yWOBQMBjk_0EAJ4f0eWo-=s64",
      "userId": "17814374716323603424"
     },
     "user_tz": -540
    },
    "id": "PuElo3ajGTG8",
    "outputId": "d1a76f6d-bdfb-4abb-a323-60a09683eb2e"
   },
   "outputs": [
    {
     "data": {
      "text/plain": [
       "6"
      ]
     },
     "execution_count": 82,
     "metadata": {},
     "output_type": "execute_result"
    }
   ],
   "source": [
    "np.argmax(arr)"
   ]
  },
  {
   "cell_type": "code",
   "execution_count": 83,
   "metadata": {
    "colab": {
     "base_uri": "https://localhost:8080/",
     "height": 34
    },
    "colab_type": "code",
    "executionInfo": {
     "elapsed": 4107,
     "status": "ok",
     "timestamp": 1573973090588,
     "user": {
      "displayName": "이선화",
      "photoUrl": "https://lh3.googleusercontent.com/a-/AAuE7mAaVHDHE1MIY1LHmJ_yWOBQMBjk_0EAJ4f0eWo-=s64",
      "userId": "17814374716323603424"
     },
     "user_tz": -540
    },
    "id": "8Cble8tnGTG9",
    "outputId": "b97e61e8-3874-48c8-d5cd-d933d89dbea0"
   },
   "outputs": [
    {
     "data": {
      "text/plain": [
       "7"
      ]
     },
     "execution_count": 83,
     "metadata": {},
     "output_type": "execute_result"
    }
   ],
   "source": [
    "np.argmin(arr)"
   ]
  },
  {
   "cell_type": "markdown",
   "metadata": {},
   "source": [
    "np.unique() - 이 함수는 입력된 배열에서 중복되지 않는 고유한 요소들의 배열을 리턴한다.\n",
    "* return_counts = True - 중복 되지 않는 요소들의 개수를 리턴한다."
   ]
  },
  {
   "cell_type": "code",
   "execution_count": 84,
   "metadata": {
    "colab": {},
    "colab_type": "code",
    "id": "-kBpg3SSGTG_"
   },
   "outputs": [],
   "source": [
    "arr = np.array([3, 5, 6, 6, 3, 3, 1])"
   ]
  },
  {
   "cell_type": "code",
   "execution_count": 85,
   "metadata": {
    "colab": {
     "base_uri": "https://localhost:8080/",
     "height": 34
    },
    "colab_type": "code",
    "executionInfo": {
     "elapsed": 4093,
     "status": "ok",
     "timestamp": 1573973090589,
     "user": {
      "displayName": "이선화",
      "photoUrl": "https://lh3.googleusercontent.com/a-/AAuE7mAaVHDHE1MIY1LHmJ_yWOBQMBjk_0EAJ4f0eWo-=s64",
      "userId": "17814374716323603424"
     },
     "user_tz": -540
    },
    "id": "McIHcDaEGTHA",
    "outputId": "5103a98d-42bc-46da-b9d5-f8a7dd1d07f0"
   },
   "outputs": [
    {
     "data": {
      "text/plain": [
       "array([1, 3, 5, 6])"
      ]
     },
     "execution_count": 85,
     "metadata": {},
     "output_type": "execute_result"
    }
   ],
   "source": [
    "np.unique(arr) "
   ]
  },
  {
   "cell_type": "code",
   "execution_count": 86,
   "metadata": {
    "colab": {
     "base_uri": "https://localhost:8080/",
     "height": 34
    },
    "colab_type": "code",
    "executionInfo": {
     "elapsed": 4091,
     "status": "ok",
     "timestamp": 1573973090590,
     "user": {
      "displayName": "이선화",
      "photoUrl": "https://lh3.googleusercontent.com/a-/AAuE7mAaVHDHE1MIY1LHmJ_yWOBQMBjk_0EAJ4f0eWo-=s64",
      "userId": "17814374716323603424"
     },
     "user_tz": -540
    },
    "id": "ayvYwatLGflT",
    "outputId": "3162e1ee-da95-4238-88d2-56817443265f"
   },
   "outputs": [
    {
     "data": {
      "text/plain": [
       "(array([1, 3, 5, 6]), array([1, 3, 1, 2], dtype=int64))"
      ]
     },
     "execution_count": 86,
     "metadata": {},
     "output_type": "execute_result"
    }
   ],
   "source": [
    "np.unique(arr, return_counts=True)  "
   ]
  },
  {
   "cell_type": "markdown",
   "metadata": {},
   "source": [
    "### 행렬의 기본연산"
   ]
  },
  {
   "cell_type": "code",
   "execution_count": 87,
   "metadata": {},
   "outputs": [
    {
     "name": "stdout",
     "output_type": "stream",
     "text": [
      "[[1 2 3]\n",
      " [4 5 6]]\n",
      "[[2 3 4]\n",
      " [5 6 7]]\n"
     ]
    }
   ],
   "source": [
    "E = np.arange(1,7).reshape(2,3);\n",
    "print(E)\n",
    "print(E + 1)"
   ]
  },
  {
   "cell_type": "code",
   "execution_count": 88,
   "metadata": {},
   "outputs": [
    {
     "data": {
      "text/plain": [
       "array([[ 2,  4,  6],\n",
       "       [ 8, 10, 12]])"
      ]
     },
     "execution_count": 88,
     "metadata": {},
     "output_type": "execute_result"
    }
   ],
   "source": [
    "E + E"
   ]
  },
  {
   "cell_type": "code",
   "execution_count": 89,
   "metadata": {},
   "outputs": [
    {
     "data": {
      "text/plain": [
       "array([[ 1,  2,  3],\n",
       "       [ 8, 10, 12]])"
      ]
     },
     "execution_count": 89,
     "metadata": {},
     "output_type": "execute_result"
    }
   ],
   "source": [
    "F = np.array([1,2]).reshape(-1,1) \n",
    "E * F   #  E 의 첫 행에는 1을 곱하고 두 번쨰 행에는 2를 곱한 결과을 얻습니다."
   ]
  },
  {
   "cell_type": "code",
   "execution_count": 90,
   "metadata": {},
   "outputs": [
    {
     "name": "stdout",
     "output_type": "stream",
     "text": [
      "[[1 2 3]\n",
      " [4 5 6]]\n",
      "[[1]\n",
      " [0]\n",
      " [1]]\n"
     ]
    }
   ],
   "source": [
    "H = np.array([1,0,1]).reshape(-1,1)\n",
    "print(E)\n",
    "print(H)"
   ]
  },
  {
   "cell_type": "code",
   "execution_count": 91,
   "metadata": {},
   "outputs": [
    {
     "data": {
      "text/plain": [
       "array([[ 4],\n",
       "       [10]])"
      ]
     },
     "execution_count": 91,
     "metadata": {},
     "output_type": "execute_result"
    }
   ],
   "source": [
    "E.dot(H)  "
   ]
  },
  {
   "cell_type": "markdown",
   "metadata": {},
   "source": [
    "## 배열의 연결\n",
    "* np.hstack() : 배열을 수평방향으로 연결한다.\n",
    "* np.vstack() : 배열을 수직방향으로 연결한다."
   ]
  },
  {
   "cell_type": "code",
   "execution_count": 92,
   "metadata": {},
   "outputs": [
    {
     "data": {
      "text/plain": [
       "array([[1, 2, 3, 1, 2, 3],\n",
       "       [4, 5, 6, 4, 5, 6]])"
      ]
     },
     "execution_count": 92,
     "metadata": {},
     "output_type": "execute_result"
    }
   ],
   "source": [
    "np.hstack((E,E))"
   ]
  },
  {
   "cell_type": "code",
   "execution_count": 93,
   "metadata": {},
   "outputs": [
    {
     "data": {
      "text/plain": [
       "array([[1, 2, 3],\n",
       "       [4, 5, 6],\n",
       "       [1, 2, 3],\n",
       "       [4, 5, 6]])"
      ]
     },
     "execution_count": 93,
     "metadata": {},
     "output_type": "execute_result"
    }
   ],
   "source": [
    "np.vstack((E,E))"
   ]
  }
 ],
 "metadata": {
  "colab": {
   "collapsed_sections": [
    "iOO1ns0XGTE3",
    "-Dn2IiyhGTFB",
    "99WO-gYjGTFR",
    "_lc8IRRNGTGC"
   ],
   "name": "06numpy_기초2.ipynb",
   "provenance": []
  },
  "kernelspec": {
   "display_name": "Python 3",
   "language": "python",
   "name": "python3"
  },
  "language_info": {
   "codemirror_mode": {
    "name": "ipython",
    "version": 3
   },
   "file_extension": ".py",
   "mimetype": "text/x-python",
   "name": "python",
   "nbconvert_exporter": "python",
   "pygments_lexer": "ipython3",
   "version": "3.7.6"
  }
 },
 "nbformat": 4,
 "nbformat_minor": 1
}
