{
 "cells": [
  {
   "cell_type": "markdown",
   "metadata": {
    "colab_type": "text",
    "id": "HtPwysdT8heT"
   },
   "source": [
    "# 배열 생성 루틴 연습문제\n",
    "---"
   ]
  },
  {
   "cell_type": "markdown",
   "metadata": {
    "colab_type": "text",
    "id": "KWDqmRos8heU"
   },
   "source": [
    "## Ones and zeros"
   ]
  },
  {
   "cell_type": "code",
   "execution_count": null,
   "metadata": {
    "colab": {},
    "colab_type": "code",
    "id": "OUp3BBoy8heV"
   },
   "outputs": [],
   "source": [
    "import numpy as np"
   ]
  },
  {
   "cell_type": "markdown",
   "metadata": {
    "colab_type": "text",
    "id": "C7Kysj6y8heX"
   },
   "source": [
    "2*2 integers 다차원 배열을 초기화 하지 않은 상태로 생성하세요."
   ]
  },
  {
   "cell_type": "code",
   "execution_count": null,
   "metadata": {
    "colab": {
     "base_uri": "https://localhost:8080/",
     "height": 52
    },
    "colab_type": "code",
    "id": "OtYG0tjj8heY",
    "outputId": "1b578592-795c-4c2d-f14c-90e274f89d3a"
   },
   "outputs": [],
   "source": []
  },
  {
   "cell_type": "markdown",
   "metadata": {
    "colab_type": "text",
    "id": "bwsOgHgH8heb"
   },
   "source": [
    "X = np.array([1,2,3], [4,5,6], np.int32) 일 때,\n",
    "X와 동일한 shape를 가지는 다차원 배열을 초기화 하지 않은 상태로 생성하세요."
   ]
  },
  {
   "cell_type": "code",
   "execution_count": null,
   "metadata": {
    "colab": {
     "base_uri": "https://localhost:8080/",
     "height": 52
    },
    "colab_type": "code",
    "id": "RJn9Pk-O8heb",
    "outputId": "1ed5c4b1-e927-47fa-ee72-6c50fe998ef5"
   },
   "outputs": [],
   "source": [
    "X = np.array([[1,2,3], [4,5,6]], np.int32)\n",
    "\n"
   ]
  },
  {
   "cell_type": "markdown",
   "metadata": {
    "colab_type": "text",
    "id": "imqaV0M88hee"
   },
   "source": [
    "크기가 3인 단위행렬을 생성하세요."
   ]
  },
  {
   "cell_type": "code",
   "execution_count": null,
   "metadata": {
    "colab": {
     "base_uri": "https://localhost:8080/",
     "height": 70
    },
    "colab_type": "code",
    "id": "gyIcftFt8hee",
    "outputId": "1ccc8fd3-e53b-4b10-fc8a-45809435c916"
   },
   "outputs": [],
   "source": []
  },
  {
   "cell_type": "code",
   "execution_count": null,
   "metadata": {
    "colab": {
     "base_uri": "https://localhost:8080/",
     "height": 70
    },
    "colab_type": "code",
    "id": "4x_qajzs8heh",
    "outputId": "73b4dea1-a9b8-49e4-b148-a47ee11d06de"
   },
   "outputs": [],
   "source": []
  },
  {
   "cell_type": "markdown",
   "metadata": {
    "colab_type": "text",
    "id": "VFRRrJ9D8hek"
   },
   "source": [
    "모든 원소가 1로 채워진 3*2 실수형 다차원 배열을 생성하세요."
   ]
  },
  {
   "cell_type": "code",
   "execution_count": null,
   "metadata": {
    "colab": {
     "base_uri": "https://localhost:8080/",
     "height": 70
    },
    "colab_type": "code",
    "id": "t6vKGD938hel",
    "outputId": "4b323978-e78f-4d7d-c8a6-2a2eeeb9aa64"
   },
   "outputs": [],
   "source": []
  },
  {
   "cell_type": "markdown",
   "metadata": {
    "colab_type": "text",
    "id": "GTVOFhzE8heo"
   },
   "source": [
    "x = np.arange(4, dtype=np.int64) 일 때,\n",
    "X와 동일한 shape를 가지고 모든 원소가 1인 다차원 배열을 생성하세요."
   ]
  },
  {
   "cell_type": "code",
   "execution_count": null,
   "metadata": {
    "colab": {
     "base_uri": "https://localhost:8080/",
     "height": 34
    },
    "colab_type": "code",
    "id": "ouBbvK7F8heo",
    "outputId": "18410b46-0f2d-4a28-9d54-e2f20f2b2a38"
   },
   "outputs": [],
   "source": [
    "x = np.arange(4, dtype=np.int64)\n"
   ]
  },
  {
   "cell_type": "markdown",
   "metadata": {
    "colab_type": "text",
    "id": "Aae3hd178heu"
   },
   "source": [
    "모든 원소가 0으로 채워진 3*2 실수형 다차원 배열을 생성하세요."
   ]
  },
  {
   "cell_type": "code",
   "execution_count": null,
   "metadata": {
    "colab": {
     "base_uri": "https://localhost:8080/",
     "height": 70
    },
    "colab_type": "code",
    "id": "OkRMwppD8hev",
    "outputId": "c7dc1f76-6a03-41f8-d02a-6e71b7f36305"
   },
   "outputs": [],
   "source": []
  },
  {
   "cell_type": "markdown",
   "metadata": {
    "colab_type": "text",
    "id": "bkr2PwSJ8hex"
   },
   "source": [
    "x = np.arange(4, dtype=np.int64) 일 때,\n",
    "\n",
    "x와 동일한 shape의 영행렬을 생성하세요."
   ]
  },
  {
   "cell_type": "code",
   "execution_count": null,
   "metadata": {
    "colab": {
     "base_uri": "https://localhost:8080/",
     "height": 34
    },
    "colab_type": "code",
    "id": "3ql8mTws8hey",
    "outputId": "bdb009b6-d187-4539-acc8-73250f8ce631"
   },
   "outputs": [],
   "source": [
    "x = np.arange(4, dtype=np.int64)\n"
   ]
  },
  {
   "cell_type": "markdown",
   "metadata": {
    "colab_type": "text",
    "id": "txKzANtn8he0"
   },
   "source": [
    "모든 원소가 6으로 채워진 2*5 uint형(부호없는 정수) 다차원 배열을 생성하세요."
   ]
  },
  {
   "cell_type": "code",
   "execution_count": null,
   "metadata": {
    "colab": {
     "base_uri": "https://localhost:8080/",
     "height": 52
    },
    "colab_type": "code",
    "id": "t2WN64Rm8he1",
    "outputId": "3f27dd44-1b0e-420d-b46e-4d8de9e6835e"
   },
   "outputs": [],
   "source": []
  },
  {
   "cell_type": "code",
   "execution_count": null,
   "metadata": {
    "colab": {
     "base_uri": "https://localhost:8080/",
     "height": 52
    },
    "colab_type": "code",
    "id": "RdWU5Wkt8he4",
    "outputId": "c5ad2224-2ef6-4e07-a34e-b1065cf54fa3"
   },
   "outputs": [],
   "source": []
  },
  {
   "cell_type": "markdown",
   "metadata": {
    "colab_type": "text",
    "id": "l9duF8VU8he7"
   },
   "source": [
    "x = np.arange(4, dtype=np.int64)일 때,\n",
    "\n",
    "x와 동일한 shape이고 모든 원소가 6인 다차원 배열을 생성하세요."
   ]
  },
  {
   "cell_type": "code",
   "execution_count": null,
   "metadata": {
    "colab": {},
    "colab_type": "code",
    "id": "LSpBX7m88he8",
    "outputId": "cf6d997b-cfaf-4e7a-de38-ee6b1b9b13c5"
   },
   "outputs": [],
   "source": [
    "x = np.arange(4, dtype=np.int64)\n"
   ]
  },
  {
   "cell_type": "code",
   "execution_count": null,
   "metadata": {
    "colab": {},
    "colab_type": "code",
    "id": "yZ6VHeZr8he_",
    "outputId": "5b2b92d2-764c-40a8-9feb-43c8fde48034"
   },
   "outputs": [],
   "source": []
  },
  {
   "cell_type": "markdown",
   "metadata": {
    "colab_type": "text",
    "id": "xg4td96X8hfC"
   },
   "source": [
    "## From existing data"
   ]
  },
  {
   "cell_type": "markdown",
   "metadata": {
    "colab_type": "text",
    "id": "_MIGNaIL8hfC"
   },
   "source": [
    "[1, 2, 3] 배열을 생성하세요"
   ]
  },
  {
   "cell_type": "code",
   "execution_count": null,
   "metadata": {
    "colab": {
     "base_uri": "https://localhost:8080/",
     "height": 34
    },
    "colab_type": "code",
    "id": "3oqvdI358hfD",
    "outputId": "8f96ea10-7fea-4f84-ee96-3745edfa9117"
   },
   "outputs": [],
   "source": []
  },
  {
   "cell_type": "markdown",
   "metadata": {
    "colab_type": "text",
    "id": "qmVtyAtU8hfF"
   },
   "source": [
    "x = [1, 2] 일 때(python list 상태)\n",
    "\n",
    "x를 배열로 변환하세요."
   ]
  },
  {
   "cell_type": "code",
   "execution_count": null,
   "metadata": {
    "colab": {
     "base_uri": "https://localhost:8080/",
     "height": 34
    },
    "colab_type": "code",
    "id": "95XdVp7r8hfG",
    "outputId": "e8ec195f-070e-48a8-b8a0-bb3da0cf9c19"
   },
   "outputs": [],
   "source": [
    "x = [1,2]\n"
   ]
  },
  {
   "cell_type": "code",
   "execution_count": null,
   "metadata": {
    "colab": {
     "base_uri": "https://localhost:8080/",
     "height": 34
    },
    "colab_type": "code",
    "id": "SvfisGDA8hfJ",
    "outputId": "eb7ec57a-68ad-436c-d39d-98e8f0d97cf7"
   },
   "outputs": [],
   "source": [
    "# 다른 솔루션\n",
    "np.asarray(x)"
   ]
  },
  {
   "cell_type": "markdown",
   "metadata": {
    "colab_type": "text",
    "id": "OwM6cmNR8hfT"
   },
   "source": [
    "x = [1, 2] 일 때(python list 상태)\n",
    "\n",
    "x를 `float`형 배열로 변환하세요."
   ]
  },
  {
   "cell_type": "code",
   "execution_count": null,
   "metadata": {
    "colab": {
     "base_uri": "https://localhost:8080/",
     "height": 34
    },
    "colab_type": "code",
    "id": "MEc-19yL8hfT",
    "outputId": "5cb2c3d3-8134-4370-b741-e6a8f3386af1"
   },
   "outputs": [],
   "source": [
    "x = [1, 2]\n"
   ]
  },
  {
   "cell_type": "code",
   "execution_count": null,
   "metadata": {
    "colab": {
     "base_uri": "https://localhost:8080/",
     "height": 34
    },
    "colab_type": "code",
    "id": "2I6yMIhB8hfX",
    "outputId": "7d5048e8-8357-4d74-e601-91e4b2989412"
   },
   "outputs": [],
   "source": [
    "# 다른 솔루션\n",
    "np.asarray(x, float)"
   ]
  },
  {
   "cell_type": "code",
   "execution_count": null,
   "metadata": {
    "colab": {
     "base_uri": "https://localhost:8080/",
     "height": 34
    },
    "colab_type": "code",
    "id": "-YNpBPSV8hfZ",
    "outputId": "17c00261-37ce-411c-cad7-b2f3ca934448"
   },
   "outputs": [],
   "source": [
    "# 다른 솔루션\n",
    "np.asfarray(x)"
   ]
  },
  {
   "cell_type": "markdown",
   "metadata": {
    "colab_type": "text",
    "id": "dZ7IVtFf8hfc"
   },
   "source": [
    "## Numerical ranges"
   ]
  },
  {
   "cell_type": "markdown",
   "metadata": {
    "colab_type": "text",
    "id": "DADUhFZj8hfd"
   },
   "source": [
    "2, 4, 6, 8, ..., 100 을 원소로 가지는 배열을 생성하세요."
   ]
  },
  {
   "cell_type": "code",
   "execution_count": null,
   "metadata": {
    "colab": {
     "base_uri": "https://localhost:8080/",
     "height": 87
    },
    "colab_type": "code",
    "id": "mUouo2na8hfd",
    "outputId": "d5a55027-b5cd-4bd7-a9da-480e4828a1aa"
   },
   "outputs": [],
   "source": []
  },
  {
   "cell_type": "markdown",
   "metadata": {
    "colab_type": "text",
    "id": "nz3GBp928hfg"
   },
   "source": [
    "3.0 에서 10.0 까지 50개의 원소가 균일하게 분포된 1차원 배열을 생성하세요."
   ]
  },
  {
   "cell_type": "code",
   "execution_count": null,
   "metadata": {
    "colab": {
     "base_uri": "https://localhost:8080/",
     "height": 193
    },
    "colab_type": "code",
    "id": "nZiYr0UBg1ce",
    "outputId": "1f28cd98-bb39-40c0-d189-4d324648501e"
   },
   "outputs": [],
   "source": []
  }
 ],
 "metadata": {
  "colab": {
   "collapsed_sections": [],
   "name": "1_배열생성.ipynb",
   "provenance": [],
   "version": "0.3.2"
  },
  "kernelspec": {
   "display_name": "Python 3",
   "language": "python",
   "name": "python3"
  },
  "language_info": {
   "codemirror_mode": {
    "name": "ipython",
    "version": 3
   },
   "file_extension": ".py",
   "mimetype": "text/x-python",
   "name": "python",
   "nbconvert_exporter": "python",
   "pygments_lexer": "ipython3",
   "version": "3.7.6"
  }
 },
 "nbformat": 4,
 "nbformat_minor": 1
}
